{
 "cells": [
  {
   "cell_type": "markdown",
   "metadata": {},
   "source": [
    "# Test Azure GPT-4 based model with RAG store of Top 500 Bioconductor package"
   ]
  },
  {
   "cell_type": "markdown",
   "metadata": {},
   "source": [
    "### Get relevant keys from Azure"
   ]
  },
  {
   "cell_type": "code",
   "execution_count": 2,
   "metadata": {},
   "outputs": [],
   "source": [
    "import os, openai, requests\n",
    "import pandas as pd\n",
    "    \n",
    "## Declare keys\n",
    "api_key = os.getenv(\"OPENAI_API_KEY\")\n",
    "search_key = os.getenv(\"OPENAI_SEARCH_KEY\")\n",
    "endpoint = os.getenv(\"OPENAI_ENDPOINT\")"
   ]
  },
  {
   "cell_type": "markdown",
   "metadata": {},
   "source": [
    "Declare the deployment name, endpoint and the name of the search index."
   ]
  },
  {
   "cell_type": "code",
   "execution_count": 3,
   "metadata": {},
   "outputs": [],
   "source": [
    "\n",
    "openai.api_type = \"azure\"\n",
    "# Azure OpenAI on your own data is only supported by the 2023-08-01-preview API version\n",
    "openai.api_version = \"2023-08-01-preview\"\n",
    "\n",
    "# Azure OpenAI setup\n",
    "openai.api_base = endpoint\n",
    "openai.api_key = api_key \n",
    "deployment_id = \"gpt-4-test\" \n",
    "\n",
    "# Azure AI Search setup\n",
    "search_endpoint = \"https://hmsaisearch.search.windows.net\"; # Add your Azure AI Search endpoint here\n",
    "search_index_name = \"bioc-top-500\"; # Add your Azure AI Search index name here\n",
    "    \n",
    "# https://hms-it-openai.openai.azure.com/openai/deployments/gpt-4-test/extensions/chat/completions?api-version=2024-02-15-preview"
   ]
  },
  {
   "cell_type": "markdown",
   "metadata": {},
   "source": [
    "Create a \"client\" object with AzureOpenAI with the correct api key."
   ]
  },
  {
   "cell_type": "code",
   "execution_count": 4,
   "metadata": {},
   "outputs": [],
   "source": [
    "# https://hms-it-openai.openai.azure.com/openai/deployments/gpt-4-test/extensions/chat/completions?api-version=2024-02-15-preview\n",
    "\n",
    "client = openai.AzureOpenAI(\n",
    "    base_url=f\"{endpoint}/openai/deployments/{deployment_id}/extensions\",\n",
    "    api_key=api_key,\n",
    "    api_version=\"2023-08-01-preview\",\n",
    ")"
   ]
  },
  {
   "cell_type": "markdown",
   "metadata": {},
   "source": [
    "Note: This step is to set up the RAG store i.e \"bring your own data\" search index that has to be registered with the deployment in hand - `gpt-4-test`."
   ]
  },
  {
   "cell_type": "code",
   "execution_count": 6,
   "metadata": {},
   "outputs": [],
   "source": [
    "def setup_byod(deployment_id: str) -> None:\n",
    "    \"\"\"Sets up the OpenAI Python SDK to use your own data for the chat endpoint.\n",
    " \n",
    "    :param deployment_id: The deployment ID for the model to use with your own data.\n",
    "\n",
    "    To remove this configuration, simply set openai.requestssession to None.\n",
    "    \"\"\"\n",
    "\n",
    "    class BringYourOwnDataAdapter(requests.adapters.HTTPAdapter):\n",
    "\n",
    "     def send(self, request, **kwargs):\n",
    "         request.url = f\"{openai.api_base}/openai/deployments/{deployment_id}/extensions/chat/completions?api-version={openai.api_version}\"\n",
    "         return super().send(request, **kwargs)\n",
    "\n",
    "    session = requests.Session()\n",
    "\n",
    "    # Mount a custom adapter which will use the extensions endpoint for any call using the given `deployment_id`\n",
    "    session.mount(\n",
    "        prefix=f\"{openai.api_base}/openai/deployments/{deployment_id}\",\n",
    "        adapter=BringYourOwnDataAdapter()\n",
    "    )\n",
    "\n",
    "    openai.requestssession = session\n",
    "\n",
    "setup_byod(deployment_id)"
   ]
  },
  {
   "cell_type": "markdown",
   "metadata": {},
   "source": [
    "### Generic function to ask a question from our BYOD model with GPT-4"
   ]
  },
  {
   "cell_type": "code",
   "execution_count": 7,
   "metadata": {},
   "outputs": [],
   "source": [
    "def ask_rag(question, verbose = False):\n",
    "\n",
    "    completion = client.chat.completions.create(\n",
    "        messages=[{\"role\": \"user\", \"content\": question}],\n",
    "        model=deployment_id,\n",
    "        extra_body={\n",
    "            \"dataSources\": [\n",
    "                {\n",
    "                    \"type\": \"AzureCognitiveSearch\",\n",
    "                    \"parameters\": {\n",
    "                        \"endpoint\": search_endpoint,\n",
    "                        \"key\": search_key,\n",
    "                        \"indexName\": search_index_name,\n",
    "                        \"roleInformation\": \"Act as an expert in the R programming language and the Bioconductor suite of packages.  ​\\n\\nYour job is to advise users on the usage of the various Bioconductor packages considering the documents you have in the data store.  ​\\n\\nTo complete this task, you can use the data you have stored that contain the vignettes of all the packages in Bioconductor and all the reference files of every function in every package of Bioconductor. ​You may also answer some general R, general programming, or Biomedical information.\\n\\nIf you do not know the answer ask the user to refer to https://bioconductor.org. \\n\\nAdd a disclaimer at the end of each response saying this model works only on the top 500 most used Bioconductor packages.\"\n",
    "                    }\n",
    "                }\n",
    "            ]\n",
    "        }\n",
    "    )\n",
    "    if (verbose == True):\n",
    "        print(f\"{completion.choices[0].message.role}: {completion.choices[0].message.content}\")\n",
    "\n",
    "    return(completion.choices[0].message.content)"
   ]
  },
  {
   "cell_type": "code",
   "execution_count": 79,
   "metadata": {},
   "outputs": [],
   "source": [
    "# `context` is in the model_extra for Azure\n",
    "# print(f\"\\nContext: {completion.choices[0].message.model_extra['context']['messages'][0]['content']}\")"
   ]
  },
  {
   "cell_type": "markdown",
   "metadata": {},
   "source": [
    "### Questions for SummarizedExperiemnt"
   ]
  },
  {
   "cell_type": "code",
   "execution_count": 8,
   "metadata": {},
   "outputs": [
    {
     "name": "stdout",
     "output_type": "stream",
     "text": [
      "assistant: The SummarizedExperiment package contains two classes: SummarizedExperiment and RangedSummarizedExperiment [doc1]. \n",
      "\n",
      "Please note that this information is based on the top 500 most used Bioconductor packages.\n"
     ]
    },
    {
     "data": {
      "text/plain": [
       "'The SummarizedExperiment package contains two classes: SummarizedExperiment and RangedSummarizedExperiment [doc1]. \\n\\nPlease note that this information is based on the top 500 most used Bioconductor packages.'"
      ]
     },
     "execution_count": 8,
     "metadata": {},
     "output_type": "execute_result"
    }
   ],
   "source": [
    "## summarized experiment \n",
    "question = \"How many classes are there in the Summarized Experiment package? Just give me a number.\"\n",
    "\n",
    "ask_rag(question, verbose=True)"
   ]
  },
  {
   "cell_type": "markdown",
   "metadata": {},
   "source": [
    "### Questions for DESeq2"
   ]
  },
  {
   "cell_type": "code",
   "execution_count": 81,
   "metadata": {},
   "outputs": [
    {
     "name": "stdout",
     "output_type": "stream",
     "text": [
      "assistant: DESeq2 estimates one size factor for each sample in your experiment. Therefore, if your experiment has 5 samples, DESeq2 will estimate 5 size factors [doc1]. \n",
      "\n",
      "Please note that this model works only on the top 500 most used Bioconductor packages.\n"
     ]
    },
    {
     "data": {
      "text/plain": [
       "'DESeq2 estimates one size factor for each sample in your experiment. Therefore, if your experiment has 5 samples, DESeq2 will estimate 5 size factors [doc1]. \\n\\nPlease note that this model works only on the top 500 most used Bioconductor packages.'"
      ]
     },
     "execution_count": 81,
     "metadata": {},
     "output_type": "execute_result"
    }
   ],
   "source": [
    "## DESeq2\n",
    "\n",
    "question = \"DESeq2 performs normalization by estimating size factors for each sample. If your experiment has 5 samples, how many size factors will DESeq2 estimate?\"\n",
    "\n",
    "ask_rag(question, verbose=True)"
   ]
  },
  {
   "cell_type": "markdown",
   "metadata": {},
   "source": [
    "### Questions for limma"
   ]
  },
  {
   "cell_type": "code",
   "execution_count": 82,
   "metadata": {},
   "outputs": [
    {
     "name": "stdout",
     "output_type": "stream",
     "text": [
      "assistant: In the context of a case-control study with 30 control samples and 30 case samples, when you fit a linear model using the limma package in R, you will estimate two coefficients. \n",
      "\n",
      "The first coefficient is the intercept, which represents the baseline level of gene expression in the reference group (usually the control group). The second coefficient is the slope, which represents the difference in gene expression between the case group and the control group. \n",
      "\n",
      "This is under the assumption that no additional covariates are included in the model. If additional covariates were included, each would have its own coefficient.\n",
      "\n",
      "Please note that this model works only on the top 500 most used Bioconductor packages. For more specific information, please refer to the limma documentation or the Bioconductor website [doc3][doc4].\n"
     ]
    },
    {
     "data": {
      "text/plain": [
       "'In the context of a case-control study with 30 control samples and 30 case samples, when you fit a linear model using the limma package in R, you will estimate two coefficients. \\n\\nThe first coefficient is the intercept, which represents the baseline level of gene expression in the reference group (usually the control group). The second coefficient is the slope, which represents the difference in gene expression between the case group and the control group. \\n\\nThis is under the assumption that no additional covariates are included in the model. If additional covariates were included, each would have its own coefficient.\\n\\nPlease note that this model works only on the top 500 most used Bioconductor packages. For more specific information, please refer to the limma documentation or the Bioconductor website [doc3][doc4].'"
      ]
     },
     "execution_count": 82,
     "metadata": {},
     "output_type": "execute_result"
    }
   ],
   "source": [
    "## Limma\n",
    "question = \"You use limma to analyze RNA-seq data from a case-control study with 30 control samples and 30 case samples. After fitting the linear model, how many coefficients will be estimated by limma for the gene expression data (assuming no additional covariates are included in the model)?\"\n",
    "\n",
    "ask_rag(question, verbose=True)"
   ]
  },
  {
   "cell_type": "markdown",
   "metadata": {},
   "source": [
    "### Questions for SingleCellExperiment\n",
    "\n",
    "This questions doesn't give a good answer."
   ]
  },
  {
   "cell_type": "code",
   "execution_count": 83,
   "metadata": {},
   "outputs": [
    {
     "name": "stdout",
     "output_type": "stream",
     "text": [
      "assistant: The SingleCellExperiment object is a complex object with multiple slots. However, the exact number of slots is not specified in the retrieved documents. The SingleCellExperiment object is designed to store single-cell experiment data, including assay data, feature data, and cell metadata. It is a part of the Bioconductor project and is used extensively in R for single-cell data analysis.\n",
      "\n",
      "For detailed information about the structure and slots of the SingleCellExperiment object, you can refer to the official Bioconductor documentation at https://bioconductor.org.\n",
      "\n",
      "Please note that this model works only on the top 500 most used Bioconductor packages.\n"
     ]
    },
    {
     "data": {
      "text/plain": [
       "'The SingleCellExperiment object is a complex object with multiple slots. However, the exact number of slots is not specified in the retrieved documents. The SingleCellExperiment object is designed to store single-cell experiment data, including assay data, feature data, and cell metadata. It is a part of the Bioconductor project and is used extensively in R for single-cell data analysis.\\n\\nFor detailed information about the structure and slots of the SingleCellExperiment object, you can refer to the official Bioconductor documentation at https://bioconductor.org.\\n\\nPlease note that this model works only on the top 500 most used Bioconductor packages.'"
      ]
     },
     "execution_count": 83,
     "metadata": {},
     "output_type": "execute_result"
    }
   ],
   "source": [
    "question = \"how many slots does the SingleCellExperiment object have?\"\n",
    "\n",
    "ask_rag(question, verbose=True)"
   ]
  },
  {
   "cell_type": "markdown",
   "metadata": {},
   "source": [
    "## Read in Bioc QA top 10 "
   ]
  },
  {
   "cell_type": "markdown",
   "metadata": {},
   "source": [
    "Read in with Pandas"
   ]
  },
  {
   "cell_type": "code",
   "execution_count": 84,
   "metadata": {},
   "outputs": [],
   "source": [
    "top_10_qs = pd.read_csv('bioc_qa_top10.csv')"
   ]
  },
  {
   "cell_type": "code",
   "execution_count": 85,
   "metadata": {},
   "outputs": [
    {
     "data": {
      "text/html": [
       "<div>\n",
       "<style scoped>\n",
       "    .dataframe tbody tr th:only-of-type {\n",
       "        vertical-align: middle;\n",
       "    }\n",
       "\n",
       "    .dataframe tbody tr th {\n",
       "        vertical-align: top;\n",
       "    }\n",
       "\n",
       "    .dataframe thead th {\n",
       "        text-align: right;\n",
       "    }\n",
       "</style>\n",
       "<table border=\"1\" class=\"dataframe\">\n",
       "  <thead>\n",
       "    <tr style=\"text-align: right;\">\n",
       "      <th></th>\n",
       "      <th>AID</th>\n",
       "      <th>QID</th>\n",
       "      <th>Question</th>\n",
       "      <th>Response</th>\n",
       "    </tr>\n",
       "  </thead>\n",
       "  <tbody>\n",
       "    <tr>\n",
       "      <th>0</th>\n",
       "      <td>answer1</td>\n",
       "      <td>question1</td>\n",
       "      <td>I am a bit confused about the concepts of the ...</td>\n",
       "      <td>The thing to understand is that terms like FDR...</td>\n",
       "    </tr>\n",
       "    <tr>\n",
       "      <th>1</th>\n",
       "      <td>answer2</td>\n",
       "      <td>question2</td>\n",
       "      <td>I am working on RNA-Seq data. I'm using DESeq2...</td>\n",
       "      <td>Just to be clear, there's an important differe...</td>\n",
       "    </tr>\n",
       "    <tr>\n",
       "      <th>2</th>\n",
       "      <td>answer3</td>\n",
       "      <td>question3</td>\n",
       "      <td>I am new in this kind of analysis and I have a...</td>\n",
       "      <td>There is no good way to do a DE analysis of RN...</td>\n",
       "    </tr>\n",
       "    <tr>\n",
       "      <th>3</th>\n",
       "      <td>answer4</td>\n",
       "      <td>question4</td>\n",
       "      <td>I am testing salmon and kallisto for RNA-seq. ...</td>\n",
       "      <td>To answer your questions:1) scaledTPM is TPM's...</td>\n",
       "    </tr>\n",
       "    <tr>\n",
       "      <th>4</th>\n",
       "      <td>answer5</td>\n",
       "      <td>question5</td>\n",
       "      <td>In all RNA-seq analysis applications they talk...</td>\n",
       "      <td>The most complete explanation of what the disp...</td>\n",
       "    </tr>\n",
       "    <tr>\n",
       "      <th>5</th>\n",
       "      <td>answer6</td>\n",
       "      <td>question6</td>\n",
       "      <td>I know findOverlaps() from GenomicRanges packa...</td>\n",
       "      <td>From the discussion below, an efficient starti...</td>\n",
       "    </tr>\n",
       "    <tr>\n",
       "      <th>6</th>\n",
       "      <td>answer7</td>\n",
       "      <td>question7</td>\n",
       "      <td>I have just downloaded CNV level 3 files from ...</td>\n",
       "      <td>I wrote two helper functions, explained belowg...</td>\n",
       "    </tr>\n",
       "    <tr>\n",
       "      <th>7</th>\n",
       "      <td>answer8</td>\n",
       "      <td>question8</td>\n",
       "      <td>How can I filter out the genes with low read c...</td>\n",
       "      <td>If you want to filter out genes with low expre...</td>\n",
       "    </tr>\n",
       "    <tr>\n",
       "      <th>8</th>\n",
       "      <td>answer9</td>\n",
       "      <td>question9</td>\n",
       "      <td>I am analysing my RNA-Seq data with DESeq2. At...</td>\n",
       "      <td>You can use the ensembldb package to do the ma...</td>\n",
       "    </tr>\n",
       "    <tr>\n",
       "      <th>9</th>\n",
       "      <td>answer10</td>\n",
       "      <td>question10</td>\n",
       "      <td>How do I merge a list of GRanges? What I want ...</td>\n",
       "      <td>Merge is a pretty vague term. My understanding...</td>\n",
       "    </tr>\n",
       "  </tbody>\n",
       "</table>\n",
       "</div>"
      ],
      "text/plain": [
       "        AID         QID                                           Question  \\\n",
       "0   answer1   question1  I am a bit confused about the concepts of the ...   \n",
       "1   answer2   question2  I am working on RNA-Seq data. I'm using DESeq2...   \n",
       "2   answer3   question3  I am new in this kind of analysis and I have a...   \n",
       "3   answer4   question4  I am testing salmon and kallisto for RNA-seq. ...   \n",
       "4   answer5   question5  In all RNA-seq analysis applications they talk...   \n",
       "5   answer6   question6  I know findOverlaps() from GenomicRanges packa...   \n",
       "6   answer7   question7  I have just downloaded CNV level 3 files from ...   \n",
       "7   answer8   question8  How can I filter out the genes with low read c...   \n",
       "8   answer9   question9  I am analysing my RNA-Seq data with DESeq2. At...   \n",
       "9  answer10  question10  How do I merge a list of GRanges? What I want ...   \n",
       "\n",
       "                                            Response  \n",
       "0  The thing to understand is that terms like FDR...  \n",
       "1  Just to be clear, there's an important differe...  \n",
       "2  There is no good way to do a DE analysis of RN...  \n",
       "3  To answer your questions:1) scaledTPM is TPM's...  \n",
       "4  The most complete explanation of what the disp...  \n",
       "5  From the discussion below, an efficient starti...  \n",
       "6  I wrote two helper functions, explained belowg...  \n",
       "7  If you want to filter out genes with low expre...  \n",
       "8  You can use the ensembldb package to do the ma...  \n",
       "9  Merge is a pretty vague term. My understanding...  "
      ]
     },
     "execution_count": 85,
     "metadata": {},
     "output_type": "execute_result"
    }
   ],
   "source": [
    "top_10_qs"
   ]
  },
  {
   "cell_type": "markdown",
   "metadata": {},
   "source": [
    "Ask the RAG model with the top 500 bioconductor packages questions from the `top_10_qs.csv` and append the responses to `azure_rag_responses`."
   ]
  },
  {
   "cell_type": "code",
   "execution_count": 86,
   "metadata": {},
   "outputs": [],
   "source": [
    "azure_rag_responses = []\n",
    "for question in top_10_qs[\"Question\"]:\n",
    "    response = ask_rag(question)\n",
    "    azure_rag_responses.append(response)\n"
   ]
  },
  {
   "cell_type": "markdown",
   "metadata": {},
   "source": [
    "## We now run the same model without RAG i.e just a generic GPT-4 model"
   ]
  },
  {
   "cell_type": "code",
   "execution_count": 31,
   "metadata": {},
   "outputs": [],
   "source": [
    "client = openai.AzureOpenAI(\n",
    "  azure_endpoint = os.getenv(\"OPENAI_ENDPOINT\"), \n",
    "  api_key=os.getenv(\"OPENAI_API_KEY\"),  \n",
    "  api_version=\"2024-02-15-preview\"\n",
    ")\n",
    "\n",
    "\n",
    "def ask_gpt4(question, verbose = False):\n",
    "    message_text = [{\"role\":\"system\",\"content\":\"You are an AI assistant that helps people find information.\"},\n",
    "                    {\"role\": \"user\", \"content\": question}]\n",
    "\n",
    "    completion = client.chat.completions.create(\n",
    "        model=\"gpt-4-test\", \n",
    "        messages = message_text,\n",
    "        temperature=0.0,\n",
    "        max_tokens=800,\n",
    "        top_p=0.95,\n",
    "        frequency_penalty=0,\n",
    "        presence_penalty=0,\n",
    "        stop=None\n",
    "    )\n",
    "\n",
    "    if (verbose == True):\n",
    "        print(f\"{completion.choices[0].message.role}: {completion.choices[0].message.content}\")\n",
    "\n",
    "    return(completion.choices[0].message.content)    \n"
   ]
  },
  {
   "cell_type": "code",
   "execution_count": 88,
   "metadata": {},
   "outputs": [],
   "source": [
    "azure_gpt4_temp0_responses = []\n",
    "for question in top_10_qs[\"Question\"]:\n",
    "    response = ask_gpt4(question)\n",
    "    azure_gpt4_temp0_responses.append(response)"
   ]
  },
  {
   "cell_type": "code",
   "execution_count": 89,
   "metadata": {},
   "outputs": [],
   "source": [
    "top_10_qs.insert(4, \"Response_Azure_Bioc_RAG\", azure_rag_responses, True)\n",
    "top_10_qs.insert(5, \"Response_Azure_GPT4_Temp0\", azure_gpt4_temp0_responses, True)\n",
    "top_10_qs.to_csv(\"top_10_qs_with_azure_RAG.csv\", index=False)\n"
   ]
  },
  {
   "cell_type": "markdown",
   "metadata": {},
   "source": [
    "### Evaluate firt question by eye"
   ]
  },
  {
   "cell_type": "code",
   "execution_count": 114,
   "metadata": {},
   "outputs": [
    {
     "name": "stdout",
     "output_type": "stream",
     "text": [
      "*****Question 1:******  I am a bit confused about the concepts of the 3 things: FDR, FDR adjusted p-value and q-value, which I initially thought I was clear about. Are FDR adjusted p-value the same as q-value? (my understanding is that FDR adjusted p-value = original p-value * number of genes/rank of the gene, is that right?) When people say xxx genes are differentially expressed with an FDR cutoff of 0.05, does that mean xxx genes have an FDR adjusted p-value smaller than 0.05?\n",
      "\n",
      "******Response Ground Truth:***** \n",
      " The thing to understand is that terms like FDR and q-value were defined in specific ways by their original inventors but are used in more generic ways by later researchers who adapt, modify or use the ideas.The term \"false discovery rate (FDR)\" was created by Benjamini and Hochberg in their 1995 paper. They gave a particular definition of what they meant by FDR.  Their procedure accepted or rejected hypotheses, but did not produce adjusted p-values.Benjamini and Yekutieli presented another more conservative algorithm to control the FDR in a 2001 paper. Same definition of FDR, but a different algorithm.In 2002, I re-interpreted the Benjamini and Hochberg (BH) and Benjamini and Yekutieli (BY) procedures in terms of adjusted p-values. I implemented the resulting algorithms in the function p.adjust() in the stats package, and used them in the limma package, and this lead to the concept of an FDR adjusted p-value. The terminology used by the p.adjust() function and limma packages has lead people to refer to \"BH adjusted p-values\".The adjusted p-value definition that you give is essentially the same as the BH adjusted p-value, except that you omitted the last step in the procedure. Your definition as it stands is not an increasing function of the original p-values.In 2002, John Storey created a new definition of \"false discovery rate\". Storey's definition is based on Benjamini and Hochberg's original idea, but is mathematically a bit more flexible. John Storey also created the terminology \"q-value\" for a quantity that estimates his definition of FDR. He implemented q-value estimation procedures in an R package called qvalue. Another important but often overlooked difference is the idea of FDR \"estimation\" vs FDR \"control\". The qvalue package attempts to give a more or less unbiased estimate of the FDR, so the true FDR is about equally likely to be greater or less in practice. The BH approach instead controls the expected FDR. It guarantees that the true FDR rate will be less than the specified rate on average if you do an exactly similar experiment over and over again. So the BH approach is slightly more conservative than qvalue. The BH properties hold regardless of the number of p-values, while qvalue is asymptotic, so the BH approach is more robust than qvalue when the number of hypotheses being tested isn't very large.So, strictly speaking, the q-value and the FDR adjusted p-value are similar but not quite the same. However the terms q-value and FDR adjusted p-value are often used generically by the Bioconductor community to refer to any quantity that controls or estimates any definition of the FDR. In this general sense the terms are synonyms.The lesson to draw from this is that different methods and different packages are trying to do slighty different things and give slightly different results, and you should always cite the specific software and method that you have used.\n",
      "\n",
      "*****Response from Azure RAG:**** \n",
      "  The False Discovery Rate (FDR) is a statistical method used in multiple hypothesis testing to correct for the problem of multiple comparisons. It is designed to control the expected proportion of \"discoveries\" (rejected null hypotheses) that are false (incorrect rejections). The FDR is a method of conceptualizing the rate of type I errors in null hypothesis testing when conducting multiple comparisons [doc4].\n",
      "\n",
      "FDR adjusted p-values, also known as q-values, are the minimal FDR at which the test may be called significant. In other words, the q-value is the smallest FDR at which a particular result would be deemed significant. The q-value is a measure of significance in terms of FDR rather than the Family-Wise Error Rate (FWER) that the traditional p-value measures. The q-value is calculated based on the p-value, but it also takes into account the number of hypotheses tested .\n",
      "\n",
      "Your understanding of FDR adjusted p-value is not entirely correct. The FDR adjusted p-value (or q-value) is not simply the original p-value multiplied by the number of genes divided by the rank of the gene. The calculation of q-values involves a procedure that adjusts the p-values based on the proportion of null hypotheses and the distribution of p-values, not just the rank of the individual test [doc4].\n",
      "\n",
      "When people say \"xxx genes are differentially expressed with an FDR cutoff of 0.05\", it means that these genes have an FDR adjusted p-value (or q-value) smaller than 0.05. This means that if you call these genes differentially expressed, you can expect that 5% of these calls are false positives .\n",
      "\n",
      "Please note that this model works only on the top 500 most used Bioconductor packages. For more detailed information, you may want to refer to the original papers or the Bioconductor website (https://bioconductor.org).\n",
      "\n",
      "*****Response from Azure GPT4 Temp0:*** \n",
      " FDR, FDR adjusted p-value, and q-value are all related concepts used in multiple hypothesis testing to control the false discovery rate. Let's break down each term:\n",
      "\n",
      "1. FDR (False Discovery Rate): This is a method used in multiple hypothesis testing to correct for the problem of multiple comparisons. It is the expected proportion of false positives among the rejected hypotheses. The FDR is a less stringent condition than the family-wise error rate (FWER), so it has greater power at the cost of increased false positives.\n",
      "\n",
      "2. FDR adjusted p-value: This is a p-value that has been adjusted using a method (like the Benjamini-Hochberg procedure) that controls the FDR. The adjustment is not as simple as original p-value * number of tests / rank of the test. The Benjamini-Hochberg procedure, for example, ranks the p-values, and then the adjusted p-value for the i-th ranked p-value is calculated as (p-value * total number of tests) / i. The adjusted p-values are then often \"minimized\" to ensure they are monotonically increasing.\n",
      "\n",
      "3. Q-value: The q-value of a test measures the minimum FDR at which the test may be called significant. In other words, it's the smallest FDR at which you would reject the null hypothesis. The q-value is similar to the FDR adjusted p-value, but while the adjusted p-value is a correction of the p-value, the q-value is a property of the test itself.\n",
      "\n",
      "When people say \"xxx genes are differentially expressed with an FDR cutoff of 0.05\", they mean that these genes have an FDR adjusted p-value (or q-value, depending on the context) less than 0.05. This means that if you call these genes differentially expressed, you can expect 5% of them to be false positives.\n"
     ]
    }
   ],
   "source": [
    "def print_method(df, question_number):\n",
    "    print(\"*****Question 1:****** \", df[\"Question\"][question_number])\n",
    "    print(\"\\n******Response Ground Truth:***** \\n\", df[\"Response\"][question_number])\n",
    "    print(\"\\n*****Response from Azure RAG:**** \\n \", df[\"Response_Azure_Bioc_RAG\"][question_number])\n",
    "    print(\"\\n*****Response from Azure GPT4 Temp0:*** \\n\", df[\"Response_Azure_GPT4_Temp0\"][question_number])\n",
    "\n",
    "print_method(top_10_qs, 0)"
   ]
  },
  {
   "cell_type": "markdown",
   "metadata": {},
   "source": [
    "## Evaluate answers"
   ]
  },
  {
   "cell_type": "code",
   "execution_count": 102,
   "metadata": {},
   "outputs": [
    {
     "data": {
      "text/html": [
       "<div>\n",
       "<style scoped>\n",
       "    .dataframe tbody tr th:only-of-type {\n",
       "        vertical-align: middle;\n",
       "    }\n",
       "\n",
       "    .dataframe tbody tr th {\n",
       "        vertical-align: top;\n",
       "    }\n",
       "\n",
       "    .dataframe thead th {\n",
       "        text-align: right;\n",
       "    }\n",
       "</style>\n",
       "<table border=\"1\" class=\"dataframe\">\n",
       "  <thead>\n",
       "    <tr style=\"text-align: right;\">\n",
       "      <th></th>\n",
       "      <th>AID</th>\n",
       "      <th>QID</th>\n",
       "      <th>Question</th>\n",
       "      <th>Response</th>\n",
       "      <th>Response_Azure_Bioc_RAG</th>\n",
       "      <th>Response_Azure_GPT4_Temp0</th>\n",
       "    </tr>\n",
       "  </thead>\n",
       "  <tbody>\n",
       "    <tr>\n",
       "      <th>0</th>\n",
       "      <td>answer1</td>\n",
       "      <td>question1</td>\n",
       "      <td>I am a bit confused about the concepts of the ...</td>\n",
       "      <td>The thing to understand is that terms like FDR...</td>\n",
       "      <td>The False Discovery Rate (FDR) is a statistica...</td>\n",
       "      <td>FDR, FDR adjusted p-value, and q-value are all...</td>\n",
       "    </tr>\n",
       "    <tr>\n",
       "      <th>1</th>\n",
       "      <td>answer2</td>\n",
       "      <td>question2</td>\n",
       "      <td>I am working on RNA-Seq data. I'm using DESeq2...</td>\n",
       "      <td>Just to be clear, there's an important differe...</td>\n",
       "      <td>It seems like you're dealing with a common iss...</td>\n",
       "      <td>In DESeq2, adding the batch effect in the desi...</td>\n",
       "    </tr>\n",
       "    <tr>\n",
       "      <th>2</th>\n",
       "      <td>answer3</td>\n",
       "      <td>question3</td>\n",
       "      <td>I am new in this kind of analysis and I have a...</td>\n",
       "      <td>There is no good way to do a DE analysis of RN...</td>\n",
       "      <td>Yes, you're correct that many differential exp...</td>\n",
       "      <td>You're correct that DESeq2, EdgeR, and limma a...</td>\n",
       "    </tr>\n",
       "    <tr>\n",
       "      <th>3</th>\n",
       "      <td>answer4</td>\n",
       "      <td>question4</td>\n",
       "      <td>I am testing salmon and kallisto for RNA-seq. ...</td>\n",
       "      <td>To answer your questions:1) scaledTPM is TPM's...</td>\n",
       "      <td>The `tximport` function in the Bioconductor pa...</td>\n",
       "      <td>1. ScaledTPM and lengthScaledTPM are methods u...</td>\n",
       "    </tr>\n",
       "    <tr>\n",
       "      <th>4</th>\n",
       "      <td>answer5</td>\n",
       "      <td>question5</td>\n",
       "      <td>In all RNA-seq analysis applications they talk...</td>\n",
       "      <td>The most complete explanation of what the disp...</td>\n",
       "      <td>The dispersion parameter in RNA-seq analysis, ...</td>\n",
       "      <td>In RNA-seq analysis, dispersion refers to the ...</td>\n",
       "    </tr>\n",
       "    <tr>\n",
       "      <th>5</th>\n",
       "      <td>answer6</td>\n",
       "      <td>question6</td>\n",
       "      <td>I know findOverlaps() from GenomicRanges packa...</td>\n",
       "      <td>From the discussion below, an efficient starti...</td>\n",
       "      <td>Based on your question, it seems you want to p...</td>\n",
       "      <td>It seems like you're trying to perform an elem...</td>\n",
       "    </tr>\n",
       "    <tr>\n",
       "      <th>6</th>\n",
       "      <td>answer7</td>\n",
       "      <td>question7</td>\n",
       "      <td>I have just downloaded CNV level 3 files from ...</td>\n",
       "      <td>I wrote two helper functions, explained belowg...</td>\n",
       "      <td>To map the coordinates of genes to gene symbol...</td>\n",
       "      <td>Mapping genomic coordinates to gene symbols is...</td>\n",
       "    </tr>\n",
       "    <tr>\n",
       "      <th>7</th>\n",
       "      <td>answer8</td>\n",
       "      <td>question8</td>\n",
       "      <td>How can I filter out the genes with low read c...</td>\n",
       "      <td>If you want to filter out genes with low expre...</td>\n",
       "      <td>Yes, you are on the right track. However, the ...</td>\n",
       "      <td>Yes, you are on the right track. DESeq2 is a p...</td>\n",
       "    </tr>\n",
       "    <tr>\n",
       "      <th>8</th>\n",
       "      <td>answer9</td>\n",
       "      <td>question9</td>\n",
       "      <td>I am analysing my RNA-Seq data with DESeq2. At...</td>\n",
       "      <td>You can use the ensembldb package to do the ma...</td>\n",
       "      <td>The issue you're facing is not uncommon when d...</td>\n",
       "      <td>It seems like you are doing everything correct...</td>\n",
       "    </tr>\n",
       "    <tr>\n",
       "      <th>9</th>\n",
       "      <td>answer10</td>\n",
       "      <td>question10</td>\n",
       "      <td>How do I merge a list of GRanges? What I want ...</td>\n",
       "      <td>Merge is a pretty vague term. My understanding...</td>\n",
       "      <td>You can merge a list of GRanges objects using ...</td>\n",
       "      <td>To merge a list of GRanges objects, you can us...</td>\n",
       "    </tr>\n",
       "  </tbody>\n",
       "</table>\n",
       "</div>"
      ],
      "text/plain": [
       "        AID         QID                                           Question  \\\n",
       "0   answer1   question1  I am a bit confused about the concepts of the ...   \n",
       "1   answer2   question2  I am working on RNA-Seq data. I'm using DESeq2...   \n",
       "2   answer3   question3  I am new in this kind of analysis and I have a...   \n",
       "3   answer4   question4  I am testing salmon and kallisto for RNA-seq. ...   \n",
       "4   answer5   question5  In all RNA-seq analysis applications they talk...   \n",
       "5   answer6   question6  I know findOverlaps() from GenomicRanges packa...   \n",
       "6   answer7   question7  I have just downloaded CNV level 3 files from ...   \n",
       "7   answer8   question8  How can I filter out the genes with low read c...   \n",
       "8   answer9   question9  I am analysing my RNA-Seq data with DESeq2. At...   \n",
       "9  answer10  question10  How do I merge a list of GRanges? What I want ...   \n",
       "\n",
       "                                            Response  \\\n",
       "0  The thing to understand is that terms like FDR...   \n",
       "1  Just to be clear, there's an important differe...   \n",
       "2  There is no good way to do a DE analysis of RN...   \n",
       "3  To answer your questions:1) scaledTPM is TPM's...   \n",
       "4  The most complete explanation of what the disp...   \n",
       "5  From the discussion below, an efficient starti...   \n",
       "6  I wrote two helper functions, explained belowg...   \n",
       "7  If you want to filter out genes with low expre...   \n",
       "8  You can use the ensembldb package to do the ma...   \n",
       "9  Merge is a pretty vague term. My understanding...   \n",
       "\n",
       "                             Response_Azure_Bioc_RAG  \\\n",
       "0  The False Discovery Rate (FDR) is a statistica...   \n",
       "1  It seems like you're dealing with a common iss...   \n",
       "2  Yes, you're correct that many differential exp...   \n",
       "3  The `tximport` function in the Bioconductor pa...   \n",
       "4  The dispersion parameter in RNA-seq analysis, ...   \n",
       "5  Based on your question, it seems you want to p...   \n",
       "6  To map the coordinates of genes to gene symbol...   \n",
       "7  Yes, you are on the right track. However, the ...   \n",
       "8  The issue you're facing is not uncommon when d...   \n",
       "9  You can merge a list of GRanges objects using ...   \n",
       "\n",
       "                           Response_Azure_GPT4_Temp0  \n",
       "0  FDR, FDR adjusted p-value, and q-value are all...  \n",
       "1  In DESeq2, adding the batch effect in the desi...  \n",
       "2  You're correct that DESeq2, EdgeR, and limma a...  \n",
       "3  1. ScaledTPM and lengthScaledTPM are methods u...  \n",
       "4  In RNA-seq analysis, dispersion refers to the ...  \n",
       "5  It seems like you're trying to perform an elem...  \n",
       "6  Mapping genomic coordinates to gene symbols is...  \n",
       "7  Yes, you are on the right track. DESeq2 is a p...  \n",
       "8  It seems like you are doing everything correct...  \n",
       "9  To merge a list of GRanges objects, you can us...  "
      ]
     },
     "execution_count": 102,
     "metadata": {},
     "output_type": "execute_result"
    }
   ],
   "source": [
    "top_10_qs"
   ]
  },
  {
   "cell_type": "markdown",
   "metadata": {},
   "source": [
    "## Experiment: Can I ask GPT4 model to tell me if the answer it's provided is similar to the ground truth? "
   ]
  },
  {
   "cell_type": "code",
   "execution_count": 127,
   "metadata": {},
   "outputs": [
    {
     "data": {
      "text/plain": [
       "'Yes, the answer given by the Azure RAG model is similar to the ground truth answer. Both answers explain the concepts of False Discovery Rate (FDR), FDR adjusted p-value, and q-value. They both clarify that FDR adjusted p-value and q-value are not exactly the same, but are often used interchangeably. They also correct the user\\'s misunderstanding about the calculation of FDR adjusted p-value. Finally, both answers confirm that when researchers say \"xxx genes are differentially expressed with an FDR cutoff of 0.05\", it means these genes have an FDR adjusted p-value (or q-value) smaller than 0.05.'"
      ]
     },
     "execution_count": 127,
     "metadata": {},
     "output_type": "execute_result"
    }
   ],
   "source": [
    "query = \"This is the question asked by someone: '%s', and the answer is: '%s'.\" % (top_10_qs[\"Question\"][0], top_10_qs[\"Response\"][0]) + \\\n",
    "    \"The response from Azure RAG is: '%s'. Now tell me if the answer given by \" % (top_10_qs[\"Response_Azure_Bioc_RAG\"][0]) + \\\n",
    "    \"the Azure RAG model is similar to the ground truth answer.\"\n",
    "\n",
    "ask_gpt4(query)"
   ]
  },
  {
   "cell_type": "code",
   "execution_count": 123,
   "metadata": {},
   "outputs": [
    {
     "data": {
      "text/plain": [
       "\"The similarity score between the ground truth answer and the Azure GPT4 model's answer is approximately 85%. Both answers provide a detailed explanation of FDR, FDR adjusted p-value, and q-value, and their relationship with each other. However, there are slight differences in the depth and focus of the explanations.\""
      ]
     },
     "execution_count": 123,
     "metadata": {},
     "output_type": "execute_result"
    }
   ],
   "source": [
    "\n",
    "query = \"This is the question asked by someone: '%s', and the answer is: '%s'.\" % (top_10_qs[\"Question\"][0], top_10_qs[\"Response\"][0]) + \\\n",
    "    \"The response from Azure GPT4 Model is: '%s'. Now tell me if the answer given\" % (top_10_qs[\"Response_Azure_GPT4_Temp0\"][0]) + \\\n",
    "    \"by the Azure GPT4 model is similar to the ground truth answer.\" + \\\n",
    "    \"Give me ONLY a similarity score of some type to measure if these two are the same. I don't want context\"\n",
    "\n",
    "ask_gpt4(query, verbose=False)"
   ]
  },
  {
   "cell_type": "markdown",
   "metadata": {},
   "source": [
    "## Diffused code correction experiment "
   ]
  },
  {
   "cell_type": "markdown",
   "metadata": {},
   "source": [
    "### Load the diffused code"
   ]
  },
  {
   "cell_type": "code",
   "execution_count": 13,
   "metadata": {},
   "outputs": [],
   "source": [
    "diffused_code = pd.read_csv('../BiocCodeErrors.csv')"
   ]
  },
  {
   "cell_type": "code",
   "execution_count": 14,
   "metadata": {},
   "outputs": [
    {
     "data": {
      "text/html": [
       "<div>\n",
       "<style scoped>\n",
       "    .dataframe tbody tr th:only-of-type {\n",
       "        vertical-align: middle;\n",
       "    }\n",
       "\n",
       "    .dataframe tbody tr th {\n",
       "        vertical-align: top;\n",
       "    }\n",
       "\n",
       "    .dataframe thead th {\n",
       "        text-align: right;\n",
       "    }\n",
       "</style>\n",
       "<table border=\"1\" class=\"dataframe\">\n",
       "  <thead>\n",
       "    <tr style=\"text-align: right;\">\n",
       "      <th></th>\n",
       "      <th>category</th>\n",
       "      <th>ground_truth</th>\n",
       "      <th>question</th>\n",
       "      <th>error</th>\n",
       "    </tr>\n",
       "  </thead>\n",
       "  <tbody>\n",
       "    <tr>\n",
       "      <th>0</th>\n",
       "      <td>Swapped arguments</td>\n",
       "      <td>library(SummarizedExperiment)\\n\\nnrows &lt;- 200;...</td>\n",
       "      <td>library(SummarizedExperiment)\\n\\nnrows &lt;- 200;...</td>\n",
       "      <td>Error in validObject(.Object) :\\n  invalid cla...</td>\n",
       "    </tr>\n",
       "    <tr>\n",
       "      <th>1</th>\n",
       "      <td>Inconsistent argument values</td>\n",
       "      <td>library(SummarizedExperiment)\\n\\nnrows &lt;- 200\\...</td>\n",
       "      <td>library(SummarizedExperiment)\\n\\nnrows &lt;- 200\\...</td>\n",
       "      <td>Error in validObject(.Object) :\\n  invalid cla...</td>\n",
       "    </tr>\n",
       "    <tr>\n",
       "      <th>2</th>\n",
       "      <td>Invalid input type</td>\n",
       "      <td>library(SummarizedExperiment)\\n\\ncounts &lt;- mat...</td>\n",
       "      <td>library(SummarizedExperiment)\\n\\ncounts &lt;- as....</td>\n",
       "      <td>Error in SummarizedExperiment(assays = list(co...</td>\n",
       "    </tr>\n",
       "    <tr>\n",
       "      <th>3</th>\n",
       "      <td>Antipattern: accessors</td>\n",
       "      <td>library(SummarizedExperiment)\\nnrows &lt;- 200\\nn...</td>\n",
       "      <td>library(SummarizedExperiment)\\nnrows &lt;- 200\\nn...</td>\n",
       "      <td>NaN</td>\n",
       "    </tr>\n",
       "    <tr>\n",
       "      <th>4</th>\n",
       "      <td>Antipattern: Row-wise modification of data in ...</td>\n",
       "      <td>df &lt;- data.frame(a = runif(1000, min = 0, max ...</td>\n",
       "      <td>df &lt;- data.frame(a = runif(1000, min = 0, max ...</td>\n",
       "      <td>NaN</td>\n",
       "    </tr>\n",
       "    <tr>\n",
       "      <th>5</th>\n",
       "      <td>Missing reducedDim</td>\n",
       "      <td>library(scRNAseq)\\nlibrary(scater)\\nsce.zeisel...</td>\n",
       "      <td>library(scRNAseq)\\nlibrary(scater)\\nsce.zeisel...</td>\n",
       "      <td>Error in value[[3L]](cond) :\\n  invalid subscr...</td>\n",
       "    </tr>\n",
       "    <tr>\n",
       "      <th>6</th>\n",
       "      <td>Accessing by rowData</td>\n",
       "      <td>library(scRNAseq)\\nsce.zeisel &lt;- ZeiselBrainDa...</td>\n",
       "      <td>library(scRNAseq)\\nsce.zeisel &lt;- ZeiselBrainDa...</td>\n",
       "      <td>Error in SummarizedExperiment:::.SummarizedExp...</td>\n",
       "    </tr>\n",
       "    <tr>\n",
       "      <th>7</th>\n",
       "      <td>Old install method</td>\n",
       "      <td>if (!require(\"BiocManager\", quietly = TRUE))\\n...</td>\n",
       "      <td>source(\"https://bioconductor.org/biocLite.R\")\\...</td>\n",
       "      <td>Error: With R version 3.5 or greater, install ...</td>\n",
       "    </tr>\n",
       "    <tr>\n",
       "      <th>8</th>\n",
       "      <td>Antipattern: Use is() instead of class() == an...</td>\n",
       "      <td>m &lt;- matrix(1:4, nrow = 2); if(is.matrix(m)) \"...</td>\n",
       "      <td>m &lt;- matrix(1:4, nrow = 2); if(class(m) == \"ma...</td>\n",
       "      <td>Error in if (class(m) == \"matrix\") \"This is a ...</td>\n",
       "    </tr>\n",
       "    <tr>\n",
       "      <th>9</th>\n",
       "      <td>Package not loaded via library</td>\n",
       "      <td>library(GenomicRanges); rowRanges &lt;- GRanges(r...</td>\n",
       "      <td>rowRanges &lt;- GRanges(rep(c(\"chr1\", \"chr2\"), c(...</td>\n",
       "      <td>Error in GRanges(rep(c(\"chr1\", \"chr2\"), c(50, ...</td>\n",
       "    </tr>\n",
       "    <tr>\n",
       "      <th>10</th>\n",
       "      <td>Antipattern: Code syntax: Avoid partial argume...</td>\n",
       "      <td>f &lt;- function(x) if(is.logical(x)) \"logical\" e...</td>\n",
       "      <td>f &lt;- function(x) if(is.logical(x)) \"logical\" e...</td>\n",
       "      <td>Error in f(x = T) : not logical</td>\n",
       "    </tr>\n",
       "  </tbody>\n",
       "</table>\n",
       "</div>"
      ],
      "text/plain": [
       "                                             category  \\\n",
       "0                                   Swapped arguments   \n",
       "1                        Inconsistent argument values   \n",
       "2                                  Invalid input type   \n",
       "3                              Antipattern: accessors   \n",
       "4   Antipattern: Row-wise modification of data in ...   \n",
       "5                                  Missing reducedDim   \n",
       "6                                Accessing by rowData   \n",
       "7                                  Old install method   \n",
       "8   Antipattern: Use is() instead of class() == an...   \n",
       "9                      Package not loaded via library   \n",
       "10  Antipattern: Code syntax: Avoid partial argume...   \n",
       "\n",
       "                                         ground_truth  \\\n",
       "0   library(SummarizedExperiment)\\n\\nnrows <- 200;...   \n",
       "1   library(SummarizedExperiment)\\n\\nnrows <- 200\\...   \n",
       "2   library(SummarizedExperiment)\\n\\ncounts <- mat...   \n",
       "3   library(SummarizedExperiment)\\nnrows <- 200\\nn...   \n",
       "4   df <- data.frame(a = runif(1000, min = 0, max ...   \n",
       "5   library(scRNAseq)\\nlibrary(scater)\\nsce.zeisel...   \n",
       "6   library(scRNAseq)\\nsce.zeisel <- ZeiselBrainDa...   \n",
       "7   if (!require(\"BiocManager\", quietly = TRUE))\\n...   \n",
       "8   m <- matrix(1:4, nrow = 2); if(is.matrix(m)) \"...   \n",
       "9   library(GenomicRanges); rowRanges <- GRanges(r...   \n",
       "10  f <- function(x) if(is.logical(x)) \"logical\" e...   \n",
       "\n",
       "                                             question  \\\n",
       "0   library(SummarizedExperiment)\\n\\nnrows <- 200;...   \n",
       "1   library(SummarizedExperiment)\\n\\nnrows <- 200\\...   \n",
       "2   library(SummarizedExperiment)\\n\\ncounts <- as....   \n",
       "3   library(SummarizedExperiment)\\nnrows <- 200\\nn...   \n",
       "4   df <- data.frame(a = runif(1000, min = 0, max ...   \n",
       "5   library(scRNAseq)\\nlibrary(scater)\\nsce.zeisel...   \n",
       "6   library(scRNAseq)\\nsce.zeisel <- ZeiselBrainDa...   \n",
       "7   source(\"https://bioconductor.org/biocLite.R\")\\...   \n",
       "8   m <- matrix(1:4, nrow = 2); if(class(m) == \"ma...   \n",
       "9   rowRanges <- GRanges(rep(c(\"chr1\", \"chr2\"), c(...   \n",
       "10  f <- function(x) if(is.logical(x)) \"logical\" e...   \n",
       "\n",
       "                                                error  \n",
       "0   Error in validObject(.Object) :\\n  invalid cla...  \n",
       "1   Error in validObject(.Object) :\\n  invalid cla...  \n",
       "2   Error in SummarizedExperiment(assays = list(co...  \n",
       "3                                                 NaN  \n",
       "4                                                 NaN  \n",
       "5   Error in value[[3L]](cond) :\\n  invalid subscr...  \n",
       "6   Error in SummarizedExperiment:::.SummarizedExp...  \n",
       "7   Error: With R version 3.5 or greater, install ...  \n",
       "8   Error in if (class(m) == \"matrix\") \"This is a ...  \n",
       "9   Error in GRanges(rep(c(\"chr1\", \"chr2\"), c(50, ...  \n",
       "10                    Error in f(x = T) : not logical  "
      ]
     },
     "execution_count": 14,
     "metadata": {},
     "output_type": "execute_result"
    }
   ],
   "source": [
    "diffused_code"
   ]
  },
  {
   "cell_type": "code",
   "execution_count": 15,
   "metadata": {},
   "outputs": [
    {
     "name": "stdout",
     "output_type": "stream",
     "text": [
      "assistant: The error message indicates that the `rowRanges` and `colData` arguments in the `SummarizedExperiment` function are swapped. The `rowRanges` argument should be a `GRanges` object, and the `colData` argument should be a `DataFrame` object. \n",
      "\n",
      "Here is the corrected code:\n",
      "\n",
      "```R\n",
      "library(SummarizedExperiment)\n",
      "\n",
      "nrows <- 200; ncols <- 6\n",
      "counts <- matrix(runif(nrows * ncols, 1, 1e4), nrows)\n",
      "rowRanges <- GRanges(rep(c(\"chr1\", \"chr2\"), c(50, 150)),\n",
      "                     IRanges(floor(runif(200, 1e5, 1e6)), width=100),\n",
      "                     strand=sample(c(\"+\", \"-\"), 200, TRUE),\n",
      "                     feature_id=sprintf(\"ID%03d\", 1:200))\n",
      "colData <- DataFrame(Treatment=rep(c(\"ChIP\", \"Input\"), 3),\n",
      "                     row.names=LETTERS[1:6]) \n",
      "rse <- SummarizedExperiment(assays=SimpleList(counts=counts),\n",
      "                            rowRanges=rowRanges, colData=colData)\n",
      "```\n",
      "\n",
      "This code creates a `SummarizedExperiment` object with the `counts` matrix as the assay data, the `rowRanges` GRanges object as the row ranges, and the `colData` DataFrame as the column data [doc1].\n",
      "\n",
      "Please note that this model works only on the top 500 most used Bioconductor packages.\n"
     ]
    },
    {
     "data": {
      "text/plain": [
       "'The error message indicates that the `rowRanges` and `colData` arguments in the `SummarizedExperiment` function are swapped. The `rowRanges` argument should be a `GRanges` object, and the `colData` argument should be a `DataFrame` object. \\n\\nHere is the corrected code:\\n\\n```R\\nlibrary(SummarizedExperiment)\\n\\nnrows <- 200; ncols <- 6\\ncounts <- matrix(runif(nrows * ncols, 1, 1e4), nrows)\\nrowRanges <- GRanges(rep(c(\"chr1\", \"chr2\"), c(50, 150)),\\n                     IRanges(floor(runif(200, 1e5, 1e6)), width=100),\\n                     strand=sample(c(\"+\", \"-\"), 200, TRUE),\\n                     feature_id=sprintf(\"ID%03d\", 1:200))\\ncolData <- DataFrame(Treatment=rep(c(\"ChIP\", \"Input\"), 3),\\n                     row.names=LETTERS[1:6]) \\nrse <- SummarizedExperiment(assays=SimpleList(counts=counts),\\n                            rowRanges=rowRanges, colData=colData)\\n```\\n\\nThis code creates a `SummarizedExperiment` object with the `counts` matrix as the assay data, the `rowRanges` GRanges object as the row ranges, and the `colData` DataFrame as the column data [doc1].\\n\\nPlease note that this model works only on the top 500 most used Bioconductor packages.'"
      ]
     },
     "execution_count": 15,
     "metadata": {},
     "output_type": "execute_result"
    }
   ],
   "source": [
    "query = \"This is the code I have: '%s', and the error i'm getting is: '%s'.\" % (diffused_code[\"question\"][0], diffused_code[\"error\"][0]) + \\\n",
    "    \"Fix the error in my code.\"\n",
    "\n",
    "ask_rag(query, verbose=True)"
   ]
  },
  {
   "cell_type": "code",
   "execution_count": 29,
   "metadata": {},
   "outputs": [],
   "source": [
    "azure_rag_responses = []\n",
    "\n",
    "for i in range(len(diffused_code.index)):\n",
    "    query = \"This is the code I have: '%s', and the error i'm getting is: '%s'.\" % (diffused_code[\"question\"][i], diffused_code[\"error\"][i]) + \\\n",
    "    \"Fix the error in my code.\"\n",
    "    \n",
    "    response = ask_rag(query)\n",
    "    azure_rag_responses.append(response)"
   ]
  },
  {
   "cell_type": "code",
   "execution_count": 30,
   "metadata": {},
   "outputs": [
    {
     "data": {
      "text/plain": [
       "['The error message indicates that the `rowRanges` and `colData` arguments in the `SummarizedExperiment` function are swapped. The `rowRanges` argument should be a `GRanges` object, and the `colData` argument should be a `DataFrame` object. \\n\\nHere is the corrected code:\\n\\n```R\\nlibrary(SummarizedExperiment)\\n\\nnrows <- 200; ncols <- 6\\ncounts <- matrix(runif(nrows * ncols, 1, 1e4), nrows)\\nrowRanges <- GRanges(rep(c(\"chr1\", \"chr2\"), c(50, 150)),\\n                     IRanges(floor(runif(200, 1e5, 1e6)), width=100),\\n                     strand=sample(c(\"+\", \"-\"), 200, TRUE),\\n                     feature_id=sprintf(\"ID%03d\", 1:200))\\ncolData <- DataFrame(Treatment=rep(c(\"ChIP\", \"Input\"), 3),\\n                     row.names=LETTERS[1:6]) \\nrse <- SummarizedExperiment(assays=SimpleList(counts=counts),\\n                            rowRanges=rowRanges, colData=colData)\\n```\\n\\nThis code creates a `SummarizedExperiment` object with the `counts` matrix as the assay data, the `rowRanges` GRanges object as the row ranges, and the `colData` DataFrame as the column data [doc1][doc3].\\n\\nPlease note that this model works only on the top 500 most used Bioconductor packages. If you have further questions, you may want to refer to https://bioconductor.org.',\n",
       " 'The error message you\\'re getting is indicating that the number of columns in your \\'counts\\' matrix (which is 7) does not match the number of rows in your \\'colData\\' DataFrame (which is 6). \\n\\nIn the SummarizedExperiment object, the number of columns in the \\'counts\\' matrix should match the number of rows in the \\'colData\\' DataFrame. This is because each column in the \\'counts\\' matrix corresponds to a sample, and each sample should have associated data in the \\'colData\\' DataFrame.\\n\\nIn your code, you\\'ve defined \\'ncols\\' as 6, but when you create the \\'counts\\' matrix, you\\'re not using \\'ncols\\'. Instead, you\\'re creating a matrix with 1400 elements, which when divided by \\'nrows\\' (200), results in 7 columns. \\n\\nTo fix the error, you should use \\'ncols\\' when creating the \\'counts\\' matrix. Here\\'s the corrected code:\\n\\n```R\\nlibrary(SummarizedExperiment)\\n\\nnrows <- 200\\nncols <- 6\\ncounts <- matrix(runif(nrows * ncols, 1, 1e4), nrows)\\n\\nrowRanges <- GRanges(rep(c(\"chr1\", \"chr2\"), c(50, 150)),\\n                         IRanges(floor(runif(200, 1e5, 1e6)), width=100),\\n                         strand=sample(c(\"+\", \"-\"), 200, TRUE),\\n                         feature_id=sprintf(\"ID%03d\", 1:200))\\n\\ncolData <- DataFrame(Treatment=rep(c(\"ChIP\", \"Input\"), 3),\\n                         row.names=LETTERS[1:6])\\n\\nSummarizedExperiment(assays=list(counts=counts),\\n                         rowRanges=rowRanges, colData=colData)\\n```\\n\\nThis should resolve the error you\\'re encountering. \\n\\nPlease note that this model works only on the top 500 most used Bioconductor packages. If you have further questions, you may want to refer to the official Bioconductor documentation at https://bioconductor.org.',\n",
       " 'The error message you\\'re getting suggests that the row names and column names of your `counts` data frame do not match the row names and column names of the `SummarizedExperiment` object you\\'re trying to create. \\n\\nIn your case, the row names of `counts` should match the `feature_id` in `rowRanges`, and the column names of `counts` should match the row names in `colData`.\\n\\nHere\\'s how you can fix your code:\\n\\n```R\\nlibrary(SummarizedExperiment)\\n\\nnrows <- 200\\nncols <- 6\\n\\ncounts <- as.data.frame(matrix(runif(nrows * ncols, 1, 1e4), nrows))\\n\\nrowRanges <- GRanges(rep(c(\"chr1\", \"chr2\"), c(50, 150)),\\n                         IRanges(floor(runif(200, 1e5, 1e6)), width=100),\\n                         strand=sample(c(\"+\", \"-\"), 200, TRUE),\\n                         feature_id=sprintf(\"ID%03d\", 1:200))\\n\\ncolData <- DataFrame(Treatment=rep(c(\"ChIP\", \"Input\"), 3),\\n                         row.names=LETTERS[1:6])\\n\\n# Set the row names and column names of counts to match those of rowRanges and colData\\nrownames(counts) <- rowRanges$feature_id\\ncolnames(counts) <- rownames(colData)\\n\\nse = SummarizedExperiment(assays=list(counts=counts),\\n                         rowRanges=rowRanges, colData=colData)\\n```\\n\\nThis should resolve the error you\\'re encountering. Please note that the `SummarizedExperiment` function expects the row names and column names of the `counts` data frame to match the `feature_id` in `rowRanges` and the row names in `colData` respectively [doc1].\\n\\nPlease note that this model works only on the top 500 most used Bioconductor packages. If you have further questions or encounter issues with other packages, I recommend referring to the specific package vignettes or the Bioconductor website (https://bioconductor.org).',\n",
       " 'The error you\\'re encountering might be due to the fact that you\\'re trying to directly access the slot of a S4 object using the `@` operator. This is generally not recommended in R, as it bypasses the validity checks that are performed when using accessor functions. \\n\\nIn the case of a `SummarizedExperiment` object, you should use the `assay()` function to access the assay data. Here\\'s how you can modify your code:\\n\\n```r\\nlibrary(SummarizedExperiment)\\nnrows <- 200\\nncols <- 6\\ncounts <- matrix(runif(1200, 1, 1e4), nrows)\\nse <- SummarizedExperiment(assays=list(counts=counts))\\ncounts_data <- assay(se, \"counts\")\\n```\\n\\nIn this code, `assay(se, \"counts\")` is used to access the counts data from the `SummarizedExperiment` object [doc2].\\n\\nPlease note that this model works only on the top 500 most used Bioconductor packages. If you still encounter issues, I recommend referring to the Bioconductor website (https://bioconductor.org) for more detailed information and assistance.',\n",
       " 'The error in your code is due to the incorrect use of the `nrow()` function in the `for` loop. The `nrow()` function returns the number of rows in a data frame, but you are using it on a single column of the data frame, which is a vector, not a data frame. \\n\\nTo fix the error, you should use the `length()` function instead of `nrow()` to get the number of elements in the vector. Here is the corrected code:\\n\\n```R\\ndf <- data.frame(a = runif(1000, min = 0, max = 2*pi))\\nfor (i in 1:length(df[, 1])) {\\n    df[i,1] <- df[i,1] * 180/pi\\n}\\n```\\n\\nThis code will convert the values in the first column of the data frame from radians to degrees.\\n\\nPlease note that this model works only on the top 500 most used Bioconductor packages. If you have further questions, you may want to refer to https://bioconductor.org.',\n",
       " 'The error message you\\'re seeing indicates that the UMAP dimensionality reduction has not been performed on your SingleCellExperiment object `sce.zeisel`. The `plotUMAP` function is trying to access the UMAP results, but they don\\'t exist yet.\\n\\nTo fix this, you need to run the UMAP dimensionality reduction before you try to plot the results. You can do this using the `runUMAP` function from the `scater` package. Here\\'s how you can modify your code:\\n\\n```R\\nlibrary(scRNAseq)\\nlibrary(scater)\\nsce.zeisel <- ZeiselBrainData()\\n\\nlibrary(org.Mm.eg.db)\\nrowData(sce.zeisel)$Ensembl <- mapIds(org.Mm.eg.db,\\n                                      keys=rownames(sce.zeisel),\\n                                      keytype=\"SYMBOL\",\\n                                      column=\"ENSEMBL\")\\n\\n# Run UMAP dimensionality reduction\\nsce.zeisel <- runUMAP(sce.zeisel)\\n\\n# Now you can plot the UMAP results\\nplotUMAP(sce.zeisel)\\n```\\n\\nThis should resolve the error you\\'re seeing. If you encounter further issues, please let me know [doc4].\\n\\nPlease note that this model works only on the top 500 most used Bioconductor packages.',\n",
       " 'The error message you\\'re seeing suggests that the index \"ENSMUSG00000029860\" is not found in your `sce.zeisel` object. This could be because the gene with Ensembl ID \"ENSMUSG00000029860\" is not present in your dataset, or the mapping from gene symbols to Ensembl IDs did not work as expected.\\n\\nTo debug this, you can first check if the Ensembl ID \"ENSMUSG00000029860\" is present in the rowData of your `sce.zeisel` object:\\n\\n```r\\n\"ENSMUSG00000029860\" %in% rowData(sce.zeisel)$Ensembl\\n```\\n\\nIf the output is `FALSE`, it means that the Ensembl ID is not present in your dataset. \\n\\nIf you want to subset your `sce.zeisel` object based on Ensembl IDs, you should use the Ensembl IDs as rownames. Here is how you can do it:\\n\\n```r\\nrownames(sce.zeisel) <- rowData(sce.zeisel)$Ensembl\\nsce.zeisel[\"ENSMUSG00000029860\"]\\n```\\n\\nThis will work if \"ENSMUSG00000029860\" is present in your dataset. If it\\'s not, you\\'ll need to use a different Ensembl ID that is present in your dataset.\\n\\nPlease note that this advice is based on the general usage of the SingleCellExperiment object and the `org.Mm.eg.db` package. For more specific advice, you may need to refer to the documentation of the Bioconductor packages you\\'re using or ask for help on the Bioconductor support site: https://support.bioconductor.org/.\\n\\nPlease note that this model works only on the top 500 most used Bioconductor packages.',\n",
       " 'The error message indicates that you are using an outdated method to install Bioconductor packages. For R version 3.5 and above, you should use `BiocManager` to install Bioconductor packages. Here is how you can modify your code:\\n\\n```R\\nif (!requireNamespace(\"BiocManager\", quietly = TRUE))\\n  install.packages(\"BiocManager\")\\n\\nBiocManager::install(\"GenomicFeatures\")\\n```\\n\\nThis code first checks if `BiocManager` is installed. If it\\'s not, it installs `BiocManager`. Then it uses `BiocManager::install()` to install the `GenomicFeatures` package [doc1][doc2][doc3].\\n\\nPlease note that this model works only on the top 500 most used Bioconductor packages. If you have further questions, you may want to refer to https://bioconductor.org.',\n",
       " 'The error you\\'re encountering is due to the fact that the `class()` function in R can return a vector of length greater than 1 if an object has multiple classes. In your case, you\\'re comparing this potentially multi-element vector to a single string \"matrix\", which is causing the error.\\n\\nTo fix this, you can use the `inherits()` function instead of `class() ==`. The `inherits()` function checks if an object inherits from a specified class, and it always returns a single logical value, which is what the `if` statement expects.\\n\\nHere\\'s your corrected code:\\n\\n```r\\nm <- matrix(1:4, nrow = 2)\\nif(inherits(m, \"matrix\")) \"This is a matrix\" else \"This is not a matrix\"\\n```\\n\\nThis code will correctly identify whether `m` is a matrix and won\\'t throw an error if `m` has multiple classes.\\n\\nPlease note that this model works only on the top 500 most used Bioconductor packages. For more specific or advanced questions, please refer to the official Bioconductor documentation at https://bioconductor.org.',\n",
       " 'The error message you\\'re seeing indicates that the function `GRanges` is not found. This function is part of the `GenomicRanges` package in Bioconductor. You need to install and load this package before you can use the `GRanges` function. Here is how you can do it:\\n\\n```r\\nif (!requireNamespace(\"BiocManager\", quietly = TRUE))\\n    install.packages(\"BiocManager\")\\n\\nBiocManager::install(\"GenomicRanges\")\\n\\nlibrary(GenomicRanges)\\n\\nrowRanges <- GRanges(rep(c(\"chr1\", \"chr2\"), c(50, 150)), \\n                     IRanges(floor(runif(200, 1e5, 1e6)), width=100), \\n                     strand=sample(c(\"+\", \"-\"), 200, TRUE), \\n                     feature_id=sprintf(\"ID%03d\", 1:200))\\n```\\n\\nThis code first checks if the `BiocManager` package is installed, and if not, it installs it. `BiocManager` is used to install Bioconductor packages. Then it installs the `GenomicRanges` package and loads it into the R session. After that, your `GRanges` function should work as expected.\\n\\nPlease note that this model works only on the top 500 most used Bioconductor packages. If you encounter further issues, consider referring to the Bioconductor website (https://bioconductor.org) for additional resources and support.',\n",
       " 'The error you\\'re encountering is due to the fact that the function `f` is designed to only accept logical inputs (i.e., `TRUE` or `FALSE`). However, you\\'re trying to pass a character string `\"a\"` to the function, which is not a logical value. \\n\\nTo fix the error, you need to pass a logical value to the function `f`. Here is the corrected code:\\n\\n```R\\nf <- function(x) if(is.logical(x)) \"logical\" else stop(\"not logical\")\\nT <- TRUE\\nf(x = T)\\n```\\n\\nIn this corrected code, `T` is a logical value (`TRUE`), so the function `f` will return `\"logical\"` without any error.\\n\\nPlease note that this model works only on the top 500 most used Bioconductor packages. If you have further questions about specific Bioconductor packages, please refer to the package documentation or https://bioconductor.org.']"
      ]
     },
     "execution_count": 30,
     "metadata": {},
     "output_type": "execute_result"
    }
   ],
   "source": [
    "azure_rag_responses"
   ]
  },
  {
   "cell_type": "code",
   "execution_count": 32,
   "metadata": {},
   "outputs": [],
   "source": [
    "azure_gpt4_temp0_responses = []\n",
    "\n",
    "for i in range(len(diffused_code.index)):\n",
    "    query = \"This is the code I have: '%s', and the error i'm getting is: '%s'.\" % (diffused_code[\"question\"][i], diffused_code[\"error\"][i]) + \\\n",
    "    \"Fix the error in my code.\"\n",
    "    \n",
    "    response = ask_gpt4(query)\n",
    "    azure_gpt4_temp0_responses.append(response)\n"
   ]
  },
  {
   "cell_type": "code",
   "execution_count": 33,
   "metadata": {},
   "outputs": [
    {
     "data": {
      "text/plain": [
       "['The error message is indicating that the `rowRanges` and `colData` arguments in the `SummarizedExperiment` function are not in the correct order. The `rowRanges` argument should be a `GRanges` object and the `colData` argument should be a `DataFrame` object. \\n\\nIn your code, you have mistakenly switched these two arguments. Here is the corrected code:\\n\\n```R\\nlibrary(SummarizedExperiment)\\n\\nnrows <- 200; ncols <- 6\\ncounts <- matrix(runif(nrows * ncols, 1, 1e4), nrows)\\nrowRanges <- GRanges(rep(c(\"chr1\", \"chr2\"), c(50, 150)),\\n                     IRanges(floor(runif(200, 1e5, 1e6)), width=100),\\n                     strand=sample(c(\"+\", \"-\"), 200, TRUE),\\n                     feature_id=sprintf(\"ID%03d\", 1:200))\\ncolData <- DataFrame(Treatment=rep(c(\"ChIP\", \"Input\"), 3),\\n                     row.names=LETTERS[1:6]) \\nrse <- SummarizedExperiment(assays=SimpleList(counts=counts),\\n                            rowRanges=rowRanges, colData=colData)\\n```\\n\\nIn this corrected code, `rowRanges=rowRanges` and `colData=colData` are now in the correct order.',\n",
       " 'The error message is indicating that the number of columns in your \\'counts\\' matrix (which is 7) does not match the number of rows in your \\'colData\\' DataFrame (which is 6). \\n\\nThe \\'counts\\' matrix is being used as the assay data for the SummarizedExperiment object, and the \\'colData\\' DataFrame is being used as the column metadata. These two must have the same dimensions along the column axis for the SummarizedExperiment object to be valid.\\n\\nThe issue is with this line of code:\\n\\n`counts <- matrix(runif(1400, 1, 1e4), nrows)`\\n\\nHere, you\\'re creating a matrix with 1400 elements and 200 rows. Since 1400 divided by 200 equals 7, this results in a matrix with 7 columns.\\n\\nTo fix the error, you need to adjust the number of elements in the \\'counts\\' matrix so that it matches the number of rows in \\'colData\\'. Since \\'colData\\' has 6 rows, \\'counts\\' should have 6 columns. \\n\\nHere\\'s the corrected code:\\n\\n```R\\nlibrary(SummarizedExperiment)\\n\\nnrows <- 200\\nncols <- 6\\ncounts <- matrix(runif(nrows*ncols, 1, 1e4), nrows)\\n\\nrowRanges <- GRanges(rep(c(\"chr1\", \"chr2\"), c(50, 150)),\\n                         IRanges(floor(runif(200, 1e5, 1e6)), width=100),\\n                         strand=sample(c(\"+\", \"-\"), 200, TRUE),\\n                         feature_id=sprintf(\"ID%03d\", 1:200))\\n\\ncolData <- DataFrame(Treatment=rep(c(\"ChIP\", \"Input\"), 3),\\n                         row.names=LETTERS[1:6])\\n\\nSummarizedExperiment(assays=list(counts=counts),\\n                         rowRanges=rowRanges, colData=colData)\\n```\\n\\nIn this corrected code, the \\'counts\\' matrix is created with `nrows*ncols` elements, which results in a matrix with 6 columns, matching the number of rows in \\'colData\\'.',\n",
       " 'The error message is indicating that the row names and column names of the \\'counts\\' data frame must be identical to those of the \\'rowRanges\\' and \\'colData\\' objects. \\n\\nHowever, in your code, you didn\\'t define \\'nrows\\' for the \\'counts\\' data frame, and you didn\\'t set row names for \\'counts\\', \\'rowRanges\\', and \\'colData\\'. \\n\\nHere is a corrected version of your code:\\n\\n```R\\nlibrary(SummarizedExperiment)\\nlibrary(GenomicRanges)\\n\\n# Define nrows\\nnrows <- 200\\n\\ncounts <- as.data.frame(matrix(runif(1200, 1, 1e4), nrows))\\n\\n# Set row names for counts\\nrownames(counts) <- sprintf(\"ID%03d\", 1:nrows)\\n\\nrowRanges <- GRanges(rep(c(\"chr1\", \"chr2\"), c(50, 150)),\\n                         IRanges(floor(runif(200, 1e5, 1e6)), width=100),\\n                         strand=sample(c(\"+\", \"-\"), 200, TRUE),\\n                         feature_id=sprintf(\"ID%03d\", 1:200))\\n\\ncolData <- DataFrame(Treatment=rep(c(\"ChIP\", \"Input\"), 3),\\n                         row.names=LETTERS[1:6])\\n\\nse = SummarizedExperiment(assays=list(counts=counts),\\n                         rowRanges=rowRanges, colData=colData)\\n```\\n\\nIn this corrected code, \\'nrows\\' is defined as 200, and the row names of \\'counts\\' are set to be identical to the \\'feature_id\\' of \\'rowRanges\\'.',\n",
       " 'The error message \\'nan\\' usually indicates that some operation in your code is producing a result that is not a number (NaN). However, the code you provided seems to be correct and should not produce a \\'nan\\' error. \\n\\nThe \\'nan\\' error might be caused by some other part of your code or it might be due to the specific data you are using. \\n\\nIf you are trying to access the counts data from the SummarizedExperiment object, you should use the assay function instead of trying to access the @assays@data@listData$counts directly. Here is how you can do it:\\n\\n```R\\ncounts_data <- assay(se, \"counts\")\\n```\\n\\nThis will give you the counts matrix that you stored in the SummarizedExperiment object. If you still get a \\'nan\\' error, you might want to check the values in your counts matrix. If there are any NaN values in the matrix, you might want to handle them before creating the SummarizedExperiment object.',\n",
       " 'The error in your code is likely due to the incorrect use of the `nrow()` function. The `nrow()` function returns the number of rows in a data frame, but you are trying to use it on a single column of the data frame. \\n\\nInstead, you should use the `length()` function to get the number of elements in the column. Here is the corrected code:\\n\\n```R\\ndf <- data.frame(a = runif(1000, min = 0, max = 2*pi))\\nfor (i in 1:length(df[, 1])) {\\n    df[i,1] <- df[i,1] * 180/pi\\n}\\n```\\n\\nThis code will create a data frame with 1000 random numbers between 0 and 2*pi, and then convert each of those numbers to degrees by multiplying by 180/pi.',\n",
       " 'The error message you\\'re getting suggests that the UMAP (Uniform Manifold Approximation and Projection) dimensionality reduction has not been performed on your SingleCellExperiment object (sce.zeisel) yet. The function plotUMAP() is trying to plot the UMAP results, but it can\\'t find them because they haven\\'t been calculated yet.\\n\\nYou can perform UMAP dimensionality reduction using the `runUMAP()` function from the `scater` package. Here\\'s how you can modify your code:\\n\\n```R\\nlibrary(scRNAseq)\\nlibrary(scater)\\nlibrary(org.Mm.eg.db)\\n\\nsce.zeisel <- ZeiselBrainData()\\n\\nrowData(sce.zeisel)$Ensembl <- mapIds(org.Mm.eg.db,\\n                                      keys=rownames(sce.zeisel),\\n                                      keytype=\"SYMBOL\",\\n                                      column=\"ENSEMBL\")\\n\\n# Run UMAP dimensionality reduction\\nsce.zeisel <- runUMAP(sce.zeisel)\\n\\n# Now you can plot the UMAP results\\nplotUMAP(sce.zeisel)\\n```\\n\\nPlease note that `runUMAP()` function requires a matrix or a matrix-like object as input. If your `sce.zeisel` object is not in the correct format, you might need to convert it first. Also, `runUMAP()` function is not available in the `scater` package, you need to install and load the `uwot` package to use this function.',\n",
       " 'The error message you\\'re getting suggests that the index \"ENSMUSG00000029860\" is not found in your `sce.zeisel` object. This could be because the mapping from SYMBOL to ENSEMBL ID did not find a match for this particular ID.\\n\\nHere\\'s a way to handle this:\\n\\n```R\\nlibrary(scRNAseq)\\nsce.zeisel <- ZeiselBrainData()\\n\\nlibrary(org.Mm.eg.db)\\nrowData(sce.zeisel)$Ensembl <- mapIds(org.Mm.eg.db,\\n                                          keys=rownames(sce.zeisel),\\n                                          keytype=\"SYMBOL\",\\n                                          column=\"ENSEMBL\")\\n\\n# Check if the ID exists in the rowData\\nif (\"ENSMUSG00000029860\" %in% rowData(sce.zeisel)$Ensembl) {\\n  sce.zeisel[\"ENSMUSG00000029860\"]\\n} else {\\n  print(\"ENSMUSG00000029860 not found in rowData\")\\n}\\n```\\n\\nThis code will check if the ID \"ENSMUSG00000029860\" exists in the rowData before trying to subset the `sce.zeisel` object. If the ID is not found, it will print a message instead of throwing an error.',\n",
       " 'The error message is suggesting that you should use BiocManager to install Bioconductor packages because you are using R version 3.5 or greater. Here is how you can fix your code:\\n\\n```R\\nif (!requireNamespace(\"BiocManager\", quietly = TRUE))\\n    install.packages(\"BiocManager\")\\n\\nBiocManager::install(\"GenomicFeatures\")\\n```\\n\\nThis code first checks if the BiocManager package is installed. If it\\'s not, it installs it. Then it uses BiocManager to install the GenomicFeatures package.',\n",
       " 'The error you\\'re getting is because the `class()` function in R can return more than one value, so it\\'s a vector. When you use `==` to compare it with a single string, it can return a vector of logical values, not a single logical value. The `if` statement in R expects a single logical value, not a vector.\\n\\nTo fix this, you can use the `inherits()` function, which checks if an object inherits from a class. Here\\'s how you can modify your code:\\n\\n```R\\nm <- matrix(1:4, nrow = 2)\\nif(inherits(m, \"matrix\")) \"This is a matrix\" else \"This is not a matrix\"\\n```\\n\\nThis code will return \"This is a matrix\" if `m` is a matrix, and \"This is not a matrix\" otherwise.',\n",
       " 'The error message you\\'re getting indicates that the function \"GRanges\" could not be found. This is likely because the package that contains this function, \"GenomicRanges\", has not been loaded into your R environment.\\n\\nYou can fix this error by installing and loading the \"GenomicRanges\" package. Here\\'s how you can do it:\\n\\n```r\\n# Install the package if you haven\\'t done so\\nif (!requireNamespace(\"BiocManager\", quietly = TRUE))\\n    install.packages(\"BiocManager\")\\n\\nBiocManager::install(\"GenomicRanges\")\\n\\n# Load the package\\nlibrary(GenomicRanges)\\n\\n# Now you can use the GRanges function\\nrowRanges <- GRanges(rep(c(\"chr1\", \"chr2\"), c(50, 150)), IRanges(floor(runif(200, 1e5, 1e6)), width=100), strand=sample(c(\"+\", \"-\"), 200, TRUE), feature_id=sprintf(\"ID%03d\", 1:200))\\n```\\n\\nThis should resolve the error you\\'re facing.',\n",
       " 'The error is occurring because you\\'re trying to pass a non-logical value (\"a\") to a function that only accepts logical values (TRUE or FALSE). \\n\\nIn R, T is a predefined variable that stands for TRUE. However, when you assign T <- \"a\", you\\'re overwriting the predefined logical value of T with a character value \"a\". \\n\\nTo fix the error, you should either pass a logical value to the function or modify the function to accept non-logical values. Here\\'s how you can fix it:\\n\\nOption 1: Pass a logical value to the function\\n```R\\nf <- function(x) if(is.logical(x)) \"logical\" else stop(\"not logical\")\\nT <- TRUE\\nf(x = T)\\n```\\n\\nOption 2: Modify the function to accept non-logical values\\n```R\\nf <- function(x) if(is.logical(x)) \"logical\" else \"not logical\"\\nT <- \"a\"\\nf(x = T)\\n```\\nIn the first option, the function will return \"logical\" because T is TRUE (a logical value). In the second option, the function will return \"not logical\" because T is \"a\" (a non-logical value).']"
      ]
     },
     "execution_count": 33,
     "metadata": {},
     "output_type": "execute_result"
    }
   ],
   "source": [
    "azure_gpt4_temp0_responses"
   ]
  },
  {
   "cell_type": "code",
   "execution_count": 35,
   "metadata": {},
   "outputs": [],
   "source": [
    "diffused_code.insert(4, \"Response_Azure_Bioc_RAG\", azure_rag_responses, True)\n",
    "diffused_code.insert(5, \"Response_Azure_GPT4_Temp0\", azure_gpt4_temp0_responses, True)\n",
    "diffused_code.to_csv(\"BiocCodeErrors_responses_with_azure.csv\", index=False)"
   ]
  }
 ],
 "metadata": {
  "kernelspec": {
   "display_name": ".venv",
   "language": "python",
   "name": "python3"
  },
  "language_info": {
   "codemirror_mode": {
    "name": "ipython",
    "version": 3
   },
   "file_extension": ".py",
   "mimetype": "text/x-python",
   "name": "python",
   "nbconvert_exporter": "python",
   "pygments_lexer": "ipython3",
   "version": "3.11.8"
  }
 },
 "nbformat": 4,
 "nbformat_minor": 2
}
