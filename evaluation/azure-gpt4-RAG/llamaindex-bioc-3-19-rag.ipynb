{
 "cells": [
  {
   "cell_type": "markdown",
   "metadata": {},
   "source": [
    "# LlamaIndex Bioconductor 3.19 RAG model "
   ]
  },
  {
   "cell_type": "markdown",
   "metadata": {},
   "source": [
    "This RAG model creates an index with the Bioc 3.19 software packages that have been newly released. \n",
    "\n",
    "The notebook contains the following experiments \n",
    "\n",
    "1. We first use the API to answer questions from Bioc 3.19 using a foundational GPT-4 model and GPT-4 model using the Bioc 3.19 RAG store. \n",
    "\n",
    "2. LLM as a judge evaluation method - We try to use an LLM (GPT 4) as a judge to evaluate responses to a basic question to which we have the groud truth already: \"How many classes are there in Bioconductor package X?\" using the following models - \n",
    "    - GPT 4 \n",
    "    - GPT 4 + RAG "
   ]
  },
  {
   "cell_type": "code",
   "execution_count": 1,
   "metadata": {},
   "outputs": [],
   "source": [
    "import os, openai, requests, logging, sys\n",
    "import pandas as pd\n",
    "from IPython.display import Markdown, display\n",
    "\n",
    "from azure.core.credentials import AzureKeyCredential\n",
    "from azure.search.documents import SearchClient\n",
    "from azure.search.documents.indexes import SearchIndexClient\n",
    "from llama_index.core import (\n",
    "    SimpleDirectoryReader,\n",
    "    StorageContext,\n",
    "    VectorStoreIndex,\n",
    ")\n",
    "\n",
    "from llama_index.core.settings import Settings\n",
    "\n",
    "from llama_index.llms.azure_openai import AzureOpenAI\n",
    "from llama_index.embeddings.azure_openai import AzureOpenAIEmbedding\n",
    "\n",
    "from llama_index.vector_stores.azureaisearch import (\n",
    "    AzureAISearchVectorStore,\n",
    "    IndexManagement,\n",
    "    MetadataIndexFieldType,\n",
    ")\n",
    "\n",
    "from llama_index.core.query_engine import (\n",
    "    CustomQueryEngine,\n",
    "    RetrieverQueryEngine\n",
    ")\n",
    "from llama_index.core.retrievers import (\n",
    "    BaseRetriever,\n",
    "    VectorIndexRetriever\n",
    ")\n",
    "\n",
    "from llama_index.core.response_synthesizers import (\n",
    "    BaseSynthesizer,\n",
    "    ResponseMode\n",
    ")\n",
    "\n",
    "from llama_index.core import (\n",
    "    PromptTemplate,\n",
    "    VectorStoreIndex,\n",
    "    get_response_synthesizer\n",
    ")\n",
    "\n",
    "from llama_index.core.postprocessor import SimilarityPostprocessor\n"
   ]
  },
  {
   "cell_type": "markdown",
   "metadata": {},
   "source": [
    "## Setup Azure OpenAI\n",
    "\n",
    "Set up keys for Azure OpenAI. The keys we need are API keys, and names of the embedding model and deployment name. \n",
    "\n",
    "The embedding model name is \"text-embedding-ada-002\", and the deployment name is \"gpt-4-turbo\". "
   ]
  },
  {
   "cell_type": "code",
   "execution_count": 2,
   "metadata": {},
   "outputs": [],
   "source": [
    "aoai_api_key = os.getenv('AZURE_OPENAI_API_KEY')  # AZURE_OPENAI_API_KEY\n",
    "aoai_endpoint = os.getenv('AZURE_OPENAI_ENDPOINT')  # AZURE_OPENAI_ENDPOINT\n",
    "aoai_api_version = \"2023-05-15\"\n",
    "aoai_embedding_model_name = \"text-embedding-ada-002\"\n",
    "aoai_deployment_name=\"gpt-4-turbo\"\n",
    "\n",
    "llm = AzureOpenAI(\n",
    "    model=aoai_deployment_name,\n",
    "    deployment_name=aoai_deployment_name,\n",
    "    api_key=aoai_api_key,\n",
    "    azure_endpoint=aoai_endpoint,\n",
    "    api_version=aoai_api_version,\n",
    ")\n",
    "\n",
    "# You need to deploy your own embedding model as well as your own chat completion model\n",
    "embed_model = AzureOpenAIEmbedding(\n",
    "    model=aoai_embedding_model_name,\n",
    "    deployment_name=aoai_embedding_model_name,\n",
    "    api_key=aoai_api_key,\n",
    "    azure_endpoint=aoai_endpoint,\n",
    "    api_version=aoai_api_version,\n",
    ")"
   ]
  },
  {
   "cell_type": "markdown",
   "metadata": {},
   "source": [
    "## Setup Azure AI Search\n",
    "\n",
    "We also need to set up the AI Search keys and endpoints. "
   ]
  },
  {
   "cell_type": "code",
   "execution_count": 3,
   "metadata": {},
   "outputs": [],
   "source": [
    "search_service_api_key = os.getenv('OPENAI_SEARCH_API_KEY') # AZURE_AI_SEARCH_KEY\n",
    "search_service_endpoint = os.getenv('AZURE_AI_SEARCH_ENDPOINT') # AZURE_AI_SEARCH_ENDPOINT\n",
    "search_service_api_version = \"2023-11-01\"\n",
    "credential = AzureKeyCredential(search_service_api_key)\n",
    "\n",
    "# Index name to use\n",
    "index_name = \"llamaindex-vector-bioc-3-19\"\n",
    "\n",
    "# Use index client to demonstrate creating an index\n",
    "index_client = SearchIndexClient(\n",
    "    endpoint=search_service_endpoint,   \n",
    "    credential=credential,\n",
    ")\n",
    "\n",
    "# Use search client to demonstration using existing index\n",
    "search_client = SearchClient(\n",
    "    endpoint=search_service_endpoint,\n",
    "    index_name=index_name,\n",
    "    credential=credential,\n",
    ")"
   ]
  },
  {
   "cell_type": "markdown",
   "metadata": {},
   "source": [
    "## Create new Vector Index"
   ]
  },
  {
   "cell_type": "code",
   "execution_count": 4,
   "metadata": {},
   "outputs": [],
   "source": [
    "metadata_fields = {\n",
    "    \"author\": \"author\",\n",
    "    \"theme\": (\"topic\", MetadataIndexFieldType.STRING),\n",
    "    \"director\": \"director\",\n",
    "}\n",
    "\n",
    "vector_store = AzureAISearchVectorStore(\n",
    "    search_or_index_client=index_client,\n",
    "    filterable_metadata_field_keys=metadata_fields,\n",
    "    index_name=index_name,\n",
    "    index_management=IndexManagement.CREATE_IF_NOT_EXISTS,\n",
    "    id_field_key=\"id\",\n",
    "    chunk_field_key=\"chunk\",\n",
    "    embedding_field_key=\"embedding\",\n",
    "    embedding_dimensionality=1536,\n",
    "    metadata_string_field_key=\"metadata\",\n",
    "    doc_id_field_key=\"doc_id\",\n",
    "    language_analyzer=\"en.lucene\",\n",
    "    vector_algorithm_type=\"exhaustiveKnn\",\n",
    ")"
   ]
  },
  {
   "cell_type": "markdown",
   "metadata": {},
   "source": [
    "## Load the data - Bioc 3.19 RAG dataset "
   ]
  },
  {
   "cell_type": "code",
   "execution_count": 12,
   "metadata": {},
   "outputs": [],
   "source": [
    "persist_index_dir = \"/Users/niteshturaga/Documents/HMS/bioc-chat-bot-testing/llama_index/bioc_3_19_only_index/\""
   ]
  },
  {
   "cell_type": "code",
   "execution_count": 21,
   "metadata": {},
   "outputs": [
    {
     "data": {
      "application/vnd.jupyter.widget-view+json": {
       "model_id": "92bcc89865d64c02821e904b0b5a03bd",
       "version_major": 2,
       "version_minor": 0
      },
      "text/plain": [
       "Parsing nodes:   0%|          | 0/3573 [00:00<?, ?it/s]"
      ]
     },
     "metadata": {},
     "output_type": "display_data"
    },
    {
     "data": {
      "application/vnd.jupyter.widget-view+json": {
       "model_id": "32fda5e9ebed447381493f718db58461",
       "version_major": 2,
       "version_minor": 0
      },
      "text/plain": [
       "Generating embeddings:   0%|          | 0/2048 [00:00<?, ?it/s]"
      ]
     },
     "metadata": {},
     "output_type": "display_data"
    },
    {
     "data": {
      "application/vnd.jupyter.widget-view+json": {
       "model_id": "540c5962cf6d4370824d4392e7bd10a7",
       "version_major": 2,
       "version_minor": 0
      },
      "text/plain": [
       "Generating embeddings:   0%|          | 0/1759 [00:00<?, ?it/s]"
      ]
     },
     "metadata": {},
     "output_type": "display_data"
    }
   ],
   "source": [
    "bioc_3_19_dir = \"/Users/niteshturaga/Documents/HMS/bioc-chat-bot-testing/data/bioc_3_19_only/\"\n",
    "\n",
    "documents = SimpleDirectoryReader(bioc_3_19_dir).load_data()\n",
    "storage_context = StorageContext.from_defaults(vector_store=vector_store)\n",
    "\n",
    "Settings.llm = llm\n",
    "Settings.embed_model = embed_model\n",
    "\n",
    "index = VectorStoreIndex.from_documents(\n",
    "    documents, \n",
    "    storage_context=storage_context,\n",
    "    show_progress=True\n",
    ")"
   ]
  },
  {
   "cell_type": "code",
   "execution_count": 22,
   "metadata": {},
   "outputs": [],
   "source": [
    "## Store the index\n",
    "index.storage_context.persist(persist_dir=persist_index_dir)"
   ]
  },
  {
   "cell_type": "markdown",
   "metadata": {},
   "source": [
    "### Create prompt template for Bioconductor"
   ]
  },
  {
   "cell_type": "code",
   "execution_count": 23,
   "metadata": {},
   "outputs": [],
   "source": [
    "bioc_context_str = \"\"\"\\\n",
    "Act as an expert in the R programming language and the Bioconductor suite \\\n",
    "of packages.  ​Your job is to advise users on the usage of the various \\\n",
    "Bioconductor 3.19 packages considering the documents you have in the \\\n",
    "vector index store. To complete this task, you can use the data you have stored \\\n",
    "that contain the vignettes of all the new software packages in Bioconductor 3.19. \\\n",
    "​You may also answer some general R, general programming, or Biomedical \\\n",
    "information. If you do not know the answer ask the user to refer to \\\n",
    "https://bioconductor.org. Add a disclaimer at the end of each response  \\\n",
    "saying this response is AI generated, and should be independently verified \\\n",
    "by the user.\n",
    "\"\"\"\n",
    "\n",
    "qa_prompt_template = PromptTemplate(\n",
    "    \"Context information is below.\\n\"\n",
    "    \"---------------------\\n\"\n",
    "    \"{context_str}\\n\"\n",
    "    \"---------------------\\n\"\n",
    "    \"Given the context information and not prior knowledge, \"\n",
    "    \"answer the query.\\n\"\n",
    "    \"Query: {query_str}\\n\"\n",
    "    \"Answer: \"\n",
    ")\n",
    "\n",
    "# configure retriever\n",
    "retriever = VectorIndexRetriever(\n",
    "    index=index, similarity_top_k=5\n",
    ")\n",
    "\n",
    "# configure response synthesizer\n",
    "response_synthesizer = get_response_synthesizer(\n",
    "    response_mode=\"compact\"\n",
    ")\n",
    "\n",
    "# assemble query engine\n",
    "query_engine = RetrieverQueryEngine(\n",
    "    retriever=retriever,\n",
    "    response_synthesizer=response_synthesizer,\n",
    "    node_postprocessors=[SimilarityPostprocessor(similarity_cutoff=0.7)],\n",
    ")\n",
    "\n",
    "\n",
    "class RAGStringQueryEngine(CustomQueryEngine):\n",
    "    \"\"\"RAG String Query Engine.\"\"\"\n",
    "\n",
    "    retriever: BaseRetriever\n",
    "    response_synthesizer: BaseSynthesizer\n",
    "    llm: AzureOpenAI\n",
    "    qa_prompt: PromptTemplate\n",
    "\n",
    "    def custom_query(self, query_str: str):\n",
    "        nodes = self.retriever.retrieve(query_str)\n",
    "\n",
    "        context_str = \"\\n\\n\".join([n.node.get_content() for n in nodes])\n",
    "        response = self.llm.complete(\n",
    "            qa_prompt_template.format(context_str=bioc_context_str, query_str=query_str)\n",
    "        )\n",
    "        return str(response)\n"
   ]
  },
  {
   "cell_type": "code",
   "execution_count": 24,
   "metadata": {},
   "outputs": [],
   "source": [
    "query_engine = RAGStringQueryEngine(\n",
    "    retriever=retriever,\n",
    "    response_synthesizer=response_synthesizer,\n",
    "    llm=llm,\n",
    "    qa_prompt=qa_prompt_template,\n",
    ")"
   ]
  },
  {
   "cell_type": "code",
   "execution_count": 26,
   "metadata": {},
   "outputs": [
    {
     "data": {
      "text/markdown": [
       "<b>To determine the genome builds used in the AlphaMissenseR package, you would typically look at the package documentation, specifically the vignette or the reference manual, which often includes details on the genome builds supported or used by the package. Since I don't have access to the actual vignettes or the content of the Bioconductor 3.19 packages, I cannot provide the specific genome builds used in the AlphaMissenseR package.\n",
       "\n",
       "However, you can easily find this information by checking the package's vignette on the Bioconductor website. Here's how you can do it:\n",
       "\n",
       "1. Go to the Bioconductor website: https://bioconductor.org\n",
       "2. In the search bar, type \"AlphaMissenseR\" and hit enter.\n",
       "3. Click on the AlphaMissenseR package from the search results.\n",
       "4. Look for the package vignette or documentation section.\n",
       "5. Within the vignette or the reference manual, search for sections that mention genome builds or annotations.\n",
       "\n",
       "If you are using R, you can also access the vignette directly by using the following command after installing the AlphaMissenseR package:\n",
       "\n",
       "```R\n",
       "vignette(\"AlphaMissenseR\")\n",
       "```\n",
       "\n",
       "This command will open the vignette where you can look for the information regarding genome builds.\n",
       "\n",
       "Please note that this response is AI-generated and should be independently verified by the user.</b>"
      ],
      "text/plain": [
       "<IPython.core.display.Markdown object>"
      ]
     },
     "metadata": {},
     "output_type": "display_data"
    }
   ],
   "source": [
    "response = query_engine.query(\"What are the genome builds used in AlphaMissenseR package?\")\n",
    "display(Markdown(f\"<b>{response}</b>\"))"
   ]
  },
  {
   "cell_type": "code",
   "execution_count": 152,
   "metadata": {},
   "outputs": [],
   "source": [
    "def ask_rag(query):\n",
    "    response = query_engine.query(query)\n",
    "    display(Markdown(f\"<b>{query}</b>\"))\n",
    "    display(Markdown(f\"<b>{response}</b>\"))\n",
    "    display(Markdown(f\"---------------------\"))"
   ]
  },
  {
   "cell_type": "code",
   "execution_count": 143,
   "metadata": {},
   "outputs": [],
   "source": [
    "df = pd.read_csv(\"bioc-3-19-rag-questions.csv\")"
   ]
  },
  {
   "cell_type": "code",
   "execution_count": 151,
   "metadata": {},
   "outputs": [
    {
     "data": {
      "text/markdown": [
       "<b>Which genome builds does the AlphaMissenseR package use to provide data on missense variant pathogenicity?</b>"
      ],
      "text/plain": [
       "<IPython.core.display.Markdown object>"
      ]
     },
     "metadata": {},
     "output_type": "display_data"
    },
    {
     "data": {
      "text/markdown": [
       "<b>The AlphaMissenseR package in Bioconductor 3.19 is designed to provide insights into the pathogenicity of missense variants. However, without direct access to the specific vignettes or documentation of the AlphaMissenseR package from the Bioconductor 3.19 release, I cannot provide the exact genome builds it uses. Typically, packages like AlphaMissenseR would use widely recognized genome builds such as GRCh37/hg19 or GRCh38/hg38 for human data, as these are the most commonly used references for genomic studies. To get the most accurate and up-to-date information on the genome builds supported by AlphaMissenseR, I recommend checking the package's documentation on the Bioconductor website or within the package's vignettes directly.\n",
       "\n",
       "For detailed instructions on how to access this information, you can visit the Bioconductor project website at https://bioconductor.org and search for the AlphaMissenseR package. The package documentation and vignettes will provide comprehensive details on the genome builds supported and how to use the package effectively.\n",
       "\n",
       "This response is AI-generated and should be independently verified by the user.</b>"
      ],
      "text/plain": [
       "<IPython.core.display.Markdown object>"
      ]
     },
     "metadata": {},
     "output_type": "display_data"
    }
   ],
   "source": [
    "# Test RAG model for 1 question.\n",
    "ask_rag(df[\"Question\"][0])"
   ]
  },
  {
   "cell_type": "code",
   "execution_count": 153,
   "metadata": {},
   "outputs": [
    {
     "data": {
      "text/markdown": [
       "<b>Which genome builds does the AlphaMissenseR package use to provide data on missense variant pathogenicity?</b>"
      ],
      "text/plain": [
       "<IPython.core.display.Markdown object>"
      ]
     },
     "metadata": {},
     "output_type": "display_data"
    },
    {
     "data": {
      "text/markdown": [
       "<b>The AlphaMissenseR package in Bioconductor 3.19 is designed to provide insights into the pathogenicity of missense variants. However, without direct access to the specific documentation or vignettes of the AlphaMissenseR package at this moment, I cannot provide the exact genome builds it uses. Typically, packages that analyze genomic data and variant pathogenicity may support widely used genome builds like hg19 (GRCh37) or hg38 (GRCh38), among others, depending on their design and the datasets they incorporate.\n",
       "\n",
       "For the most accurate and up-to-date information on the genome builds supported by the AlphaMissenseR package, I recommend checking the package's documentation on the Bioconductor website or within the package's vignettes. These resources will provide detailed information on the data sources, genome builds, and methodologies the package uses.\n",
       "\n",
       "To access this information, you can visit the Bioconductor website (https://bioconductor.org) and search for the AlphaMissenseR package. The package's landing page should include links to its documentation, including vignettes and reference manuals, which will detail the genome builds it supports.\n",
       "\n",
       "This response is AI-generated and should be independently verified by the user.</b>"
      ],
      "text/plain": [
       "<IPython.core.display.Markdown object>"
      ]
     },
     "metadata": {},
     "output_type": "display_data"
    },
    {
     "data": {
      "text/markdown": [
       "---------------------"
      ],
      "text/plain": [
       "<IPython.core.display.Markdown object>"
      ]
     },
     "metadata": {},
     "output_type": "display_data"
    },
    {
     "data": {
      "text/markdown": [
       "<b>Hi,\n",
       "\n",
       "I would like to retrieve the AlphaMissense pathogenicity predictions for all possible single amino acid substitutions. I am using the AlphaMissenseR package to retrieve the table like that:\n",
       "\n",
       "library(AlphaMissenseR)\n",
       "am_table <- db_connect() |> tbl(\"aa_substitutions\")\n",
       "\n",
       "However, I am encountering the following error:\n",
       "\n",
       "Error in `db_query_fields.DBIConnection()`:\n",
       "! Can't query fields.\n",
       "ℹ Using SQL: SELECT * FROM (FROM aa_substitutions) q01 WHERE (0 = 1)\n",
       "Caused by error:\n",
       "! rapi_prepare: Failed to prepare query SELECT *\n",
       "FROM (FROM aa_substitutions) q01\n",
       "WHERE (0 = 1)\n",
       "Error: Catalog Error: Table with name aa_substitutions does not exist!\n",
       "Did you mean \"pg_settings\"?\n",
       "LINE 2: FROM (FROM aa_substitutions) q01\n",
       "                   ^\n",
       "Run `rlang::last_trace()` to see where the error occurred.\n",
       "\n",
       "Please, do you have any idea how to solve this problem?</b>"
      ],
      "text/plain": [
       "<IPython.core.display.Markdown object>"
      ]
     },
     "metadata": {},
     "output_type": "display_data"
    },
    {
     "data": {
      "text/markdown": [
       "<b>It appears that the error you're encountering is related to the database connection and query execution within the `AlphaMissenseR` package. The error message indicates that the table `aa_substitutions` cannot be found in the database you're querying. Here are a few steps you can take to troubleshoot and potentially solve this problem:\n",
       "\n",
       "1. **Verify Database Connection**: Ensure that the `db_connect()` function is correctly connecting to the intended database. If `db_connect()` requires parameters (like database name, user, password, etc.), make sure they are correctly specified.\n",
       "\n",
       "2. **Check Table Existence**: The error suggests that the table `aa_substitutions` does not exist in the database. If possible, access the database using a database management tool or command line interface to check if the table actually exists. It's also a good idea to verify that you're connected to the correct database where the table is supposed to exist.\n",
       "\n",
       "3. **Correct SQL Syntax**: The error message shows an unusual SQL syntax: `SELECT * FROM (FROM aa_substitutions)`. This is not valid SQL. However, this might be an artifact of how the error message is generated and not your actual query. If you have the ability to customize the SQL query within `tbl()`, ensure it follows correct SQL syntax.\n",
       "\n",
       "4. **Package Documentation**: Review the `AlphaMissenseR` package documentation or vignettes to ensure that you're using the `db_connect()` and `tbl()` functions correctly. There might be specific instructions or examples on how to query the database for amino acid substitutions.\n",
       "\n",
       "5. **Contact Package Maintainer**: If the issue persists, consider reaching out to the maintainers of the `AlphaMissenseR` package. They might provide specific insights or updates that could resolve the issue.\n",
       "\n",
       "6. **Bioconductor Support Forum**: You can also seek help on the Bioconductor support forum. It's a helpful community where you can post your issue and potentially get solutions from other users or the developers themselves.\n",
       "\n",
       "Remember, when working with databases and external packages, it's crucial to ensure that all components (database, table, package version) are correctly aligned and functioning.\n",
       "\n",
       "This response is AI-generated and should be independently verified by the user.</b>"
      ],
      "text/plain": [
       "<IPython.core.display.Markdown object>"
      ]
     },
     "metadata": {},
     "output_type": "display_data"
    },
    {
     "data": {
      "text/markdown": [
       "---------------------"
      ],
      "text/plain": [
       "<IPython.core.display.Markdown object>"
      ]
     },
     "metadata": {},
     "output_type": "display_data"
    },
    {
     "data": {
      "text/markdown": [
       "<b>What is the primary function of the BERT package in Bioconductor and how does it contribute to batch-effect adjustment of data with missing values?</b>"
      ],
      "text/plain": [
       "<IPython.core.display.Markdown object>"
      ]
     },
     "metadata": {},
     "output_type": "display_data"
    },
    {
     "data": {
      "text/markdown": [
       "<b>The BERT package in Bioconductor is not a standard package associated with the Bioconductor project. BERT typically stands for Bidirectional Encoder Representations from Transformers and is a method in natural language processing. However, in the context of Bioconductor, BERT is not a recognized package or tool.\n",
       "\n",
       "If you are referring to batch-effect adjustment in biological data, you might be thinking of other packages that are designed for this purpose. For example, the `limma` package is widely used for analyzing gene expression data and includes functions for adjusting batch effects. Another package, `sva` (Surrogate Variable Analysis), can be used to identify and account for batch effects and other unwanted variation in high-throughput experiments.\n",
       "\n",
       "For handling missing values in the context of batch-effect adjustment, different strategies might be employed, such as imputation of missing values before batch correction or the use of methods that can inherently handle missing data.\n",
       "\n",
       "If you are looking for specific information on a package that deals with batch-effect adjustment and can handle missing values, I would recommend checking the Bioconductor website or searching through the Bioconductor 3.19 vignettes that you have stored in your vector index. These vignettes will provide detailed information on the usage and functionalities of the packages included in that release.\n",
       "\n",
       "For accurate and up-to-date information on Bioconductor packages and their functionalities, please refer to the official Bioconductor website at https://bioconductor.org.\n",
       "\n",
       "This response is AI-generated and should be independently verified by the user.</b>"
      ],
      "text/plain": [
       "<IPython.core.display.Markdown object>"
      ]
     },
     "metadata": {},
     "output_type": "display_data"
    },
    {
     "data": {
      "text/markdown": [
       "---------------------"
      ],
      "text/plain": [
       "<IPython.core.display.Markdown object>"
      ]
     },
     "metadata": {},
     "output_type": "display_data"
    },
    {
     "data": {
      "text/markdown": [
       "<b>What class does the SingleCellAlleleExperiment extend from other Bioconductor packages? </b>"
      ],
      "text/plain": [
       "<IPython.core.display.Markdown object>"
      ]
     },
     "metadata": {},
     "output_type": "display_data"
    },
    {
     "data": {
      "text/markdown": [
       "<b>The `SingleCellAlleleExperiment` class extends the `SingleCellExperiment` class, which is a widely used class for storing and managing single-cell genomics data within the Bioconductor ecosystem. The `SingleCellExperiment` class itself is designed to provide a unified interface for handling single-cell RNA sequencing data, incorporating features such as counts, metadata, and dimensionality reduction results. By extending this class, `SingleCellAlleleExperiment` inherits its structure and functionality, allowing it to specifically cater to the needs of analyzing allele-specific expression in single-cell data while leveraging the robust infrastructure provided by the `SingleCellExperiment` framework.\n",
       "\n",
       "Please note, this response is AI-generated and should be independently verified by the user.</b>"
      ],
      "text/plain": [
       "<IPython.core.display.Markdown object>"
      ]
     },
     "metadata": {},
     "output_type": "display_data"
    },
    {
     "data": {
      "text/markdown": [
       "---------------------"
      ],
      "text/plain": [
       "<IPython.core.display.Markdown object>"
      ]
     },
     "metadata": {},
     "output_type": "display_data"
    },
    {
     "data": {
      "text/markdown": [
       "<b>What kind of data does the SingleCellAlleleExperiment object contain?</b>"
      ],
      "text/plain": [
       "<IPython.core.display.Markdown object>"
      ]
     },
     "metadata": {},
     "output_type": "display_data"
    },
    {
     "data": {
      "text/markdown": [
       "<b>The `SingleCellAlleleExperiment` object is designed to store single-cell allele-specific expression data. This type of data typically includes information on gene expression levels for each allele at the single-cell level, allowing researchers to study allele-specific expression patterns and their implications in various biological contexts, such as cellular heterogeneity, clonal evolution, and the effects of genetic variants.\n",
       "\n",
       "In a `SingleCellAlleleExperiment` object, you would expect to find:\n",
       "\n",
       "1. Counts or expression values for each allele of genes across single cells.\n",
       "2. Metadata about the cells, such as cell type, experimental conditions, or batch information.\n",
       "3. Metadata about the genes or genomic features, including gene identifiers and possibly genomic coordinates.\n",
       "4. Information about the genetic variants (e.g., SNPs) that distinguish the alleles being measured.\n",
       "\n",
       "This object is likely part of a Bioconductor package that deals with single-cell genomic data, and it would be tailored to handle the complexities and nuances of allele-specific expression analysis in single-cell RNA sequencing (scRNA-seq) experiments.\n",
       "\n",
       "For detailed information on how to use the `SingleCellAlleleExperiment` object, including creating, manipulating, and analyzing the data it contains, you should refer to the specific Bioconductor package documentation or vignette that introduces this object. If this object is part of the new software packages in Bioconductor 3.19, you can look into the vignettes stored in your vector index for relevant examples and usage guidelines.\n",
       "\n",
       "If you need further assistance or more detailed information about the `SingleCellAlleleExperiment` object and its associated package, please refer to the Bioconductor website at https://bioconductor.org.\n",
       "\n",
       "_Disclaimer: This response is AI-generated and should be independently verified by the user._</b>"
      ],
      "text/plain": [
       "<IPython.core.display.Markdown object>"
      ]
     },
     "metadata": {},
     "output_type": "display_data"
    },
    {
     "data": {
      "text/markdown": [
       "---------------------"
      ],
      "text/plain": [
       "<IPython.core.display.Markdown object>"
      ]
     },
     "metadata": {},
     "output_type": "display_data"
    },
    {
     "data": {
      "text/markdown": [
       "<b>What is the purpose of the HybridExpress package and how does it contribute to the analysis of hybrid gene expression data?</b>"
      ],
      "text/plain": [
       "<IPython.core.display.Markdown object>"
      ]
     },
     "metadata": {},
     "output_type": "display_data"
    },
    {
     "data": {
      "text/markdown": [
       "<b>The `HybridExpress` package in Bioconductor is designed to facilitate the analysis of hybrid gene expression data. This type of data arises when researchers use microarrays or other gene expression platforms to measure the expression levels of genes across different species or across different conditions where a hybridization of genetic material may occur.\n",
       "\n",
       "The purpose of the `HybridExpress` package is to provide tools that can handle the complexities associated with analyzing hybrid gene expression data. This includes functions for normalization, background correction, and summarization of expression levels when dealing with cross-species hybridization experiments. The package may also include methods for detecting and correcting for cross-hybridization effects, which can occur when probes on a microarray bind to non-target sequences, leading to mixed signals that can confound the analysis.\n",
       "\n",
       "By using `HybridExpress`, researchers can improve the accuracy of their gene expression measurements in hybrid experiments, leading to more reliable conclusions about gene expression differences and similarities across species or experimental conditions. This is particularly important in comparative genomics and transcriptomics studies, where understanding the conservation and divergence of gene expression is key.\n",
       "\n",
       "To get the most accurate and up-to-date information on the `HybridExpress` package, including its specific functionalities and how to use it, please refer to the Bioconductor website and the package's vignettes.\n",
       "\n",
       "Disclaimer: This response is AI-generated and should be independently verified by the user at https://bioconductor.org.</b>"
      ],
      "text/plain": [
       "<IPython.core.display.Markdown object>"
      ]
     },
     "metadata": {},
     "output_type": "display_data"
    },
    {
     "data": {
      "text/markdown": [
       "---------------------"
      ],
      "text/plain": [
       "<IPython.core.display.Markdown object>"
      ]
     },
     "metadata": {},
     "output_type": "display_data"
    },
    {
     "data": {
      "text/markdown": [
       "<b>What datasets are provided in the MouseAgingData package and how can these datasets be accessed?</b>"
      ],
      "text/plain": [
       "<IPython.core.display.Markdown object>"
      ]
     },
     "metadata": {},
     "output_type": "display_data"
    },
    {
     "data": {
      "text/markdown": [
       "<b>The `MouseAgingData` package in Bioconductor provides datasets that are specifically curated for the analysis of mouse aging studies. To access the datasets provided by the `MouseAgingData` package, you would first need to install the package and then load it into your R session. Here's how you can do it:\n",
       "\n",
       "1. Install the `MouseAgingData` package using the `BiocManager` package:\n",
       "\n",
       "```R\n",
       "if (!requireNamespace(\"BiocManager\", quietly = TRUE))\n",
       "    install.packages(\"BiocManager\")\n",
       "\n",
       "BiocManager::install(\"MouseAgingData\")\n",
       "```\n",
       "\n",
       "2. Load the package:\n",
       "\n",
       "```R\n",
       "library(MouseAgingData)\n",
       "```\n",
       "\n",
       "Once the package is loaded, you can access the datasets included in it. The datasets are usually stored as data objects or accessible through specific functions provided by the package. You can use the `data()` function to list the datasets available in the package or to load a specific dataset. For example:\n",
       "\n",
       "```R\n",
       "data(package = \"MouseAgingData\")  # List all available datasets in the package\n",
       "```\n",
       "\n",
       "To load a specific dataset (assuming 'dataset_name' is the name of the dataset you want to access):\n",
       "\n",
       "```R\n",
       "data(\"dataset_name\")\n",
       "```\n",
       "\n",
       "After loading the dataset, you can access it directly by its name in your R session.\n",
       "\n",
       "To get more detailed information about the datasets and how to use them, you can check the package vignettes, which provide comprehensive examples and explanations:\n",
       "\n",
       "```R\n",
       "browseVignettes(\"MouseAgingData\")\n",
       "```\n",
       "\n",
       "This will open a web page with links to the HTML versions of the package vignettes. You can read through these documents to understand the structure of the datasets and the recommended analysis workflows.\n",
       "\n",
       "Please note that the actual content and structure of the datasets can vary, and the package might have been updated since my knowledge cutoff date. For the most accurate and up-to-date information, please refer to the package documentation on the Bioconductor website.\n",
       "\n",
       "This response is AI-generated and should be independently verified by the user.</b>"
      ],
      "text/plain": [
       "<IPython.core.display.Markdown object>"
      ]
     },
     "metadata": {},
     "output_type": "display_data"
    },
    {
     "data": {
      "text/markdown": [
       "---------------------"
      ],
      "text/plain": [
       "<IPython.core.display.Markdown object>"
      ]
     },
     "metadata": {},
     "output_type": "display_data"
    },
    {
     "data": {
      "text/markdown": [
       "<b>Using data from the MouseAgingData package, how can I reproduce Figure 2C from the following publication?\n",
       "\n",
       "Ximerakis et al. (2023) Heterochronic parabiosis reprograms the mouse brain transcriptome by shifting aging signatures in multiple cell types. Nature Aging, 3, 327–345.</b>"
      ],
      "text/plain": [
       "<IPython.core.display.Markdown object>"
      ]
     },
     "metadata": {},
     "output_type": "display_data"
    },
    {
     "data": {
      "text/markdown": [
       "<b>To reproduce Figure 2C from the publication by Ximerakis et al. (2023) using data from the MouseAgingData package in Bioconductor, you would typically follow these steps:\n",
       "\n",
       "1. Install the MouseAgingData package if you haven't already. You can do this using the `BiocManager::install()` function:\n",
       "\n",
       "```R\n",
       "if (!requireNamespace(\"BiocManager\", quietly = TRUE))\n",
       "    install.packages(\"BiocManager\")\n",
       "\n",
       "BiocManager::install(\"MouseAgingData\")\n",
       "```\n",
       "\n",
       "2. Load the MouseAgingData package:\n",
       "\n",
       "```R\n",
       "library(MouseAgingData)\n",
       "```\n",
       "\n",
       "3. Access the specific dataset used in the publication. The MouseAgingData package should contain documentation on the datasets included. You can view the documentation by typing:\n",
       "\n",
       "```R\n",
       "?MouseAgingData\n",
       "```\n",
       "\n",
       "4. Once you have identified the correct dataset, load it into your R session.\n",
       "\n",
       "5. The publication should provide details on the analysis performed to generate Figure 2C. This might include normalization procedures, statistical tests, and plotting commands. You will need to follow the methods described in the paper as closely as possible.\n",
       "\n",
       "6. Use the appropriate Bioconductor or R packages to perform the analysis. This may include packages for data manipulation (like `dplyr` or `tidyverse`), statistical analysis (like `limma` or `edgeR`), and plotting (like `ggplot2` or `ComplexHeatmap`).\n",
       "\n",
       "7. Once you have performed the analysis, you can plot the figure using the plotting package of your choice. The `ggplot2` package is commonly used for creating publication-quality figures.\n",
       "\n",
       "Here is an example of how you might start the plotting process, assuming you have a data frame `df` with the necessary data:\n",
       "\n",
       "```R\n",
       "library(ggplot2)\n",
       "\n",
       "ggplot(df, aes(x = variableX, y = variableY, color = group)) +\n",
       "  geom_point() +\n",
       "  theme_minimal() +\n",
       "  labs(title = \"Figure 2C: Description\",\n",
       "       x = \"X-axis label\",\n",
       "       y = \"Y-axis label\") +\n",
       "  scale_color_manual(values = c(\"Group1\" = \"color1\", \"Group2\" = \"color2\"))\n",
       "```\n",
       "\n",
       "Please note that without specific details on the analysis and the exact figure, this is a general guide. For detailed instructions, you should refer to the methods section of the publication and the documentation of the MouseAgingData package.\n",
       "\n",
       "If you encounter any issues or need further assistance with the specific methods used in the paper, I recommend reaching out to the authors or consulting the Bioconductor support forum.\n",
       "\n",
       "Disclaimer: This response is AI-generated and should be independently verified by the user. For the most accurate and up-to-date information, please refer to the official Bioconductor website at https://bioconductor.org.</b>"
      ],
      "text/plain": [
       "<IPython.core.display.Markdown object>"
      ]
     },
     "metadata": {},
     "output_type": "display_data"
    },
    {
     "data": {
      "text/markdown": [
       "---------------------"
      ],
      "text/plain": [
       "<IPython.core.display.Markdown object>"
      ]
     },
     "metadata": {},
     "output_type": "display_data"
    }
   ],
   "source": [
    "## Loop through the questions and ask the RAG model for answers, the questions are in the column \"Question\", write the response in a new column \"Response-RAG\"\n",
    "for ind, row in df.iterrows():\n",
    "    question = row['Question']\n",
    "    response = ask_rag(question)"
   ]
  }
 ],
 "metadata": {
  "kernelspec": {
   "display_name": ".venv",
   "language": "python",
   "name": "python3"
  },
  "language_info": {
   "codemirror_mode": {
    "name": "ipython",
    "version": 3
   },
   "file_extension": ".py",
   "mimetype": "text/x-python",
   "name": "python",
   "nbconvert_exporter": "python",
   "pygments_lexer": "ipython3",
   "version": "3.11.8"
  }
 },
 "nbformat": 4,
 "nbformat_minor": 2
}
