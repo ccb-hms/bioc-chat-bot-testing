{
 "cells": [
  {
   "cell_type": "markdown",
   "metadata": {},
   "source": [
    "# Test Azure GPT-4 based model with RAG store of Top 500 Bioconductor package"
   ]
  },
  {
   "cell_type": "markdown",
   "metadata": {},
   "source": [
    "### Get relevant keys from Azure"
   ]
  },
  {
   "cell_type": "code",
   "execution_count": 2,
   "metadata": {},
   "outputs": [],
   "source": [
    "import os, openai, requests\n",
    "import pandas as pd\n",
    "    \n",
    "## Declare keys\n",
    "api_key = os.getenv(\"OPENAI_API_KEY\")\n",
    "search_key = os.getenv(\"OPENAI_SEARCH_KEY\")\n",
    "endpoint = os.getenv(\"OPENAI_ENDPOINT\")"
   ]
  },
  {
   "cell_type": "markdown",
   "metadata": {},
   "source": [
    "Declare the deployment name, endpoint and the name of the search index."
   ]
  },
  {
   "cell_type": "code",
   "execution_count": 3,
   "metadata": {},
   "outputs": [],
   "source": [
    "\n",
    "openai.api_type = \"azure\"\n",
    "# Azure OpenAI on your own data is only supported by the 2023-08-01-preview API version\n",
    "openai.api_version = \"2023-08-01-preview\"\n",
    "\n",
    "# Azure OpenAI setup\n",
    "openai.api_base = endpoint\n",
    "openai.api_key = api_key \n",
    "deployment_id = \"gpt-4-test\" \n",
    "\n",
    "# Azure AI Search setup\n",
    "search_endpoint = \"https://hmsaisearch.search.windows.net\"; # Add your Azure AI Search endpoint here\n",
    "search_index_name = \"bioc-top-500\"; # Add your Azure AI Search index name here\n",
    "    \n",
    "# https://hms-it-openai.openai.azure.com/openai/deployments/gpt-4-test/extensions/chat/completions?api-version=2024-02-15-preview"
   ]
  },
  {
   "cell_type": "markdown",
   "metadata": {},
   "source": [
    "Create a \"client\" object with AzureOpenAI with the correct api key."
   ]
  },
  {
   "cell_type": "code",
   "execution_count": 4,
   "metadata": {},
   "outputs": [],
   "source": [
    "# https://hms-it-openai.openai.azure.com/openai/deployments/gpt-4-test/extensions/chat/completions?api-version=2024-02-15-preview\n",
    "\n",
    "client = openai.AzureOpenAI(\n",
    "    base_url=f\"{endpoint}/openai/deployments/{deployment_id}/extensions\",\n",
    "    api_key=api_key,\n",
    "    api_version=\"2023-08-01-preview\",\n",
    ")"
   ]
  },
  {
   "cell_type": "markdown",
   "metadata": {},
   "source": [
    "Note: This step is to set up the RAG store i.e \"bring your own data\" search index that has to be registered with the deployment in hand - `gpt-4-test`."
   ]
  },
  {
   "cell_type": "code",
   "execution_count": 5,
   "metadata": {},
   "outputs": [],
   "source": [
    "def setup_byod(deployment_id: str) -> None:\n",
    "    \"\"\"Sets up the OpenAI Python SDK to use your own data for the chat endpoint.\n",
    " \n",
    "    :param deployment_id: The deployment ID for the model to use with your own data.\n",
    "\n",
    "    To remove this configuration, simply set openai.requestssession to None.\n",
    "    \"\"\"\n",
    "\n",
    "    class BringYourOwnDataAdapter(requests.adapters.HTTPAdapter):\n",
    "\n",
    "     def send(self, request, **kwargs):\n",
    "         request.url = f\"{openai.api_base}/openai/deployments/{deployment_id}/extensions/chat/completions?api-version={openai.api_version}\"\n",
    "         return super().send(request, **kwargs)\n",
    "\n",
    "    session = requests.Session()\n",
    "\n",
    "    # Mount a custom adapter which will use the extensions endpoint for any call using the given `deployment_id`\n",
    "    session.mount(\n",
    "        prefix=f\"{openai.api_base}/openai/deployments/{deployment_id}\",\n",
    "        adapter=BringYourOwnDataAdapter()\n",
    "    )\n",
    "\n",
    "    openai.requestssession = session\n",
    "\n",
    "setup_byod(deployment_id)"
   ]
  },
  {
   "cell_type": "markdown",
   "metadata": {},
   "source": [
    "### Generic function to ask a question from our BYOD model with GPT-4"
   ]
  },
  {
   "cell_type": "code",
   "execution_count": 6,
   "metadata": {},
   "outputs": [],
   "source": [
    "def ask_rag(question, verbose = False):\n",
    "\n",
    "    completion = client.chat.completions.create(\n",
    "        messages=[{\"role\": \"user\", \"content\": question}],\n",
    "        model=deployment_id,\n",
    "        extra_body={\n",
    "            \"dataSources\": [\n",
    "                {\n",
    "                    \"type\": \"AzureCognitiveSearch\",\n",
    "                    \"parameters\": {\n",
    "                        \"endpoint\": search_endpoint,\n",
    "                        \"key\": search_key,\n",
    "                        \"indexName\": search_index_name,\n",
    "                        \"roleInformation\": \"Act as an expert in the R programming language and the Bioconductor suite of packages.  ​\\n\\nYour job is to advise users on the usage of the various Bioconductor packages considering the documents you have in the data store.  ​\\n\\nTo complete this task, you can use the data you have stored that contain the vignettes of all the packages in Bioconductor and all the reference files of every function in every package of Bioconductor. ​You may also answer some general R, general programming, or Biomedical information.\\n\\nIf you do not know the answer ask the user to refer to https://bioconductor.org. \\n\\nAdd a disclaimer at the end of each response saying this model works only on the top 500 most used Bioconductor packages.\"\n",
    "                    }\n",
    "                }\n",
    "            ]\n",
    "        }\n",
    "    )\n",
    "    if (verbose == True):\n",
    "        print(f\"{completion.choices[0].message.role}: {completion.choices[0].message.content}\")\n",
    "\n",
    "    return(completion.choices[0].message.content)"
   ]
  },
  {
   "cell_type": "code",
   "execution_count": 7,
   "metadata": {},
   "outputs": [],
   "source": [
    "# `context` is in the model_extra for Azure\n",
    "# print(f\"\\nContext: {completion.choices[0].message.model_extra['context']['messages'][0]['content']}\")"
   ]
  },
  {
   "cell_type": "markdown",
   "metadata": {},
   "source": [
    "### Questions for SummarizedExperiemnt"
   ]
  },
  {
   "cell_type": "code",
   "execution_count": 8,
   "metadata": {},
   "outputs": [
    {
     "name": "stdout",
     "output_type": "stream",
     "text": [
      "assistant: The SummarizedExperiment package contains two classes: SummarizedExperiment and RangedSummarizedExperiment [doc1].\n"
     ]
    },
    {
     "data": {
      "text/plain": [
       "'The SummarizedExperiment package contains two classes: SummarizedExperiment and RangedSummarizedExperiment [doc1].'"
      ]
     },
     "execution_count": 8,
     "metadata": {},
     "output_type": "execute_result"
    }
   ],
   "source": [
    "## summarized experiment \n",
    "question = \"How many classes are there in the Summarized Experiment package? Just give me a number.\"\n",
    "\n",
    "ask_rag(question, verbose=True)"
   ]
  },
  {
   "cell_type": "markdown",
   "metadata": {},
   "source": [
    "### Questions for DESeq2"
   ]
  },
  {
   "cell_type": "code",
   "execution_count": 9,
   "metadata": {},
   "outputs": [
    {
     "name": "stdout",
     "output_type": "stream",
     "text": [
      "assistant: DESeq2 estimates size factors for each sample in your experiment. Therefore, if your experiment has 5 samples, DESeq2 will estimate 5 size factors, one for each sample [doc1]. \n",
      "\n",
      "Please note that this model works only on the top 500 most used Bioconductor packages. For more specific or advanced usage, please refer to the official Bioconductor documentation at https://bioconductor.org.\n"
     ]
    },
    {
     "data": {
      "text/plain": [
       "'DESeq2 estimates size factors for each sample in your experiment. Therefore, if your experiment has 5 samples, DESeq2 will estimate 5 size factors, one for each sample [doc1]. \\n\\nPlease note that this model works only on the top 500 most used Bioconductor packages. For more specific or advanced usage, please refer to the official Bioconductor documentation at https://bioconductor.org.'"
      ]
     },
     "execution_count": 9,
     "metadata": {},
     "output_type": "execute_result"
    }
   ],
   "source": [
    "## DESeq2\n",
    "\n",
    "question = \"DESeq2 performs normalization by estimating size factors for each sample. If your experiment has 5 samples, how many size factors will DESeq2 estimate?\"\n",
    "\n",
    "ask_rag(question, verbose=True)"
   ]
  },
  {
   "cell_type": "markdown",
   "metadata": {},
   "source": [
    "### Questions for limma"
   ]
  },
  {
   "cell_type": "code",
   "execution_count": 10,
   "metadata": {},
   "outputs": [
    {
     "name": "stdout",
     "output_type": "stream",
     "text": [
      "assistant: In the scenario you described, where you have a case-control study with 30 control samples and 30 case samples, and you're using the limma package to analyze RNA-seq data, the number of coefficients estimated by limma for the gene expression data would be 2. \n",
      "\n",
      "This is because in a basic case-control study design, the linear model in limma would typically include an intercept term and a term for the case-control status. The intercept term represents the baseline level of gene expression (usually corresponding to the control group), and the case-control term represents the difference in gene expression between the case group and the control group. \n",
      "\n",
      "So, in this scenario, limma would estimate one coefficient for the intercept and one coefficient for the case-control status, resulting in a total of 2 coefficients [doc2][doc4].\n",
      "\n",
      "Please note that this model works only on the top 500 most used Bioconductor packages. For more complex study designs or additional information, please refer to the limma user guide or the Bioconductor website (https://bioconductor.org).\n"
     ]
    },
    {
     "data": {
      "text/plain": [
       "\"In the scenario you described, where you have a case-control study with 30 control samples and 30 case samples, and you're using the limma package to analyze RNA-seq data, the number of coefficients estimated by limma for the gene expression data would be 2. \\n\\nThis is because in a basic case-control study design, the linear model in limma would typically include an intercept term and a term for the case-control status. The intercept term represents the baseline level of gene expression (usually corresponding to the control group), and the case-control term represents the difference in gene expression between the case group and the control group. \\n\\nSo, in this scenario, limma would estimate one coefficient for the intercept and one coefficient for the case-control status, resulting in a total of 2 coefficients [doc2][doc4].\\n\\nPlease note that this model works only on the top 500 most used Bioconductor packages. For more complex study designs or additional information, please refer to the limma user guide or the Bioconductor website (https://bioconductor.org).\""
      ]
     },
     "execution_count": 10,
     "metadata": {},
     "output_type": "execute_result"
    }
   ],
   "source": [
    "## Limma\n",
    "question = \"You use limma to analyze RNA-seq data from a case-control study with 30 control samples and 30 case samples. After fitting the linear model, how many coefficients will be estimated by limma for the gene expression data (assuming no additional covariates are included in the model)?\"\n",
    "\n",
    "ask_rag(question, verbose=True)"
   ]
  },
  {
   "cell_type": "markdown",
   "metadata": {},
   "source": [
    "### Questions for SingleCellExperiment\n",
    "\n",
    "This questions doesn't give a good answer."
   ]
  },
  {
   "cell_type": "code",
   "execution_count": 11,
   "metadata": {},
   "outputs": [
    {
     "name": "stdout",
     "output_type": "stream",
     "text": [
      "assistant: The SingleCellExperiment object is a complex object with multiple slots. However, the exact number of slots is not specified in the retrieved documents. The SingleCellExperiment object is designed to store single-cell experiment data, including assay data, feature data, and cell metadata. It is a part of the Bioconductor project and is used extensively in R packages for single-cell data analysis.\n",
      "\n",
      "For detailed information about the structure and slots of the SingleCellExperiment object, please refer to the official Bioconductor documentation at https://bioconductor.org.\n",
      "\n",
      "Please note that this model works only on the top 500 most used Bioconductor packages.\n"
     ]
    },
    {
     "data": {
      "text/plain": [
       "'The SingleCellExperiment object is a complex object with multiple slots. However, the exact number of slots is not specified in the retrieved documents. The SingleCellExperiment object is designed to store single-cell experiment data, including assay data, feature data, and cell metadata. It is a part of the Bioconductor project and is used extensively in R packages for single-cell data analysis.\\n\\nFor detailed information about the structure and slots of the SingleCellExperiment object, please refer to the official Bioconductor documentation at https://bioconductor.org.\\n\\nPlease note that this model works only on the top 500 most used Bioconductor packages.'"
      ]
     },
     "execution_count": 11,
     "metadata": {},
     "output_type": "execute_result"
    }
   ],
   "source": [
    "question = \"how many slots does the SingleCellExperiment object have?\"\n",
    "\n",
    "ask_rag(question, verbose=True)"
   ]
  },
  {
   "cell_type": "markdown",
   "metadata": {},
   "source": [
    "## Read in Bioc QA top 10 "
   ]
  },
  {
   "cell_type": "markdown",
   "metadata": {},
   "source": [
    "Read in with Pandas"
   ]
  },
  {
   "cell_type": "code",
   "execution_count": 12,
   "metadata": {},
   "outputs": [],
   "source": [
    "top_10_qs = pd.read_csv('bioc_qa_top10.csv')"
   ]
  },
  {
   "cell_type": "code",
   "execution_count": 13,
   "metadata": {},
   "outputs": [
    {
     "data": {
      "text/html": [
       "<div>\n",
       "<style scoped>\n",
       "    .dataframe tbody tr th:only-of-type {\n",
       "        vertical-align: middle;\n",
       "    }\n",
       "\n",
       "    .dataframe tbody tr th {\n",
       "        vertical-align: top;\n",
       "    }\n",
       "\n",
       "    .dataframe thead th {\n",
       "        text-align: right;\n",
       "    }\n",
       "</style>\n",
       "<table border=\"1\" class=\"dataframe\">\n",
       "  <thead>\n",
       "    <tr style=\"text-align: right;\">\n",
       "      <th></th>\n",
       "      <th>AID</th>\n",
       "      <th>QID</th>\n",
       "      <th>Question</th>\n",
       "      <th>Response</th>\n",
       "    </tr>\n",
       "  </thead>\n",
       "  <tbody>\n",
       "    <tr>\n",
       "      <th>0</th>\n",
       "      <td>answer1</td>\n",
       "      <td>question1</td>\n",
       "      <td>I am a bit confused about the concepts of the ...</td>\n",
       "      <td>The thing to understand is that terms like FDR...</td>\n",
       "    </tr>\n",
       "    <tr>\n",
       "      <th>1</th>\n",
       "      <td>answer2</td>\n",
       "      <td>question2</td>\n",
       "      <td>I am working on RNA-Seq data. I'm using DESeq2...</td>\n",
       "      <td>Just to be clear, there's an important differe...</td>\n",
       "    </tr>\n",
       "    <tr>\n",
       "      <th>2</th>\n",
       "      <td>answer3</td>\n",
       "      <td>question3</td>\n",
       "      <td>I am new in this kind of analysis and I have a...</td>\n",
       "      <td>There is no good way to do a DE analysis of RN...</td>\n",
       "    </tr>\n",
       "    <tr>\n",
       "      <th>3</th>\n",
       "      <td>answer4</td>\n",
       "      <td>question4</td>\n",
       "      <td>I am testing salmon and kallisto for RNA-seq. ...</td>\n",
       "      <td>To answer your questions:1) scaledTPM is TPM's...</td>\n",
       "    </tr>\n",
       "    <tr>\n",
       "      <th>4</th>\n",
       "      <td>answer5</td>\n",
       "      <td>question5</td>\n",
       "      <td>In all RNA-seq analysis applications they talk...</td>\n",
       "      <td>The most complete explanation of what the disp...</td>\n",
       "    </tr>\n",
       "    <tr>\n",
       "      <th>5</th>\n",
       "      <td>answer6</td>\n",
       "      <td>question6</td>\n",
       "      <td>I know findOverlaps() from GenomicRanges packa...</td>\n",
       "      <td>From the discussion below, an efficient starti...</td>\n",
       "    </tr>\n",
       "    <tr>\n",
       "      <th>6</th>\n",
       "      <td>answer7</td>\n",
       "      <td>question7</td>\n",
       "      <td>I have just downloaded CNV level 3 files from ...</td>\n",
       "      <td>I wrote two helper functions, explained belowg...</td>\n",
       "    </tr>\n",
       "    <tr>\n",
       "      <th>7</th>\n",
       "      <td>answer8</td>\n",
       "      <td>question8</td>\n",
       "      <td>How can I filter out the genes with low read c...</td>\n",
       "      <td>If you want to filter out genes with low expre...</td>\n",
       "    </tr>\n",
       "    <tr>\n",
       "      <th>8</th>\n",
       "      <td>answer9</td>\n",
       "      <td>question9</td>\n",
       "      <td>I am analysing my RNA-Seq data with DESeq2. At...</td>\n",
       "      <td>You can use the ensembldb package to do the ma...</td>\n",
       "    </tr>\n",
       "    <tr>\n",
       "      <th>9</th>\n",
       "      <td>answer10</td>\n",
       "      <td>question10</td>\n",
       "      <td>How do I merge a list of GRanges? What I want ...</td>\n",
       "      <td>Merge is a pretty vague term. My understanding...</td>\n",
       "    </tr>\n",
       "  </tbody>\n",
       "</table>\n",
       "</div>"
      ],
      "text/plain": [
       "        AID         QID                                           Question  \\\n",
       "0   answer1   question1  I am a bit confused about the concepts of the ...   \n",
       "1   answer2   question2  I am working on RNA-Seq data. I'm using DESeq2...   \n",
       "2   answer3   question3  I am new in this kind of analysis and I have a...   \n",
       "3   answer4   question4  I am testing salmon and kallisto for RNA-seq. ...   \n",
       "4   answer5   question5  In all RNA-seq analysis applications they talk...   \n",
       "5   answer6   question6  I know findOverlaps() from GenomicRanges packa...   \n",
       "6   answer7   question7  I have just downloaded CNV level 3 files from ...   \n",
       "7   answer8   question8  How can I filter out the genes with low read c...   \n",
       "8   answer9   question9  I am analysing my RNA-Seq data with DESeq2. At...   \n",
       "9  answer10  question10  How do I merge a list of GRanges? What I want ...   \n",
       "\n",
       "                                            Response  \n",
       "0  The thing to understand is that terms like FDR...  \n",
       "1  Just to be clear, there's an important differe...  \n",
       "2  There is no good way to do a DE analysis of RN...  \n",
       "3  To answer your questions:1) scaledTPM is TPM's...  \n",
       "4  The most complete explanation of what the disp...  \n",
       "5  From the discussion below, an efficient starti...  \n",
       "6  I wrote two helper functions, explained belowg...  \n",
       "7  If you want to filter out genes with low expre...  \n",
       "8  You can use the ensembldb package to do the ma...  \n",
       "9  Merge is a pretty vague term. My understanding...  "
      ]
     },
     "execution_count": 13,
     "metadata": {},
     "output_type": "execute_result"
    }
   ],
   "source": [
    "top_10_qs"
   ]
  },
  {
   "cell_type": "markdown",
   "metadata": {},
   "source": [
    "Ask the RAG model with the top 500 bioconductor packages questions from the `top_10_qs.csv` and append the responses to `azure_rag_responses`."
   ]
  },
  {
   "cell_type": "code",
   "execution_count": 14,
   "metadata": {},
   "outputs": [],
   "source": [
    "azure_rag_responses = []\n",
    "for question in top_10_qs[\"Question\"]:\n",
    "    response = ask_rag(question)\n",
    "    azure_rag_responses.append(response)\n"
   ]
  },
  {
   "cell_type": "markdown",
   "metadata": {},
   "source": [
    "## We now run the same model without RAG i.e just a generic GPT-4 model"
   ]
  },
  {
   "cell_type": "code",
   "execution_count": 15,
   "metadata": {},
   "outputs": [
    {
     "name": "stdout",
     "output_type": "stream",
     "text": [
      "assistant: Hello! How can I assist you today?\n"
     ]
    },
    {
     "data": {
      "text/plain": [
       "'Hello! How can I assist you today?'"
      ]
     },
     "execution_count": 15,
     "metadata": {},
     "output_type": "execute_result"
    }
   ],
   "source": [
    "client = openai.AzureOpenAI(\n",
    "    base_url=f\"{endpoint}/openai/deployments/{deployment_id}/extensions\",\n",
    "    api_key=api_key,\n",
    "    api_version=\"2023-08-01-preview\",\n",
    ")\n",
    "\n",
    "def ask_gpt4(question, verbose = False):\n",
    "\n",
    "    completion = client.chat.completions.create(\n",
    "            messages=[{\"role\": \"user\", \"content\": question}],\n",
    "            model=deployment_id,\n",
    "            extra_body={\n",
    "                \"dataSources\": [\n",
    "                    {\n",
    "                        \"type\": \"AzureCognitiveSearch\",\n",
    "                        \"parameters\": {\n",
    "                            \"endpoint\": search_endpoint,\n",
    "                            \"key\": search_key,\n",
    "                            \"indexName\": search_index_name\n",
    "                        }\n",
    "                    }\n",
    "                ]\n",
    "            },\n",
    "            temperature=0.0\n",
    "        )\n",
    "    \n",
    "    if (verbose == True):\n",
    "        print(f\"{completion.choices[0].message.role}: {completion.choices[0].message.content}\")\n",
    "\n",
    "    return(completion.choices[0].message.content)    \n",
    "\n",
    "ask_gpt4(\"Hello world\", verbose=True)"
   ]
  },
  {
   "cell_type": "code",
   "execution_count": 19,
   "metadata": {},
   "outputs": [],
   "source": [
    "azure_gpt4_temp0_responses = []\n",
    "for question in top_10_qs[\"Question\"]:\n",
    "    response = ask_gpt4(question)\n",
    "    azure_gpt4_temp0_responses.append(response)"
   ]
  },
  {
   "cell_type": "code",
   "execution_count": 21,
   "metadata": {},
   "outputs": [],
   "source": [
    "top_10_qs.insert(4, \"Response_Azure_Bioc_RAG\", azure_rag_responses, True)\n",
    "top_10_qs.insert(5, \"Response_Azure_GPT4_Temp0\", azure_gpt4_temp0_responses, True)\n",
    "top_10_qs.to_csv(\"top_10_qs_with_azure_RAG.csv\", index=False)\n"
   ]
  },
  {
   "cell_type": "code",
   "execution_count": 22,
   "metadata": {},
   "outputs": [
    {
     "data": {
      "text/html": [
       "<div>\n",
       "<style scoped>\n",
       "    .dataframe tbody tr th:only-of-type {\n",
       "        vertical-align: middle;\n",
       "    }\n",
       "\n",
       "    .dataframe tbody tr th {\n",
       "        vertical-align: top;\n",
       "    }\n",
       "\n",
       "    .dataframe thead th {\n",
       "        text-align: right;\n",
       "    }\n",
       "</style>\n",
       "<table border=\"1\" class=\"dataframe\">\n",
       "  <thead>\n",
       "    <tr style=\"text-align: right;\">\n",
       "      <th></th>\n",
       "      <th>AID</th>\n",
       "      <th>QID</th>\n",
       "      <th>Question</th>\n",
       "      <th>Response</th>\n",
       "      <th>Response_Azure_Bioc_RAG</th>\n",
       "      <th>Response_Azure_GPT4_Temp0</th>\n",
       "    </tr>\n",
       "  </thead>\n",
       "  <tbody>\n",
       "    <tr>\n",
       "      <th>0</th>\n",
       "      <td>answer1</td>\n",
       "      <td>question1</td>\n",
       "      <td>I am a bit confused about the concepts of the ...</td>\n",
       "      <td>The thing to understand is that terms like FDR...</td>\n",
       "      <td>The False Discovery Rate (FDR) is a statistica...</td>\n",
       "      <td>The False Discovery Rate (FDR) is a statistica...</td>\n",
       "    </tr>\n",
       "    <tr>\n",
       "      <th>1</th>\n",
       "      <td>answer2</td>\n",
       "      <td>question2</td>\n",
       "      <td>I am working on RNA-Seq data. I'm using DESeq2...</td>\n",
       "      <td>Just to be clear, there's an important differe...</td>\n",
       "      <td>The batch effect can indeed be accounted for i...</td>\n",
       "      <td>Based on the retrieved documents, there are se...</td>\n",
       "    </tr>\n",
       "    <tr>\n",
       "      <th>2</th>\n",
       "      <td>answer3</td>\n",
       "      <td>question3</td>\n",
       "      <td>I am new in this kind of analysis and I have a...</td>\n",
       "      <td>There is no good way to do a DE analysis of RN...</td>\n",
       "      <td>Yes, you are correct that DESeq, DESeq2, and E...</td>\n",
       "      <td>Yes, you're correct that many R packages for d...</td>\n",
       "    </tr>\n",
       "    <tr>\n",
       "      <th>3</th>\n",
       "      <td>answer4</td>\n",
       "      <td>question4</td>\n",
       "      <td>I am testing salmon and kallisto for RNA-seq. ...</td>\n",
       "      <td>To answer your questions:1) scaledTPM is TPM's...</td>\n",
       "      <td>The `tximport` function in the Bioconductor pa...</td>\n",
       "      <td>The `tximport` function in R provides several ...</td>\n",
       "    </tr>\n",
       "    <tr>\n",
       "      <th>4</th>\n",
       "      <td>answer5</td>\n",
       "      <td>question5</td>\n",
       "      <td>In all RNA-seq analysis applications they talk...</td>\n",
       "      <td>The most complete explanation of what the disp...</td>\n",
       "      <td>The dispersion parameter in RNA-seq analysis i...</td>\n",
       "      <td>The dispersion in RNA-seq analysis, as used in...</td>\n",
       "    </tr>\n",
       "    <tr>\n",
       "      <th>5</th>\n",
       "      <td>answer6</td>\n",
       "      <td>question6</td>\n",
       "      <td>I know findOverlaps() from GenomicRanges packa...</td>\n",
       "      <td>From the discussion below, an efficient starti...</td>\n",
       "      <td>Based on your question, you want to perform an...</td>\n",
       "      <td>Based on the retrieved documents, it seems tha...</td>\n",
       "    </tr>\n",
       "    <tr>\n",
       "      <th>6</th>\n",
       "      <td>answer7</td>\n",
       "      <td>question7</td>\n",
       "      <td>I have just downloaded CNV level 3 files from ...</td>\n",
       "      <td>I wrote two helper functions, explained belowg...</td>\n",
       "      <td>To map the coordinates of genes to gene symbol...</td>\n",
       "      <td>You can map the coordinates of genes to gene s...</td>\n",
       "    </tr>\n",
       "    <tr>\n",
       "      <th>7</th>\n",
       "      <td>answer8</td>\n",
       "      <td>question8</td>\n",
       "      <td>How can I filter out the genes with low read c...</td>\n",
       "      <td>If you want to filter out genes with low expre...</td>\n",
       "      <td>Yes, you are on the right track. However, the ...</td>\n",
       "      <td>The approach you mentioned is a basic way to f...</td>\n",
       "    </tr>\n",
       "    <tr>\n",
       "      <th>8</th>\n",
       "      <td>answer9</td>\n",
       "      <td>question9</td>\n",
       "      <td>I am analysing my RNA-Seq data with DESeq2. At...</td>\n",
       "      <td>You can use the ensembldb package to do the ma...</td>\n",
       "      <td>It seems like you are facing an issue with the...</td>\n",
       "      <td>The issue you're facing might be due to the ve...</td>\n",
       "    </tr>\n",
       "    <tr>\n",
       "      <th>9</th>\n",
       "      <td>answer10</td>\n",
       "      <td>question10</td>\n",
       "      <td>How do I merge a list of GRanges? What I want ...</td>\n",
       "      <td>Merge is a pretty vague term. My understanding...</td>\n",
       "      <td>To merge a list of GRanges objects into one GR...</td>\n",
       "      <td>To merge a list of GRanges objects, you can us...</td>\n",
       "    </tr>\n",
       "  </tbody>\n",
       "</table>\n",
       "</div>"
      ],
      "text/plain": [
       "        AID         QID                                           Question  \\\n",
       "0   answer1   question1  I am a bit confused about the concepts of the ...   \n",
       "1   answer2   question2  I am working on RNA-Seq data. I'm using DESeq2...   \n",
       "2   answer3   question3  I am new in this kind of analysis and I have a...   \n",
       "3   answer4   question4  I am testing salmon and kallisto for RNA-seq. ...   \n",
       "4   answer5   question5  In all RNA-seq analysis applications they talk...   \n",
       "5   answer6   question6  I know findOverlaps() from GenomicRanges packa...   \n",
       "6   answer7   question7  I have just downloaded CNV level 3 files from ...   \n",
       "7   answer8   question8  How can I filter out the genes with low read c...   \n",
       "8   answer9   question9  I am analysing my RNA-Seq data with DESeq2. At...   \n",
       "9  answer10  question10  How do I merge a list of GRanges? What I want ...   \n",
       "\n",
       "                                            Response  \\\n",
       "0  The thing to understand is that terms like FDR...   \n",
       "1  Just to be clear, there's an important differe...   \n",
       "2  There is no good way to do a DE analysis of RN...   \n",
       "3  To answer your questions:1) scaledTPM is TPM's...   \n",
       "4  The most complete explanation of what the disp...   \n",
       "5  From the discussion below, an efficient starti...   \n",
       "6  I wrote two helper functions, explained belowg...   \n",
       "7  If you want to filter out genes with low expre...   \n",
       "8  You can use the ensembldb package to do the ma...   \n",
       "9  Merge is a pretty vague term. My understanding...   \n",
       "\n",
       "                             Response_Azure_Bioc_RAG  \\\n",
       "0  The False Discovery Rate (FDR) is a statistica...   \n",
       "1  The batch effect can indeed be accounted for i...   \n",
       "2  Yes, you are correct that DESeq, DESeq2, and E...   \n",
       "3  The `tximport` function in the Bioconductor pa...   \n",
       "4  The dispersion parameter in RNA-seq analysis i...   \n",
       "5  Based on your question, you want to perform an...   \n",
       "6  To map the coordinates of genes to gene symbol...   \n",
       "7  Yes, you are on the right track. However, the ...   \n",
       "8  It seems like you are facing an issue with the...   \n",
       "9  To merge a list of GRanges objects into one GR...   \n",
       "\n",
       "                           Response_Azure_GPT4_Temp0  \n",
       "0  The False Discovery Rate (FDR) is a statistica...  \n",
       "1  Based on the retrieved documents, there are se...  \n",
       "2  Yes, you're correct that many R packages for d...  \n",
       "3  The `tximport` function in R provides several ...  \n",
       "4  The dispersion in RNA-seq analysis, as used in...  \n",
       "5  Based on the retrieved documents, it seems tha...  \n",
       "6  You can map the coordinates of genes to gene s...  \n",
       "7  The approach you mentioned is a basic way to f...  \n",
       "8  The issue you're facing might be due to the ve...  \n",
       "9  To merge a list of GRanges objects, you can us...  "
      ]
     },
     "execution_count": 22,
     "metadata": {},
     "output_type": "execute_result"
    }
   ],
   "source": [
    "top_10_qs"
   ]
  },
  {
   "cell_type": "markdown",
   "metadata": {},
   "source": [
    "## Evaluate answers"
   ]
  },
  {
   "cell_type": "markdown",
   "metadata": {},
   "source": []
  }
 ],
 "metadata": {
  "kernelspec": {
   "display_name": ".venv",
   "language": "python",
   "name": "python3"
  },
  "language_info": {
   "codemirror_mode": {
    "name": "ipython",
    "version": 3
   },
   "file_extension": ".py",
   "mimetype": "text/x-python",
   "name": "python",
   "nbconvert_exporter": "python",
   "pygments_lexer": "ipython3",
   "version": "3.11.8"
  }
 },
 "nbformat": 4,
 "nbformat_minor": 2
}
