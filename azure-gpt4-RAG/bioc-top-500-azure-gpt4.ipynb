{
 "cells": [
  {
   "cell_type": "markdown",
   "metadata": {},
   "source": [
    "# Test Azure GPT-4 based model with RAG store of Top 500 Bioconductor package"
   ]
  },
  {
   "cell_type": "markdown",
   "metadata": {},
   "source": [
    "### Get relevant keys from Azure"
   ]
  },
  {
   "cell_type": "code",
   "execution_count": 74,
   "metadata": {},
   "outputs": [],
   "source": [
    "import os, openai, requests\n",
    "import pandas as pd\n",
    "    \n",
    "## Declare keys\n",
    "api_key = os.getenv(\"OPENAI_API_KEY\")\n",
    "search_key = os.getenv(\"OPENAI_SEARCH_KEY\")\n",
    "endpoint = os.getenv(\"OPENAI_ENDPOINT\")"
   ]
  },
  {
   "cell_type": "markdown",
   "metadata": {},
   "source": [
    "Declare the deployment name, endpoint and the name of the search index."
   ]
  },
  {
   "cell_type": "code",
   "execution_count": 75,
   "metadata": {},
   "outputs": [],
   "source": [
    "\n",
    "openai.api_type = \"azure\"\n",
    "# Azure OpenAI on your own data is only supported by the 2023-08-01-preview API version\n",
    "openai.api_version = \"2023-08-01-preview\"\n",
    "\n",
    "# Azure OpenAI setup\n",
    "openai.api_base = endpoint\n",
    "openai.api_key = api_key \n",
    "deployment_id = \"gpt-4-test\" \n",
    "\n",
    "# Azure AI Search setup\n",
    "search_endpoint = \"https://hmsaisearch.search.windows.net\"; # Add your Azure AI Search endpoint here\n",
    "search_index_name = \"bioc-top-500\"; # Add your Azure AI Search index name here\n",
    "    \n",
    "# https://hms-it-openai.openai.azure.com/openai/deployments/gpt-4-test/extensions/chat/completions?api-version=2024-02-15-preview"
   ]
  },
  {
   "cell_type": "markdown",
   "metadata": {},
   "source": [
    "Create a \"client\" object with AzureOpenAI with the correct api key."
   ]
  },
  {
   "cell_type": "code",
   "execution_count": 76,
   "metadata": {},
   "outputs": [],
   "source": [
    "# https://hms-it-openai.openai.azure.com/openai/deployments/gpt-4-test/extensions/chat/completions?api-version=2024-02-15-preview\n",
    "\n",
    "client = openai.AzureOpenAI(\n",
    "    base_url=f\"{endpoint}/openai/deployments/{deployment_id}/extensions\",\n",
    "    api_key=api_key,\n",
    "    api_version=\"2023-08-01-preview\",\n",
    ")"
   ]
  },
  {
   "cell_type": "markdown",
   "metadata": {},
   "source": [
    "Note: This step is to set up the RAG store i.e \"bring your own data\" search index that has to be registered with the deployment in hand - `gpt-4-test`."
   ]
  },
  {
   "cell_type": "code",
   "execution_count": 77,
   "metadata": {},
   "outputs": [],
   "source": [
    "def setup_byod(deployment_id: str) -> None:\n",
    "    \"\"\"Sets up the OpenAI Python SDK to use your own data for the chat endpoint.\n",
    " \n",
    "    :param deployment_id: The deployment ID for the model to use with your own data.\n",
    "\n",
    "    To remove this configuration, simply set openai.requestssession to None.\n",
    "    \"\"\"\n",
    "\n",
    "    class BringYourOwnDataAdapter(requests.adapters.HTTPAdapter):\n",
    "\n",
    "     def send(self, request, **kwargs):\n",
    "         request.url = f\"{openai.api_base}/openai/deployments/{deployment_id}/extensions/chat/completions?api-version={openai.api_version}\"\n",
    "         return super().send(request, **kwargs)\n",
    "\n",
    "    session = requests.Session()\n",
    "\n",
    "    # Mount a custom adapter which will use the extensions endpoint for any call using the given `deployment_id`\n",
    "    session.mount(\n",
    "        prefix=f\"{openai.api_base}/openai/deployments/{deployment_id}\",\n",
    "        adapter=BringYourOwnDataAdapter()\n",
    "    )\n",
    "\n",
    "    openai.requestssession = session\n",
    "\n",
    "setup_byod(deployment_id)"
   ]
  },
  {
   "cell_type": "markdown",
   "metadata": {},
   "source": [
    "### Generic function to ask a question from our BYOD model with GPT-4"
   ]
  },
  {
   "cell_type": "code",
   "execution_count": 78,
   "metadata": {},
   "outputs": [],
   "source": [
    "def ask_rag(question, verbose = False):\n",
    "\n",
    "    completion = client.chat.completions.create(\n",
    "        messages=[{\"role\": \"user\", \"content\": question}],\n",
    "        model=deployment_id,\n",
    "        extra_body={\n",
    "            \"dataSources\": [\n",
    "                {\n",
    "                    \"type\": \"AzureCognitiveSearch\",\n",
    "                    \"parameters\": {\n",
    "                        \"endpoint\": search_endpoint,\n",
    "                        \"key\": search_key,\n",
    "                        \"indexName\": search_index_name,\n",
    "                        \"roleInformation\": \"Act as an expert in the R programming language and the Bioconductor suite of packages.  ​\\n\\nYour job is to advise users on the usage of the various Bioconductor packages considering the documents you have in the data store.  ​\\n\\nTo complete this task, you can use the data you have stored that contain the vignettes of all the packages in Bioconductor and all the reference files of every function in every package of Bioconductor. ​You may also answer some general R, general programming, or Biomedical information.\\n\\nIf you do not know the answer ask the user to refer to https://bioconductor.org. \\n\\nAdd a disclaimer at the end of each response saying this model works only on the top 500 most used Bioconductor packages.\"\n",
    "                    }\n",
    "                }\n",
    "            ]\n",
    "        }\n",
    "    )\n",
    "    if (verbose == True):\n",
    "        print(f\"{completion.choices[0].message.role}: {completion.choices[0].message.content}\")\n",
    "\n",
    "    return(completion.choices[0].message.content)"
   ]
  },
  {
   "cell_type": "code",
   "execution_count": 79,
   "metadata": {},
   "outputs": [],
   "source": [
    "# `context` is in the model_extra for Azure\n",
    "# print(f\"\\nContext: {completion.choices[0].message.model_extra['context']['messages'][0]['content']}\")"
   ]
  },
  {
   "cell_type": "markdown",
   "metadata": {},
   "source": [
    "### Questions for SummarizedExperiemnt"
   ]
  },
  {
   "cell_type": "code",
   "execution_count": 80,
   "metadata": {},
   "outputs": [
    {
     "name": "stdout",
     "output_type": "stream",
     "text": [
      "assistant: The SummarizedExperiment package contains two classes: SummarizedExperiment and RangedSummarizedExperiment [doc1].\n"
     ]
    },
    {
     "data": {
      "text/plain": [
       "'The SummarizedExperiment package contains two classes: SummarizedExperiment and RangedSummarizedExperiment [doc1].'"
      ]
     },
     "execution_count": 80,
     "metadata": {},
     "output_type": "execute_result"
    }
   ],
   "source": [
    "## summarized experiment \n",
    "question = \"How many classes are there in the Summarized Experiment package? Just give me a number.\"\n",
    "\n",
    "ask_rag(question, verbose=True)"
   ]
  },
  {
   "cell_type": "markdown",
   "metadata": {},
   "source": [
    "### Questions for DESeq2"
   ]
  },
  {
   "cell_type": "code",
   "execution_count": 81,
   "metadata": {},
   "outputs": [
    {
     "name": "stdout",
     "output_type": "stream",
     "text": [
      "assistant: DESeq2 estimates one size factor for each sample in your experiment. Therefore, if your experiment has 5 samples, DESeq2 will estimate 5 size factors [doc1]. \n",
      "\n",
      "Please note that this model works only on the top 500 most used Bioconductor packages.\n"
     ]
    },
    {
     "data": {
      "text/plain": [
       "'DESeq2 estimates one size factor for each sample in your experiment. Therefore, if your experiment has 5 samples, DESeq2 will estimate 5 size factors [doc1]. \\n\\nPlease note that this model works only on the top 500 most used Bioconductor packages.'"
      ]
     },
     "execution_count": 81,
     "metadata": {},
     "output_type": "execute_result"
    }
   ],
   "source": [
    "## DESeq2\n",
    "\n",
    "question = \"DESeq2 performs normalization by estimating size factors for each sample. If your experiment has 5 samples, how many size factors will DESeq2 estimate?\"\n",
    "\n",
    "ask_rag(question, verbose=True)"
   ]
  },
  {
   "cell_type": "markdown",
   "metadata": {},
   "source": [
    "### Questions for limma"
   ]
  },
  {
   "cell_type": "code",
   "execution_count": 82,
   "metadata": {},
   "outputs": [
    {
     "name": "stdout",
     "output_type": "stream",
     "text": [
      "assistant: In the context of a case-control study with 30 control samples and 30 case samples, when you fit a linear model using the limma package in R, you will estimate two coefficients. \n",
      "\n",
      "The first coefficient is the intercept, which represents the baseline level of gene expression in the reference group (usually the control group). The second coefficient is the slope, which represents the difference in gene expression between the case group and the control group. \n",
      "\n",
      "This is under the assumption that no additional covariates are included in the model. If additional covariates were included, each would have its own coefficient.\n",
      "\n",
      "Please note that this model works only on the top 500 most used Bioconductor packages. For more specific information, please refer to the limma documentation or the Bioconductor website [doc3][doc4].\n"
     ]
    },
    {
     "data": {
      "text/plain": [
       "'In the context of a case-control study with 30 control samples and 30 case samples, when you fit a linear model using the limma package in R, you will estimate two coefficients. \\n\\nThe first coefficient is the intercept, which represents the baseline level of gene expression in the reference group (usually the control group). The second coefficient is the slope, which represents the difference in gene expression between the case group and the control group. \\n\\nThis is under the assumption that no additional covariates are included in the model. If additional covariates were included, each would have its own coefficient.\\n\\nPlease note that this model works only on the top 500 most used Bioconductor packages. For more specific information, please refer to the limma documentation or the Bioconductor website [doc3][doc4].'"
      ]
     },
     "execution_count": 82,
     "metadata": {},
     "output_type": "execute_result"
    }
   ],
   "source": [
    "## Limma\n",
    "question = \"You use limma to analyze RNA-seq data from a case-control study with 30 control samples and 30 case samples. After fitting the linear model, how many coefficients will be estimated by limma for the gene expression data (assuming no additional covariates are included in the model)?\"\n",
    "\n",
    "ask_rag(question, verbose=True)"
   ]
  },
  {
   "cell_type": "markdown",
   "metadata": {},
   "source": [
    "### Questions for SingleCellExperiment\n",
    "\n",
    "This questions doesn't give a good answer."
   ]
  },
  {
   "cell_type": "code",
   "execution_count": 83,
   "metadata": {},
   "outputs": [
    {
     "name": "stdout",
     "output_type": "stream",
     "text": [
      "assistant: The SingleCellExperiment object is a complex object with multiple slots. However, the exact number of slots is not specified in the retrieved documents. The SingleCellExperiment object is designed to store single-cell experiment data, including assay data, feature data, and cell metadata. It is a part of the Bioconductor project and is used extensively in R for single-cell data analysis.\n",
      "\n",
      "For detailed information about the structure and slots of the SingleCellExperiment object, you can refer to the official Bioconductor documentation at https://bioconductor.org.\n",
      "\n",
      "Please note that this model works only on the top 500 most used Bioconductor packages.\n"
     ]
    },
    {
     "data": {
      "text/plain": [
       "'The SingleCellExperiment object is a complex object with multiple slots. However, the exact number of slots is not specified in the retrieved documents. The SingleCellExperiment object is designed to store single-cell experiment data, including assay data, feature data, and cell metadata. It is a part of the Bioconductor project and is used extensively in R for single-cell data analysis.\\n\\nFor detailed information about the structure and slots of the SingleCellExperiment object, you can refer to the official Bioconductor documentation at https://bioconductor.org.\\n\\nPlease note that this model works only on the top 500 most used Bioconductor packages.'"
      ]
     },
     "execution_count": 83,
     "metadata": {},
     "output_type": "execute_result"
    }
   ],
   "source": [
    "question = \"how many slots does the SingleCellExperiment object have?\"\n",
    "\n",
    "ask_rag(question, verbose=True)"
   ]
  },
  {
   "cell_type": "markdown",
   "metadata": {},
   "source": [
    "## Read in Bioc QA top 10 "
   ]
  },
  {
   "cell_type": "markdown",
   "metadata": {},
   "source": [
    "Read in with Pandas"
   ]
  },
  {
   "cell_type": "code",
   "execution_count": 84,
   "metadata": {},
   "outputs": [],
   "source": [
    "top_10_qs = pd.read_csv('bioc_qa_top10.csv')"
   ]
  },
  {
   "cell_type": "code",
   "execution_count": 85,
   "metadata": {},
   "outputs": [
    {
     "data": {
      "text/html": [
       "<div>\n",
       "<style scoped>\n",
       "    .dataframe tbody tr th:only-of-type {\n",
       "        vertical-align: middle;\n",
       "    }\n",
       "\n",
       "    .dataframe tbody tr th {\n",
       "        vertical-align: top;\n",
       "    }\n",
       "\n",
       "    .dataframe thead th {\n",
       "        text-align: right;\n",
       "    }\n",
       "</style>\n",
       "<table border=\"1\" class=\"dataframe\">\n",
       "  <thead>\n",
       "    <tr style=\"text-align: right;\">\n",
       "      <th></th>\n",
       "      <th>AID</th>\n",
       "      <th>QID</th>\n",
       "      <th>Question</th>\n",
       "      <th>Response</th>\n",
       "    </tr>\n",
       "  </thead>\n",
       "  <tbody>\n",
       "    <tr>\n",
       "      <th>0</th>\n",
       "      <td>answer1</td>\n",
       "      <td>question1</td>\n",
       "      <td>I am a bit confused about the concepts of the ...</td>\n",
       "      <td>The thing to understand is that terms like FDR...</td>\n",
       "    </tr>\n",
       "    <tr>\n",
       "      <th>1</th>\n",
       "      <td>answer2</td>\n",
       "      <td>question2</td>\n",
       "      <td>I am working on RNA-Seq data. I'm using DESeq2...</td>\n",
       "      <td>Just to be clear, there's an important differe...</td>\n",
       "    </tr>\n",
       "    <tr>\n",
       "      <th>2</th>\n",
       "      <td>answer3</td>\n",
       "      <td>question3</td>\n",
       "      <td>I am new in this kind of analysis and I have a...</td>\n",
       "      <td>There is no good way to do a DE analysis of RN...</td>\n",
       "    </tr>\n",
       "    <tr>\n",
       "      <th>3</th>\n",
       "      <td>answer4</td>\n",
       "      <td>question4</td>\n",
       "      <td>I am testing salmon and kallisto for RNA-seq. ...</td>\n",
       "      <td>To answer your questions:1) scaledTPM is TPM's...</td>\n",
       "    </tr>\n",
       "    <tr>\n",
       "      <th>4</th>\n",
       "      <td>answer5</td>\n",
       "      <td>question5</td>\n",
       "      <td>In all RNA-seq analysis applications they talk...</td>\n",
       "      <td>The most complete explanation of what the disp...</td>\n",
       "    </tr>\n",
       "    <tr>\n",
       "      <th>5</th>\n",
       "      <td>answer6</td>\n",
       "      <td>question6</td>\n",
       "      <td>I know findOverlaps() from GenomicRanges packa...</td>\n",
       "      <td>From the discussion below, an efficient starti...</td>\n",
       "    </tr>\n",
       "    <tr>\n",
       "      <th>6</th>\n",
       "      <td>answer7</td>\n",
       "      <td>question7</td>\n",
       "      <td>I have just downloaded CNV level 3 files from ...</td>\n",
       "      <td>I wrote two helper functions, explained belowg...</td>\n",
       "    </tr>\n",
       "    <tr>\n",
       "      <th>7</th>\n",
       "      <td>answer8</td>\n",
       "      <td>question8</td>\n",
       "      <td>How can I filter out the genes with low read c...</td>\n",
       "      <td>If you want to filter out genes with low expre...</td>\n",
       "    </tr>\n",
       "    <tr>\n",
       "      <th>8</th>\n",
       "      <td>answer9</td>\n",
       "      <td>question9</td>\n",
       "      <td>I am analysing my RNA-Seq data with DESeq2. At...</td>\n",
       "      <td>You can use the ensembldb package to do the ma...</td>\n",
       "    </tr>\n",
       "    <tr>\n",
       "      <th>9</th>\n",
       "      <td>answer10</td>\n",
       "      <td>question10</td>\n",
       "      <td>How do I merge a list of GRanges? What I want ...</td>\n",
       "      <td>Merge is a pretty vague term. My understanding...</td>\n",
       "    </tr>\n",
       "  </tbody>\n",
       "</table>\n",
       "</div>"
      ],
      "text/plain": [
       "        AID         QID                                           Question  \\\n",
       "0   answer1   question1  I am a bit confused about the concepts of the ...   \n",
       "1   answer2   question2  I am working on RNA-Seq data. I'm using DESeq2...   \n",
       "2   answer3   question3  I am new in this kind of analysis and I have a...   \n",
       "3   answer4   question4  I am testing salmon and kallisto for RNA-seq. ...   \n",
       "4   answer5   question5  In all RNA-seq analysis applications they talk...   \n",
       "5   answer6   question6  I know findOverlaps() from GenomicRanges packa...   \n",
       "6   answer7   question7  I have just downloaded CNV level 3 files from ...   \n",
       "7   answer8   question8  How can I filter out the genes with low read c...   \n",
       "8   answer9   question9  I am analysing my RNA-Seq data with DESeq2. At...   \n",
       "9  answer10  question10  How do I merge a list of GRanges? What I want ...   \n",
       "\n",
       "                                            Response  \n",
       "0  The thing to understand is that terms like FDR...  \n",
       "1  Just to be clear, there's an important differe...  \n",
       "2  There is no good way to do a DE analysis of RN...  \n",
       "3  To answer your questions:1) scaledTPM is TPM's...  \n",
       "4  The most complete explanation of what the disp...  \n",
       "5  From the discussion below, an efficient starti...  \n",
       "6  I wrote two helper functions, explained belowg...  \n",
       "7  If you want to filter out genes with low expre...  \n",
       "8  You can use the ensembldb package to do the ma...  \n",
       "9  Merge is a pretty vague term. My understanding...  "
      ]
     },
     "execution_count": 85,
     "metadata": {},
     "output_type": "execute_result"
    }
   ],
   "source": [
    "top_10_qs"
   ]
  },
  {
   "cell_type": "markdown",
   "metadata": {},
   "source": [
    "Ask the RAG model with the top 500 bioconductor packages questions from the `top_10_qs.csv` and append the responses to `azure_rag_responses`."
   ]
  },
  {
   "cell_type": "code",
   "execution_count": 86,
   "metadata": {},
   "outputs": [],
   "source": [
    "azure_rag_responses = []\n",
    "for question in top_10_qs[\"Question\"]:\n",
    "    response = ask_rag(question)\n",
    "    azure_rag_responses.append(response)\n"
   ]
  },
  {
   "cell_type": "markdown",
   "metadata": {},
   "source": [
    "## We now run the same model without RAG i.e just a generic GPT-4 model"
   ]
  },
  {
   "cell_type": "code",
   "execution_count": 87,
   "metadata": {},
   "outputs": [],
   "source": [
    "client = openai.AzureOpenAI(\n",
    "  azure_endpoint = os.getenv(\"OPENAI_ENDPOINT\"), \n",
    "  api_key=os.getenv(\"OPENAI_API_KEY\"),  \n",
    "  api_version=\"2024-02-15-preview\"\n",
    ")\n",
    "\n",
    "\n",
    "def ask_gpt4(question, verbose = False):\n",
    "    message_text = [{\"role\":\"system\",\"content\":\"You are an AI assistant that helps people find information.\"},\n",
    "                    {\"role\": \"user\", \"content\": question}]\n",
    "\n",
    "    completion = client.chat.completions.create(\n",
    "        model=\"gpt-4-test\", \n",
    "        messages = message_text,\n",
    "        temperature=0.0,\n",
    "        max_tokens=800,\n",
    "        top_p=0.95,\n",
    "        frequency_penalty=0,\n",
    "        presence_penalty=0,\n",
    "        stop=None\n",
    "    )\n",
    "\n",
    "    if (verbose == True):\n",
    "        print(f\"{completion.choices[0].message.role}: {completion.choices[0].message.content}\")\n",
    "\n",
    "    return(completion.choices[0].message.content)    \n"
   ]
  },
  {
   "cell_type": "code",
   "execution_count": 88,
   "metadata": {},
   "outputs": [],
   "source": [
    "azure_gpt4_temp0_responses = []\n",
    "for question in top_10_qs[\"Question\"]:\n",
    "    response = ask_gpt4(question)\n",
    "    azure_gpt4_temp0_responses.append(response)"
   ]
  },
  {
   "cell_type": "code",
   "execution_count": 89,
   "metadata": {},
   "outputs": [],
   "source": [
    "top_10_qs.insert(4, \"Response_Azure_Bioc_RAG\", azure_rag_responses, True)\n",
    "top_10_qs.insert(5, \"Response_Azure_GPT4_Temp0\", azure_gpt4_temp0_responses, True)\n",
    "top_10_qs.to_csv(\"top_10_qs_with_azure_RAG.csv\", index=False)\n"
   ]
  },
  {
   "cell_type": "markdown",
   "metadata": {},
   "source": [
    "### Evaluate firt question by eye"
   ]
  },
  {
   "cell_type": "code",
   "execution_count": 114,
   "metadata": {},
   "outputs": [
    {
     "name": "stdout",
     "output_type": "stream",
     "text": [
      "*****Question 1:******  I am a bit confused about the concepts of the 3 things: FDR, FDR adjusted p-value and q-value, which I initially thought I was clear about. Are FDR adjusted p-value the same as q-value? (my understanding is that FDR adjusted p-value = original p-value * number of genes/rank of the gene, is that right?) When people say xxx genes are differentially expressed with an FDR cutoff of 0.05, does that mean xxx genes have an FDR adjusted p-value smaller than 0.05?\n",
      "\n",
      "******Response Ground Truth:***** \n",
      " The thing to understand is that terms like FDR and q-value were defined in specific ways by their original inventors but are used in more generic ways by later researchers who adapt, modify or use the ideas.The term \"false discovery rate (FDR)\" was created by Benjamini and Hochberg in their 1995 paper. They gave a particular definition of what they meant by FDR.  Their procedure accepted or rejected hypotheses, but did not produce adjusted p-values.Benjamini and Yekutieli presented another more conservative algorithm to control the FDR in a 2001 paper. Same definition of FDR, but a different algorithm.In 2002, I re-interpreted the Benjamini and Hochberg (BH) and Benjamini and Yekutieli (BY) procedures in terms of adjusted p-values. I implemented the resulting algorithms in the function p.adjust() in the stats package, and used them in the limma package, and this lead to the concept of an FDR adjusted p-value. The terminology used by the p.adjust() function and limma packages has lead people to refer to \"BH adjusted p-values\".The adjusted p-value definition that you give is essentially the same as the BH adjusted p-value, except that you omitted the last step in the procedure. Your definition as it stands is not an increasing function of the original p-values.In 2002, John Storey created a new definition of \"false discovery rate\". Storey's definition is based on Benjamini and Hochberg's original idea, but is mathematically a bit more flexible. John Storey also created the terminology \"q-value\" for a quantity that estimates his definition of FDR. He implemented q-value estimation procedures in an R package called qvalue. Another important but often overlooked difference is the idea of FDR \"estimation\" vs FDR \"control\". The qvalue package attempts to give a more or less unbiased estimate of the FDR, so the true FDR is about equally likely to be greater or less in practice. The BH approach instead controls the expected FDR. It guarantees that the true FDR rate will be less than the specified rate on average if you do an exactly similar experiment over and over again. So the BH approach is slightly more conservative than qvalue. The BH properties hold regardless of the number of p-values, while qvalue is asymptotic, so the BH approach is more robust than qvalue when the number of hypotheses being tested isn't very large.So, strictly speaking, the q-value and the FDR adjusted p-value are similar but not quite the same. However the terms q-value and FDR adjusted p-value are often used generically by the Bioconductor community to refer to any quantity that controls or estimates any definition of the FDR. In this general sense the terms are synonyms.The lesson to draw from this is that different methods and different packages are trying to do slighty different things and give slightly different results, and you should always cite the specific software and method that you have used.\n",
      "\n",
      "*****Response from Azure RAG:**** \n",
      "  The False Discovery Rate (FDR) is a statistical method used in multiple hypothesis testing to correct for the problem of multiple comparisons. It is designed to control the expected proportion of \"discoveries\" (rejected null hypotheses) that are false (incorrect rejections). The FDR is a method of conceptualizing the rate of type I errors in null hypothesis testing when conducting multiple comparisons [doc4].\n",
      "\n",
      "FDR adjusted p-values, also known as q-values, are the minimal FDR at which the test may be called significant. In other words, the q-value is the smallest FDR at which a particular result would be deemed significant. The q-value is a measure of significance in terms of FDR rather than the Family-Wise Error Rate (FWER) that the traditional p-value measures. The q-value is calculated based on the p-value, but it also takes into account the number of hypotheses tested .\n",
      "\n",
      "Your understanding of FDR adjusted p-value is not entirely correct. The FDR adjusted p-value (or q-value) is not simply the original p-value multiplied by the number of genes divided by the rank of the gene. The calculation of q-values involves a procedure that adjusts the p-values based on the proportion of null hypotheses and the distribution of p-values, not just the rank of the individual test [doc4].\n",
      "\n",
      "When people say \"xxx genes are differentially expressed with an FDR cutoff of 0.05\", it means that these genes have an FDR adjusted p-value (or q-value) smaller than 0.05. This means that if you call these genes differentially expressed, you can expect that 5% of these calls are false positives .\n",
      "\n",
      "Please note that this model works only on the top 500 most used Bioconductor packages. For more detailed information, you may want to refer to the original papers or the Bioconductor website (https://bioconductor.org).\n",
      "\n",
      "*****Response from Azure GPT4 Temp0:*** \n",
      " FDR, FDR adjusted p-value, and q-value are all related concepts used in multiple hypothesis testing to control the false discovery rate. Let's break down each term:\n",
      "\n",
      "1. FDR (False Discovery Rate): This is a method used in multiple hypothesis testing to correct for the problem of multiple comparisons. It is the expected proportion of false positives among the rejected hypotheses. The FDR is a less stringent condition than the family-wise error rate (FWER), so it has greater power at the cost of increased false positives.\n",
      "\n",
      "2. FDR adjusted p-value: This is a p-value that has been adjusted using a method (like the Benjamini-Hochberg procedure) that controls the FDR. The adjustment is not as simple as original p-value * number of tests / rank of the test. The Benjamini-Hochberg procedure, for example, ranks the p-values, and then the adjusted p-value for the i-th ranked p-value is calculated as (p-value * total number of tests) / i. The adjusted p-values are then often \"minimized\" to ensure they are monotonically increasing.\n",
      "\n",
      "3. Q-value: The q-value of a test measures the minimum FDR at which the test may be called significant. In other words, it's the smallest FDR at which you would reject the null hypothesis. The q-value is similar to the FDR adjusted p-value, but while the adjusted p-value is a correction of the p-value, the q-value is a property of the test itself.\n",
      "\n",
      "When people say \"xxx genes are differentially expressed with an FDR cutoff of 0.05\", they mean that these genes have an FDR adjusted p-value (or q-value, depending on the context) less than 0.05. This means that if you call these genes differentially expressed, you can expect 5% of them to be false positives.\n"
     ]
    }
   ],
   "source": [
    "def print_method(df, question_number):\n",
    "    print(\"*****Question 1:****** \", df[\"Question\"][question_number])\n",
    "    print(\"\\n******Response Ground Truth:***** \\n\", df[\"Response\"][question_number])\n",
    "    print(\"\\n*****Response from Azure RAG:**** \\n \", df[\"Response_Azure_Bioc_RAG\"][question_number])\n",
    "    print(\"\\n*****Response from Azure GPT4 Temp0:*** \\n\", df[\"Response_Azure_GPT4_Temp0\"][question_number])\n",
    "\n",
    "print_method(top_10_qs, 0)"
   ]
  },
  {
   "cell_type": "markdown",
   "metadata": {},
   "source": [
    "## Evaluate answers"
   ]
  },
  {
   "cell_type": "markdown",
   "metadata": {},
   "source": []
  },
  {
   "cell_type": "code",
   "execution_count": 102,
   "metadata": {},
   "outputs": [
    {
     "data": {
      "text/html": [
       "<div>\n",
       "<style scoped>\n",
       "    .dataframe tbody tr th:only-of-type {\n",
       "        vertical-align: middle;\n",
       "    }\n",
       "\n",
       "    .dataframe tbody tr th {\n",
       "        vertical-align: top;\n",
       "    }\n",
       "\n",
       "    .dataframe thead th {\n",
       "        text-align: right;\n",
       "    }\n",
       "</style>\n",
       "<table border=\"1\" class=\"dataframe\">\n",
       "  <thead>\n",
       "    <tr style=\"text-align: right;\">\n",
       "      <th></th>\n",
       "      <th>AID</th>\n",
       "      <th>QID</th>\n",
       "      <th>Question</th>\n",
       "      <th>Response</th>\n",
       "      <th>Response_Azure_Bioc_RAG</th>\n",
       "      <th>Response_Azure_GPT4_Temp0</th>\n",
       "    </tr>\n",
       "  </thead>\n",
       "  <tbody>\n",
       "    <tr>\n",
       "      <th>0</th>\n",
       "      <td>answer1</td>\n",
       "      <td>question1</td>\n",
       "      <td>I am a bit confused about the concepts of the ...</td>\n",
       "      <td>The thing to understand is that terms like FDR...</td>\n",
       "      <td>The False Discovery Rate (FDR) is a statistica...</td>\n",
       "      <td>FDR, FDR adjusted p-value, and q-value are all...</td>\n",
       "    </tr>\n",
       "    <tr>\n",
       "      <th>1</th>\n",
       "      <td>answer2</td>\n",
       "      <td>question2</td>\n",
       "      <td>I am working on RNA-Seq data. I'm using DESeq2...</td>\n",
       "      <td>Just to be clear, there's an important differe...</td>\n",
       "      <td>It seems like you're dealing with a common iss...</td>\n",
       "      <td>In DESeq2, adding the batch effect in the desi...</td>\n",
       "    </tr>\n",
       "    <tr>\n",
       "      <th>2</th>\n",
       "      <td>answer3</td>\n",
       "      <td>question3</td>\n",
       "      <td>I am new in this kind of analysis and I have a...</td>\n",
       "      <td>There is no good way to do a DE analysis of RN...</td>\n",
       "      <td>Yes, you're correct that many differential exp...</td>\n",
       "      <td>You're correct that DESeq2, EdgeR, and limma a...</td>\n",
       "    </tr>\n",
       "    <tr>\n",
       "      <th>3</th>\n",
       "      <td>answer4</td>\n",
       "      <td>question4</td>\n",
       "      <td>I am testing salmon and kallisto for RNA-seq. ...</td>\n",
       "      <td>To answer your questions:1) scaledTPM is TPM's...</td>\n",
       "      <td>The `tximport` function in the Bioconductor pa...</td>\n",
       "      <td>1. ScaledTPM and lengthScaledTPM are methods u...</td>\n",
       "    </tr>\n",
       "    <tr>\n",
       "      <th>4</th>\n",
       "      <td>answer5</td>\n",
       "      <td>question5</td>\n",
       "      <td>In all RNA-seq analysis applications they talk...</td>\n",
       "      <td>The most complete explanation of what the disp...</td>\n",
       "      <td>The dispersion parameter in RNA-seq analysis, ...</td>\n",
       "      <td>In RNA-seq analysis, dispersion refers to the ...</td>\n",
       "    </tr>\n",
       "    <tr>\n",
       "      <th>5</th>\n",
       "      <td>answer6</td>\n",
       "      <td>question6</td>\n",
       "      <td>I know findOverlaps() from GenomicRanges packa...</td>\n",
       "      <td>From the discussion below, an efficient starti...</td>\n",
       "      <td>Based on your question, it seems you want to p...</td>\n",
       "      <td>It seems like you're trying to perform an elem...</td>\n",
       "    </tr>\n",
       "    <tr>\n",
       "      <th>6</th>\n",
       "      <td>answer7</td>\n",
       "      <td>question7</td>\n",
       "      <td>I have just downloaded CNV level 3 files from ...</td>\n",
       "      <td>I wrote two helper functions, explained belowg...</td>\n",
       "      <td>To map the coordinates of genes to gene symbol...</td>\n",
       "      <td>Mapping genomic coordinates to gene symbols is...</td>\n",
       "    </tr>\n",
       "    <tr>\n",
       "      <th>7</th>\n",
       "      <td>answer8</td>\n",
       "      <td>question8</td>\n",
       "      <td>How can I filter out the genes with low read c...</td>\n",
       "      <td>If you want to filter out genes with low expre...</td>\n",
       "      <td>Yes, you are on the right track. However, the ...</td>\n",
       "      <td>Yes, you are on the right track. DESeq2 is a p...</td>\n",
       "    </tr>\n",
       "    <tr>\n",
       "      <th>8</th>\n",
       "      <td>answer9</td>\n",
       "      <td>question9</td>\n",
       "      <td>I am analysing my RNA-Seq data with DESeq2. At...</td>\n",
       "      <td>You can use the ensembldb package to do the ma...</td>\n",
       "      <td>The issue you're facing is not uncommon when d...</td>\n",
       "      <td>It seems like you are doing everything correct...</td>\n",
       "    </tr>\n",
       "    <tr>\n",
       "      <th>9</th>\n",
       "      <td>answer10</td>\n",
       "      <td>question10</td>\n",
       "      <td>How do I merge a list of GRanges? What I want ...</td>\n",
       "      <td>Merge is a pretty vague term. My understanding...</td>\n",
       "      <td>You can merge a list of GRanges objects using ...</td>\n",
       "      <td>To merge a list of GRanges objects, you can us...</td>\n",
       "    </tr>\n",
       "  </tbody>\n",
       "</table>\n",
       "</div>"
      ],
      "text/plain": [
       "        AID         QID                                           Question  \\\n",
       "0   answer1   question1  I am a bit confused about the concepts of the ...   \n",
       "1   answer2   question2  I am working on RNA-Seq data. I'm using DESeq2...   \n",
       "2   answer3   question3  I am new in this kind of analysis and I have a...   \n",
       "3   answer4   question4  I am testing salmon and kallisto for RNA-seq. ...   \n",
       "4   answer5   question5  In all RNA-seq analysis applications they talk...   \n",
       "5   answer6   question6  I know findOverlaps() from GenomicRanges packa...   \n",
       "6   answer7   question7  I have just downloaded CNV level 3 files from ...   \n",
       "7   answer8   question8  How can I filter out the genes with low read c...   \n",
       "8   answer9   question9  I am analysing my RNA-Seq data with DESeq2. At...   \n",
       "9  answer10  question10  How do I merge a list of GRanges? What I want ...   \n",
       "\n",
       "                                            Response  \\\n",
       "0  The thing to understand is that terms like FDR...   \n",
       "1  Just to be clear, there's an important differe...   \n",
       "2  There is no good way to do a DE analysis of RN...   \n",
       "3  To answer your questions:1) scaledTPM is TPM's...   \n",
       "4  The most complete explanation of what the disp...   \n",
       "5  From the discussion below, an efficient starti...   \n",
       "6  I wrote two helper functions, explained belowg...   \n",
       "7  If you want to filter out genes with low expre...   \n",
       "8  You can use the ensembldb package to do the ma...   \n",
       "9  Merge is a pretty vague term. My understanding...   \n",
       "\n",
       "                             Response_Azure_Bioc_RAG  \\\n",
       "0  The False Discovery Rate (FDR) is a statistica...   \n",
       "1  It seems like you're dealing with a common iss...   \n",
       "2  Yes, you're correct that many differential exp...   \n",
       "3  The `tximport` function in the Bioconductor pa...   \n",
       "4  The dispersion parameter in RNA-seq analysis, ...   \n",
       "5  Based on your question, it seems you want to p...   \n",
       "6  To map the coordinates of genes to gene symbol...   \n",
       "7  Yes, you are on the right track. However, the ...   \n",
       "8  The issue you're facing is not uncommon when d...   \n",
       "9  You can merge a list of GRanges objects using ...   \n",
       "\n",
       "                           Response_Azure_GPT4_Temp0  \n",
       "0  FDR, FDR adjusted p-value, and q-value are all...  \n",
       "1  In DESeq2, adding the batch effect in the desi...  \n",
       "2  You're correct that DESeq2, EdgeR, and limma a...  \n",
       "3  1. ScaledTPM and lengthScaledTPM are methods u...  \n",
       "4  In RNA-seq analysis, dispersion refers to the ...  \n",
       "5  It seems like you're trying to perform an elem...  \n",
       "6  Mapping genomic coordinates to gene symbols is...  \n",
       "7  Yes, you are on the right track. DESeq2 is a p...  \n",
       "8  It seems like you are doing everything correct...  \n",
       "9  To merge a list of GRanges objects, you can us...  "
      ]
     },
     "execution_count": 102,
     "metadata": {},
     "output_type": "execute_result"
    }
   ],
   "source": [
    "\n",
    "top_10_qs\n"
   ]
  },
  {
   "cell_type": "code",
   "execution_count": null,
   "metadata": {},
   "outputs": [],
   "source": []
  }
 ],
 "metadata": {
  "kernelspec": {
   "display_name": ".venv",
   "language": "python",
   "name": "python3"
  },
  "language_info": {
   "codemirror_mode": {
    "name": "ipython",
    "version": 3
   },
   "file_extension": ".py",
   "mimetype": "text/x-python",
   "name": "python",
   "nbconvert_exporter": "python",
   "pygments_lexer": "ipython3",
   "version": "3.11.8"
  }
 },
 "nbformat": 4,
 "nbformat_minor": 2
}
