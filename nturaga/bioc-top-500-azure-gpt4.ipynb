{
 "cells": [
  {
   "cell_type": "markdown",
   "metadata": {},
   "source": [
    "# Test Azure GPT-4 based Top 500 Bioconductor package"
   ]
  },
  {
   "cell_type": "code",
   "execution_count": 1,
   "metadata": {},
   "outputs": [],
   "source": [
    "import os, openai, requests\n",
    "    \n",
    "## Declare keys\n",
    "api_key = os.getenv(\"OPENAI_API_KEY\")\n",
    "search_key = os.getenv(\"OPENAI_SEARCH_KEY\")\n",
    "endpoint = os.getenv(\"OPENAI_ENDPOINT\")"
   ]
  },
  {
   "cell_type": "code",
   "execution_count": 2,
   "metadata": {},
   "outputs": [],
   "source": [
    "\n",
    "openai.api_type = \"azure\"\n",
    "# Azure OpenAI on your own data is only supported by the 2023-08-01-preview API version\n",
    "openai.api_version = \"2023-08-01-preview\"\n",
    "\n",
    "# Azure OpenAI setup\n",
    "openai.api_base = endpoint\n",
    "openai.api_key = api_key \n",
    "deployment_id = \"gpt-4-test\" \n",
    "\n",
    "# Azure AI Search setup\n",
    "search_endpoint = \"https://hmsaisearch.search.windows.net\"; # Add your Azure AI Search endpoint here\n",
    "search_index_name = \"bioc-top-500\"; # Add your Azure AI Search index name here\n",
    "    \n",
    "# https://hms-it-openai.openai.azure.com/openai/deployments/gpt-4-test/extensions/chat/completions?api-version=2024-02-15-preview"
   ]
  },
  {
   "cell_type": "code",
   "execution_count": 3,
   "metadata": {},
   "outputs": [],
   "source": [
    "# https://hms-it-openai.openai.azure.com/openai/deployments/gpt-4-test/extensions/chat/completions?api-version=2024-02-15-preview\n",
    "\n",
    "client = openai.AzureOpenAI(\n",
    "    base_url=f\"{endpoint}/openai/deployments/{deployment_id}/extensions\",\n",
    "    api_key=api_key,\n",
    "    api_version=\"2023-08-01-preview\",\n",
    ")"
   ]
  },
  {
   "cell_type": "code",
   "execution_count": 4,
   "metadata": {},
   "outputs": [],
   "source": [
    "def setup_byod(deployment_id: str) -> None:\n",
    "    \"\"\"Sets up the OpenAI Python SDK to use your own data for the chat endpoint.\n",
    " \n",
    "    :param deployment_id: The deployment ID for the model to use with your own data.\n",
    "\n",
    "    To remove this configuration, simply set openai.requestssession to None.\n",
    "    \"\"\"\n",
    "\n",
    "    class BringYourOwnDataAdapter(requests.adapters.HTTPAdapter):\n",
    "\n",
    "     def send(self, request, **kwargs):\n",
    "         request.url = f\"{openai.api_base}/openai/deployments/{deployment_id}/extensions/chat/completions?api-version={openai.api_version}\"\n",
    "         return super().send(request, **kwargs)\n",
    "\n",
    "    session = requests.Session()\n",
    "\n",
    "    # Mount a custom adapter which will use the extensions endpoint for any call using the given `deployment_id`\n",
    "    session.mount(\n",
    "        prefix=f\"{openai.api_base}/openai/deployments/{deployment_id}\",\n",
    "        adapter=BringYourOwnDataAdapter()\n",
    "    )\n",
    "\n",
    "    openai.requestssession = session\n",
    "\n",
    "setup_byod(deployment_id)"
   ]
  },
  {
   "cell_type": "code",
   "execution_count": 17,
   "metadata": {},
   "outputs": [],
   "source": [
    "def ask_question(question):\n",
    "\n",
    "    completion = client.chat.completions.create(\n",
    "        messages=[{\"role\": \"user\", \"content\": question}],\n",
    "        model=deployment_id,\n",
    "        extra_body={\n",
    "            \"dataSources\": [\n",
    "                {\n",
    "                    \"type\": \"AzureCognitiveSearch\",\n",
    "                    \"parameters\": {\n",
    "                        \"endpoint\": search_endpoint,\n",
    "                        \"key\": search_key,\n",
    "                        \"indexName\": search_index_name,\n",
    "                        \"roleInformation\": \"Act as an expert in the R programming language and the Bioconductor suite of packages.  ​\\n\\nYour job is to advise users on the usage of the various Bioconductor packages considering the documents you have in the data store.  ​\\n\\nTo complete this task, you can use the data you have stored that contain the vignettes of all the packages in Bioconductor and all the reference files of every function in every package of Bioconductor. ​You may also answer some general R, general programming, or Biomedical information.\\n\\nIf you do not know the answer ask the user to refer to https://bioconductor.org. \\n\\nAdd a disclaimer at the end of each response saying this model works only on the top 500 most used Bioconductor packages.\"\n",
    "                    }\n",
    "                }\n",
    "            ]\n",
    "        }\n",
    "    )\n",
    "\n",
    "    print(f\"{completion.choices[0].message.role}: {completion.choices[0].message.content}\")\n",
    "\n",
    "    return"
   ]
  },
  {
   "cell_type": "code",
   "execution_count": 16,
   "metadata": {},
   "outputs": [
    {
     "name": "stdout",
     "output_type": "stream",
     "text": [
      "\n",
      "Context: {\"citations\": [{\"content\": \"1\\n\\n2\\n\\nSummarizedExperiment for\\nCoordinating Experimental\\nAssays, Samples, and Regions of\\nInterest\\nMartin Morgan, Valerie Obenchain, Jim Hester, Hervé Pagès\\n\\nRevised: 3 May, 2018\\n\\nContents\\n\\n1 Introduction\\n2 Anatomy of a SummarizedExperiment\\n\\n2.1 Assays\\n2.2 ‘Row’ (regions-of-interest) data\\n2.3 ‘Column’ (sample) data\\n2.4 Experiment-wide metadata\\n\\n3 Constructing a SummarizedExperiment\\n4 Common operations on SummarizedExperiment\\n\\n4.1 Subsetting\\n4.2 Getters and setters\\n4.3 Range-based operations\\n\\n5 Interactive visualization\\n6 Session information\\n\\nIntroduction\\nThe SummarizedExperiment  class is used to store rectangular matrices of experimental results,\\nwhich are commonly produced by sequencing and microarray experiments. Note that\\nSummarizedExperiment  can simultaneously manage several experimental results or assays  as\\n\\nlong as they be of the same dimensions.\\n\\nEach object stores observations of one or more samples, along with additional meta-data\\ndescribing both the observations (features) and samples (phenotypes).\\n\\nA key aspect of the SummarizedExperiment  class is the coordination of the meta-data and\\nassays when subsetting. For example, if you want to exclude a given sample you can do for both\\nthe meta-data and assay in one operation, which ensures the meta-data and observed data will\\nremain in sync. Improperly accounting for meta and observational data has resulted in a number of\\nincorrect results and retractions so this is a very desirable property.\\n\\nSummarizedExperiment  is in many ways similar to the historical ExpressionSet , the main\\ndistinction being that SummarizedExperiment  is more flexible in it’s row information, allowing\\nboth GRanges  based as well as those described by arbitrary DataFrame s. This makes it ideally\\nsuited to a variety of experiments, particularly sequencing based experiments such as RNA-Seq\\nand ChIp-Seq.\\n\\nAnatomy of a SummarizedExperiment\\nThe SummarizedExperiment package contains two classes: SummarizedExperiment  and\\nRangedSummarizedExperiment .\\n\\nSummarizedExperiment  is a matrix-like container where rows represent features of interest\\n(e.g. genes, transcripts, exons, etc.) and columns represent samples. The objects contain one or\\nmore assays, each represented by a matrix-like object of numeric or other mode. The rows of a\\nSummarizedExperiment  object represent features of interest. Information about these features is\\n\\nstored in a DataFrame  object, accessible using the function rowData() . Each row of the\\n\\n2.1\\n\\nDataFrame  provides information on the feature in the corresponding row of the\\nSummarizedExperiment  object. Columns of the DataFrame represent different attributes of the\\n\\nfeatures of interest, e.g., gene or transcript IDs, etc.\\n\\nRangedSummarizedExperiment  is the child of the SummarizedExperiment  class which means\\nthat all the methods on SummarizedExperiment  also work on a RangedSummarizedExperiment .\\n\\nThe fundamental difference between the two classes is that the rows of a\\nRangedSummarizedExperiment  object represent genomic ranges of interest instead of a\\nDataFrame  of features. The RangedSummarizedExperiment  ranges are described by a\\nGRanges  or a GRangesList  object, accessible using the rowRanges()  function.\\n\\nThe following graphic displays the class geometry and highlights the vertical (column) and\\nhorizontal (row) relationships.\\n\\nSummarized Experiment\\n\\nAssays\\nThe airway  package contains an example dataset from an RNA-Seq experiment of read counts\\nper gene for airway smooth muscles. These data are stored in a RangedSummarizedExperiment\\nobject which contains 8 different experimental and assays 64,102 gene transcripts.\\n\\nlibrary(SummarizedExperiment)\\ndata(airway, package=\\\"airway\\\")\\nse <- airway\\nse\\n\\n## class: RangedSummarizedExperiment \\n## dim: 63677 8 \\n## metadata(1): ''\\n## assays(1): counts\\n## rownames(63677): ENSG00000000003 ENSG00000000005 . ENSG00000273492\\n##  ENSG00000273493\\n## rowData names(10): gene_id gene_name\", \"id\": null, \"title\": \"1\", \"filepath\": \"SummarizedExperiment_SummarizedExperiment.pdf\", \"url\": \"https://hmsaistoragesandbox.blob.core.windows.net/fileupload-bioc-vignettes/SummarizedExperiment_SummarizedExperiment.pdf\", \"metadata\": {\"chunking\": \"orignal document size=1011. Scores=12.756254Org Highlight count=44.\"}, \"chunk_id\": \"0\"}, {\"content\": \"GDCprepare : Outputs\\n\\nExamples\\n\\nTCGAbiolinks: Downloading and preparing\\n�les for analysis\\n24 October 2023\\n\\nTCGAbiolinks has provided a few functions to download and prepare data from GDC for analysis. This section\\n\\nstarts by explaining the different downloads methods and the SummarizedExperiment object, which is the\\n\\ndefault data structure used in TCGAbiolinks, followed by some examples.\\n\\nDownloading and preparing data for analysis\\n\\nData download: Methods differences\\n\\nThere are two methods to download GDC data using TCGAbiolinks:\\n\\nclient : this method creates a MANIFEST �le and downloads the data using GDC Data Transfer\\n\\nTool (https://gdc.cancer.gov/access-data/gdc-data-transfer-tool) this method is more reliable but it\\n\\nmight be slower compared to the api method.\\n\\napi : this method uses the GDC Application Programming Interface (API)\\n\\n(https://gdc.cancer.gov/developers/gdc-application-programming-interface-api) to download the\\n\\ndata. This will create a MANIFEST �le and the data downloaded will be compressed into a tar.gz �le.\\n\\nIf the size and the number of the �les are too big this tar.gz will be too big which might have a high\\n\\nprobability of download failure. To solve that we created the files.per.chunk  argument which\\n\\nwill split the �les into small chunks, for example, if chunks.per.download  is equal to 10 we will\\n\\ndownload only 10 �les inside each tar.gz.\\n\\nData prepared: SummarizedExperiment object\\n\\nDownloading and preparing data for analysis\\n\\nhttps://gdc.cancer.gov/access-data/gdc-data-transfer-tool\\nhttps://gdc.cancer.gov/access-data/gdc-data-transfer-tool\\nhttps://gdc.cancer.gov/access-data/gdc-data-transfer-tool\\nhttps://gdc.cancer.gov/developers/gdc-application-programming-interface-api\\nhttps://gdc.cancer.gov/developers/gdc-application-programming-interface-api\\n\\nA SummarizedExperiment object\\n\\n(http://www.nature.com/nmeth/journal/v12/n2/�g_tab/nmeth.3252_F2.html) has three main matrices\\n\\nthat can be accessed using the SummarizedExperiment package\\n\\n(http://bioconductor.org/packages/SummarizedExperiment/)):\\n\\nSample matrix information is accessed via colData(data) : stores sample information.\\n\\nTCGAbiolinks will add indexed clinical data and subtype information from marker TCGA papers.\\n\\nAssay matrix information is accessed via assay(data) : stores molecular data\\n\\nFeature matrix information (gene information) is accessed via rowRanges(data) : stores metadata\\n\\nabout the features, including their genomic ranges\\n\\nSummarized Experiment: annotation information\\n\\nWhen using the function GDCprepare  there is an argument called SummarizedExperiment  which\\n\\nde�nes the output type a Summarized Experiment (default option) or a data frame. To create a\\n\\nsummarized Experiment object we annotate the data with genomic positions with last patch release\\n\\nversion of the genome available.\\n\\nAlso, the latest DNA methylation metadata is available at: http://zwdzwd.github.io/In�niumAnnotation\\n\\n(http://zwdzwd.github.io/In�niumAnnotation)\\n\\nsimpleWarning in �le.create(to[okay]) error\\n\\nIf you received the warning/error simpleWarning in file.create(to[okay])  try setting\\n\\ndirectory  as described by some users:\\n\\nhttps://github.com/BioinformaticsFMRP/TCGAbiolinks/issues/153#issuecomment-856385673\\n\\n(https://github.com/BioinformaticsFMRP/TCGAbiolinks/issues/153#issuecomment-856385673)\\n\\nin GDCprepare  and GDCdownload\\n\\n<simpleWarning in file.create(to[okay]): cannot create file . reason 'No such \\nfile or directory'>\\n\\nArguments\\nGDCdownload\\n\\nArgument Description\\n\\nquery A query for GDCquery function\\n\\ntoken\", \"id\": null, \"title\": \"GDCprepare : Outputs\", \"filepath\": \"TCGAbiolinks_download_prepare.pdf\", \"url\": \"https://hmsaistoragesandbox.blob.core.windows.net/fileupload-bioc-vignettes/TCGAbiolinks_download_prepare.pdf\", \"metadata\": {\"chunking\": \"orignal document size=995. Scores=11.332444Org Highlight count=18.\"}, \"chunk_id\": \"0\"}, {\"content\": \")\\n\\n## S4 method for signature 'SummarizedExperiment,SummarizedExperiment'\\ncomputeDeviations(object,\\nannotations, background_peaks = getBackgroundPeaks(object),\\nexpectation = computeExpectations(object))\\n\\n## S4 method for signature 'SummarizedExperiment,MatrixOrmatrix'\\ncomputeDeviations(object,\\nannotations, background_peaks = getBackgroundPeaks(object),\\nexpectation = computeExpectations(object))\\n\\n## S4 method for signature 'SummarizedExperiment,list'\\ncomputeDeviations(object, annotations,\\nbackground_peaks = getBackgroundPeaks(object),\\nexpectation = computeExpectations(object))\\n\\n## S4 method for signature 'SummarizedExperiment,missingOrNULL'\\ncomputeDeviations(object,\\nannotations, background_peaks = getBackgroundPeaks(object),\\nexpectation = computeExpectations(object))\\n\\n## S4 method for signature 'MatrixOrmatrix,SummarizedExperiment'\\ncomputeDeviations(object,\\nannotations, background_peaks, expectation = computeExpectations(object))\\n\\n## S4 method for signature 'MatrixOrmatrix,MatrixOrmatrix'\\ncomputeDeviations(object, annotations,\\nbackground_peaks, expectation = computeExpectations(object))\\n\\n## S4 method for signature 'MatrixOrmatrix,list'\\ncomputeDeviations(object, annotations,\\nbackground_peaks, expectation = computeExpectations(object))\\n\\n## S4 method for signature 'MatrixOrmatrix,missingOrNULL'\\ncomputeDeviations(object, annotations,\\nbackground_peaks, expectation = computeExpectations(object))\\n\\ncomputeDeviations 9\\n\\nArguments\\n\\nobject chromVARCounts object\\n\\nannotations chromVARAnnotations object\\n\\n. additional arguments\\nbackground_peaks\\n\\n(optional) background peaks matrix computed using getBackgroundPeaks, com-\\nputed internally with default paramaters if not provided\\n\\nexpectation (optional) expectations computed using computeExpectations, computed au-\\ntomatically if not provided\\n\\nDetails\\n\\nmultiprocessing using bplapply\\n\\nValue\\n\\nchromVARDeviations-class, which inherits from SummarizedExperiment, and has two assays:\\ndeviations and deviation scores.\\n\\nMethods (by class)\\n\\n• object = SummarizedExperiment,annotations = SummarizedExperiment: object and an-\\nnotations are SummarizedExperiment\\n\\n• object = SummarizedExperiment,annotations = MatrixOrmatrix: object is Summarized-\\nExperiment, annotations are Matrix\\n\\n• object = SummarizedExperiment,annotations = list: object is SummarizedExperiment,\\nannotations are list\\n\\n• object = SummarizedExperiment,annotations = missingOrNULL: object is Summarized-\\nExperiment, annotations are missing\\n\\n• object = MatrixOrmatrix,annotations = SummarizedExperiment: object and annotations\\nare SummarizedExperiment\\n\\n• object = MatrixOrmatrix,annotations = MatrixOrmatrix: object is SummarizedExperi-\\nment, annotations are Matrix\\n\\n• object = MatrixOrmatrix,annotations = list: object is SummarizedExperiment, annota-\\ntions are list\\n\\n• object = MatrixOrmatrix,annotations = missingOrNULL: object is SummarizedExperiment,\\nannotations are missing\\n\\nAuthor(s)\\n\\nAlicia Schep\\n\\nSee Also\\n\\ncomputeVariability, plotVariability\\n\\n10 computeExpectations\\n\\nExamples\\n\\n# Register BiocParallel\\nBiocParallel::register(BiocParallel::SerialParam())\\n# Load very small example counts (already filtered)\\ndata(mini_counts, package = \\\"chromVAR\\\")\\n# load annotation matrix; result from matchMotifs\\ndata(mini_ix, package = \\\"chromVAR\\\")\\n\\n# computing deviations\\ndev <- computeDeviations(object = mini_counts,\\n\\nannotations = mini_ix)\\n\\ncomputeExpectations computeExpectations\\n\\nDescription\\n\\ncomputeExpectations\\n\\nUsage\\n\\ncomputeExpectations(object,\", \"id\": null, \"title\": \"Package ‘chromVAR’\", \"filepath\": \"chromVAR_chromVAR.pdf\", \"url\": \"https://hmsaistoragesandbox.blob.core.windows.net/fileupload-bioc-vignettes/chromVAR_chromVAR.pdf\", \"metadata\": {\"chunking\": \"orignal document size=965. Scores=11.096917Org Highlight count=6.\"}, \"chunk_id\": \"0\"}, {\"content\": \"10 is_logged\\n\\nExamples\\n\\ndata(data_normalized)\\n\\n# Replace with values calculated using K-nearest neighbors\\nimpute_na(data_normalized, \\\"Area\\\", \\\"knn\\\", 10)\\n\\n# Replace with values calculated from the first K principal components\\nimpute_na(data_normalized, \\\"Area\\\", \\\"svd\\\", 3)\\n\\n# Replace with Maximum likelihood estimates\\nimpute_na(data_normalized, \\\"Area\\\", \\\"mle\\\")\\n\\n# Replace with randomly drawn values from a truncated distribution\\nimpute_na(data_normalized, \\\"Area\\\", \\\"QRILC\\\")\\n\\n# Replace with a minimal value\\nimpute_na(data_normalized, \\\"Area\\\", \\\"minDet\\\")\\n\\n# Replace with randomly drawn values from a Gaussian distribution\\n# cerntered around a minimal value\\nimpute_na(data_normalized, \\\"Area\\\", \\\"minProb\\\")\\n\\n# Replace with zero (not recommended)\\nimpute_na(data_normalized, \\\"Area\\\", \\\"zero\\\")\\n\\nis_logged Functions to get and set attributes of LipidomicsExperiment objects\\n\\nDescription\\n\\nFunctions to get and set attributes of LipidomicsExperiment objects\\n\\nUsage\\n\\nis_logged(data, measure)\\n\\nset_logged(data, measure, val)\\n\\nis_normalized(data, measure)\\n\\nset_normalized(data, measure, val)\\n\\nis_summarized(data)\\n\\nset_summarized(data, val)\\n\\nlipidDefaults 11\\n\\nArguments\\n\\ndata LipidomicsExperiment object.\\n\\nmeasure Which measure to get / set attributes of.\\n\\nval Value to be assigned to the attribute.\\n\\nValue\\n\\nModified LipidomicsExperiment.\\n\\nExamples\\n\\ndata(data_normalized)\\nis_logged(data_normalized, \\\"Area\\\")\\nis_summarized(data_normalized)\\n\\nlipidDefaults Default values for lipidr internal functions A set of default map-\\npings and annotation used internally to correctly parse lipid molecule\\nnames.\\n\\nDescription\\n\\nDefault values for lipidr internal functions A set of default mappings and annotation used internally\\nto correctly parse lipid molecule names.\\n\\nUsage\\n\\ndata(lipidDefaults)\\n\\nFormat\\n\\nAn object of class list of length 2.\\n\\nSee Also\\n\\nOther lipidr datasets: data_normalized, lipidnames_pattern, lipidr-data\\n\\nExamples\\n\\ndata(lipidDefaults)\\n\\n12 LipidomicsExperiment\\n\\nlipidnames_pattern Patterns used in parsing lipid names\\n\\nDescription\\n\\nA collection of patterns to extract lipid class and chain information from lipid names. Used inter-\\nnally by the package.\\n\\nUsage\\n\\ndata(lipidnames_pattern)\\n\\nFormat\\n\\nAn object of class list of length 8.\\n\\nSee Also\\n\\nOther lipidr datasets: data_normalized, lipidDefaults, lipidr-data\\n\\nExamples\\n\\ndata(lipidnames_pattern)\\n\\nLipidomicsExperiment Constructor for Lipidomics experiment from list of assays\\n\\nDescription\\n\\nConstructor for Lipidomics experiment from list of assays\\n\\nUsage\\n\\nLipidomicsExperiment(assay_list, metadata, colData = NULL, rowData = NULL)\\n\\nArguments\\n\\nassay_list A list or SimpleList of matrix-like elements, or a matrix-like object. Passed to\\nSummarizedExperiment().\\n\\nmetadata A list containing arbitrary information about the experiment. It should at least\\ncontain 2 elements:\\n\\n• dimnames 2-element character vector with dimension names\\n• summarized Has transitions been summarized?\\n\\ncolData An optional DataFrame describing the samples (contains clinical information).\\nRow names, if present, become the column names of the LipidomicsExperiment.\\n\\nLipidomicsExperiment-class 13\\n\\nrowData A DataFrame object describing the rows (contains generated lipid annotations).\\nRow names, if present, become the row names of the SummarizedExperiment\\nobject. The number of rows of the DataFrame must be equal to the number of\\nrows of the matrices in assays\", \"id\": null, \"title\": \"Package ‘lipidr’\", \"filepath\": \"lipidr_lipidr.pdf\", \"url\": \"https://hmsaistoragesandbox.blob.core.windows.net/fileupload-bioc-vignettes/lipidr_lipidr.pdf\", \"metadata\": {\"chunking\": \"orignal document size=941. Scores=12.464291Org Highlight count=29.\"}, \"chunk_id\": \"0\"}, {\"content\": \"samples\\n\\nAn object of class \\\"marrayInfo\\\"\\n\\n@maLabels\\n\\n[1] \\\"Swirl array 1\\\" \\\"Swirl array 2\\\" \\\"Swirl array 3\\\" \\\"Swirl array 4\\\"\\n\\n6\\n\\n@maInfo\\n\\nCy3 Cy5\\n\\n1 swirl WT\\n\\n2 WT swirl\\n\\n3 swirl WT\\n\\n4 WT swirl\\n\\n@maNotes\\n\\n[1] \\\"Description of targets for Swirl experiment\\\"\\n\\nSlots which are not speci�ed in new are initialized to the prototype for the corresponding class.\\nThese are usually \\\"empty\\\", e.g., matrix(0,0,0). In most cases, microarray objects can be created\\nautomatically using the input functions and their corresponding widgets in the marrayInput pack-\\nage. These were used to create the object swirl of class marrayRaw.\\n\\nAccessing slots. Di�erent components or slots of the microarray objects may be accessed using\\nthe operator @, or alternately, the function slot, which evaluates the slot name. For example, to\\naccess the maLayout slot in the object swirl and the maNgr slot in the layout object L\\n\\n> L<-slot(swirl, \\\"maLayout\\\")\\n\\n> L@maNgr\\n\\n[1] 4\\n\\nThe function slotNames can be used to get information on the slots of a formally de�ned class or\\nan instance of the class. For example, to get information on the slots for the marrayLayout class\\nor on the slots for the object swirl use\\n\\n> slotNames(\\\"marrayLayout\\\")\\n\\n[1] \\\"maNgr\\\" \\\"maNgc\\\" \\\"maNsr\\\" \\\"maNsc\\\" \\\"maNspots\\\"\\n\\n[6] \\\"maSub\\\" \\\"maPlate\\\" \\\"maControls\\\" \\\"maNotes\\\"\\n\\n> slotNames(swirl)\\n\\n[1] \\\"maRf\\\" \\\"maGf\\\" \\\"maRb\\\" \\\"maGb\\\" \\\"maW\\\" \\\"maLayout\\\"\\n\\n[7] \\\"maGnames\\\" \\\"maTargets\\\" \\\"maNotes\\\"\\n\\n3.6 Testing the validity of an object\\n\\nThe function validObject from the R package methods may be used to test the validity of an\\nobject with respect to its class de�nition. This function has two arguments: object, the object\\nto be tested; and test. If test is TRUE, the function returns a vector of strings describing the\\nproblems, if any.\\n\\n> validObject(maLayout(swirl), test=TRUE)\\n\\n[1] TRUE\\n\\n7\\n\\n4 Basic microarray methods\\n\\nThe following basic methods were de�ned to facilitate manipulation of microarray data objects. To\\nsee all methods available for a particular class, e.g., marrayLayout, or just the print methods\\n\\n> showMethods(classes=\\\"marrayLayout\\\")\\n\\n> showMethods(\\\"show\\\",classes=\\\"marrayLayout\\\")\\n\\n4.1 Printing methods for microarray objects\\n\\nSince there is usually no need to print out �uorescence intensities for thousands of genes, the print\\nmethod was overloaded for microarray classes by simple report generators. For an overview of the\\navailable microarray printing methods, type methods ? summary, or to see all summary methods\\nfor the session\\n\\n> showMethods(\\\"summary\\\")\\n\\nFunction: summary (package base)\\n\\nobject=\\\"ANY\\\"\\n\\nobject=\\\"marrayInfo\\\"\\n\\nobject=\\\"marrayLayout\\\"\\n\\nobject=\\\"marrayNorm\\\"\\n\\nobject=\\\"marrayRaw\\\"\\n\\nFor example, summary statistics for an object of class marrayRaw, such as swirl, can be obtained\\nby print(swirl) or simply swirl.\\n\\n> summary(swirl)\\n\\nPre-normalization intensity data: Object of class marrayRaw.\\n\\nNumber of arrays: 4 arrays.\\n\\nA) Layout of spots on the array:\\n\\nArray layout: Object of class marrayLayout.\\n\\nTotal number of spots: 8448\\n\\nDimensions of grid matrix: 4 rows by 4 cols\\n\\nDimensions of spot matrices: 22 rows by 24 cols\\n\\nCurrently working with a subset of 8448spots.\\n\\nControl spots:\\n\\nThere are 2 types of controls :\\n\\n0 1\\n\\n7680 768\\n\\n8\\n\\nNotes on layout:\\n\\nNo Input File\\n\\nB) Samples hybridized to the array:\\n\\nObject of class marrayInfo.\\n\\nmaLabels Names slide number experiment Cy3 experiment Cy5\\n\\n1 swirl.1.spot swirl.1.spot 81 swirl wild type\\n\\n2 swirl.2.spot swirl.2\", \"id\": null, \"title\": \"Introduction to the Bioconductor marray package :\", \"filepath\": \"marray_marrayClasses.pdf\", \"url\": \"https://hmsaistoragesandbox.blob.core.windows.net/fileupload-bioc-vignettes/marray_marrayClasses.pdf\", \"metadata\": {\"chunking\": \"orignal document size=1017. Scores=10.637165Org Highlight count=39.\"}, \"chunk_id\": \"0\"}], \"intent\": \"[\\\"Number of classes in Summarized Experiment package\\\"]\"}\n"
     ]
    }
   ],
   "source": [
    "# `context` is in the model_extra for Azure\n",
    "print(f\"\\nContext: {completion.choices[0].message.model_extra['context']['messages'][0]['content']}\")"
   ]
  },
  {
   "cell_type": "code",
   "execution_count": null,
   "metadata": {},
   "outputs": [],
   "source": [
    "## summarized experiment \n",
    "question = \"How many classes are there in the Summarized Experiment package? Just give me a number.\"\n",
    "\n",
    "ask_question(question)"
   ]
  },
  {
   "cell_type": "code",
   "execution_count": 19,
   "metadata": {},
   "outputs": [
    {
     "name": "stdout",
     "output_type": "stream",
     "text": [
      "assistant: DESeq2 estimates one size factor for each sample in your experiment. Therefore, if your experiment has 5 samples, DESeq2 will estimate 5 size factors [doc1][doc2].\n",
      "\n",
      "Please note that this information is based on the top 500 most used Bioconductor packages. For more specific or detailed information, please refer to the official Bioconductor documentation at https://bioconductor.org.\n"
     ]
    }
   ],
   "source": [
    "## DESeq2\n",
    "\n",
    "question = \"DESeq2 performs normalization by estimating size factors for each sample. If your experiment has 5 samples, how many size factors will DESeq2 estimate?\"\n",
    "\n",
    "ask_question(question)"
   ]
  },
  {
   "cell_type": "code",
   "execution_count": 21,
   "metadata": {},
   "outputs": [
    {
     "name": "stdout",
     "output_type": "stream",
     "text": [
      "assistant: In the context of a case-control study with 30 control samples and 30 case samples, when you fit a linear model using the limma package in R, you will estimate two coefficients. \n",
      "\n",
      "The first coefficient is the intercept, which represents the baseline level of gene expression in the reference group (usually the control group). The second coefficient is the slope, which represents the difference in gene expression between the case group and the control group. \n",
      "\n",
      "This is under the assumption that no additional covariates are included in the model. If additional covariates were included, there would be an additional coefficient estimated for each covariate [doc3].\n",
      "\n",
      "Please note that this model works only on the top 500 most used Bioconductor packages. For more specific information, please refer to https://bioconductor.org.\n"
     ]
    }
   ],
   "source": [
    "## Limma\n",
    "question = \"You use limma to analyze RNA-seq data from a case-control study with 30 control samples and 30 case samples. After fitting the linear model, how many coefficients will be estimated by limma for the gene expression data (assuming no additional covariates are included in the model)?\"\n",
    "\n",
    "ask_question(question)"
   ]
  },
  {
   "cell_type": "code",
   "execution_count": null,
   "metadata": {},
   "outputs": [],
   "source": []
  }
 ],
 "metadata": {
  "kernelspec": {
   "display_name": ".venv",
   "language": "python",
   "name": "python3"
  },
  "language_info": {
   "codemirror_mode": {
    "name": "ipython",
    "version": 3
   },
   "file_extension": ".py",
   "mimetype": "text/x-python",
   "name": "python",
   "nbconvert_exporter": "python",
   "pygments_lexer": "ipython3",
   "version": "3.11.8"
  }
 },
 "nbformat": 4,
 "nbformat_minor": 2
}
